{
 "cells": [
  {
   "cell_type": "code",
   "execution_count": 1,
   "metadata": {},
   "outputs": [],
   "source": [
    "import numpy as np\n",
    "import gym\n",
    "import tensorflow as tf\n",
    "from baselines.common.vec_env.subproc_vec_env import SubprocVecEnv\n",
    "from baselines.common.vec_env.dummy_vec_env import DummyVecEnv\n",
    "\n",
    "learning_rate = 0.001\n",
    "epochs_number = 10000\n",
    "batch_size = 256\n",
    "replay_buffer_size = 256*8\n",
    "\n",
    "env_name = 'MountainCar-v0'\n",
    "environments_count = 40\n",
    "\n",
    "# This code gets action and observation space sizes for 1D tasks\n",
    "env = gym.make(env_name)\n",
    "action_space = env.action_space.n if isinstance(env.action_space, gym.spaces.discrete.Discrete) else env.action_space.shape[0]\n",
    "observation_space = env.observation_space.n if isinstance(env.observation_space, gym.spaces.discrete.Discrete) else env.observation_space.shape[0]\n"
   ]
  },
  {
   "cell_type": "markdown",
   "metadata": {},
   "source": [
    "## Create environments vector"
   ]
  },
  {
   "cell_type": "code",
   "execution_count": 2,
   "metadata": {},
   "outputs": [],
   "source": [
    "def make_env(env_id, seed):\n",
    "    def _f():\n",
    "        env = gym.make(env_id)\n",
    "        env.seed(seed)\n",
    "        \n",
    "        # Desync environments\n",
    "        env.reset()\n",
    "        for i in range(int(env.spec.max_episode_steps*seed//environments_count)):\n",
    "            env.step(env.action_space.sample())\n",
    "        return env\n",
    "    return _f\n",
    "\n",
    "envs = [make_env(env_name, seed) for seed in range(environments_count)]\n",
    "envs = DummyVecEnv(envs)\n",
    "\n",
    "# observations = envs.reset()\n",
    "# for t in range(100):\n",
    "#     # print(envs.render(mode='human'))\n",
    "#     actions = np.stack([envs.action_space.sample() for _ in range(nproc)])\n",
    "#     observations, rewards, done, info = envs.step(actions)\n",
    "    "
   ]
  },
  {
   "cell_type": "markdown",
   "metadata": {},
   "source": [
    "## Create model architecture"
   ]
  },
  {
   "cell_type": "code",
   "execution_count": 3,
   "metadata": {
    "scrolled": true
   },
   "outputs": [
    {
     "name": "stderr",
     "output_type": "stream",
     "text": [
      "WARNING: Logging before flag parsing goes to stderr.\n",
      "W0714 23:14:50.349673 12248 deprecation.py:323] From <ipython-input-3-1f4d0d6654ce>:9: dense (from tensorflow.python.layers.core) is deprecated and will be removed in a future version.\n",
      "Instructions for updating:\n",
      "Use keras.layers.dense instead.\n",
      "W0714 23:14:50.352676 12248 deprecation.py:506] From C:\\Anaconda3\\lib\\site-packages\\tensorflow\\python\\ops\\init_ops.py:1251: calling VarianceScaling.__init__ (from tensorflow.python.ops.init_ops) with dtype is deprecated and will be removed in a future version.\n",
      "Instructions for updating:\n",
      "Call initializer instance with the dtype argument instead of passing it to the constructor\n"
     ]
    },
    {
     "name": "stdout",
     "output_type": "stream",
     "text": [
      "Tensor(\"Placeholder:0\", shape=(?, 2), dtype=float32)\n",
      "Tensor(\"ExpandDims:0\", shape=(?, 1), dtype=float32)\n"
     ]
    },
    {
     "name": "stderr",
     "output_type": "stream",
     "text": [
      "W0714 23:14:50.557086 12248 deprecation.py:323] From <ipython-input-3-1f4d0d6654ce>:13: multinomial (from tensorflow.python.ops.random_ops) is deprecated and will be removed in a future version.\n",
      "Instructions for updating:\n",
      "Use `tf.random.categorical` instead.\n"
     ]
    }
   ],
   "source": [
    "tf.reset_default_graph()\n",
    "\n",
    "state_ph = tf.placeholder(tf.float32, shape=[None, observation_space])\n",
    "print(state_ph)\n",
    "random_ph = tf.expand_dims(tf.random.normal(tf.gather_nd(tf.shape(state_ph), [[0]])), axis=-1)\n",
    "print(random_ph)\n",
    "input_l = tf.concat([state_ph, random_ph], axis=1)\n",
    "\n",
    "l1 = tf.layers.dense(input_l, units=32, activation=tf.nn.relu)\n",
    "output_linear = tf.layers.dense(l1, units=action_space)\n",
    "\n",
    "output = tf.nn.softmax(output_linear)\n",
    "action_op = tf.squeeze(tf.multinomial(logits=output_linear,num_samples=1), axis=1)\n",
    "#action_op = tf.expand_dims(tf.constant(1), axis=0)\n",
    "\n",
    "output_log = tf.nn.log_softmax(output_linear)\n",
    "\n",
    "weight_ph = tf.placeholder(shape=[None], dtype=tf.float32)\n",
    "action_ph = tf.placeholder(shape=[None], dtype=tf.int32)\n",
    "\n",
    "\n",
    "action_one_hot = tf.one_hot(action_ph, action_space)\n",
    "responsible_output_log = tf.reduce_sum(output_log * action_one_hot, axis=1)\n",
    "loss = -tf.reduce_mean(responsible_output_log * weight_ph)\n",
    "\n",
    "gradients = tf.gradients(loss, tf.trainable_variables())\n",
    "\n",
    "optimizer = tf.train.AdamOptimizer(learning_rate=learning_rate)\n",
    "update = optimizer.minimize(loss)"
   ]
  },
  {
   "cell_type": "code",
   "execution_count": 4,
   "metadata": {},
   "outputs": [],
   "source": [
    "config = tf.ConfigProto(device_count={'GPU': 0})\n",
    "sess = tf.Session(config=config)\n",
    "\n",
    "sess.run(tf.local_variables_initializer())\n",
    "sess.run(tf.global_variables_initializer())\n",
    "\n",
    "# sess.run(loss, feed_dict={weight_ph: [0, 1, 2],\n",
    "#                           action_ph: [1, 2, 3],\n",
    "#                           state_ph: [[1,2], [1,2], [1,2]]})"
   ]
  },
  {
   "cell_type": "code",
   "execution_count": 5,
   "metadata": {},
   "outputs": [
    {
     "data": {
      "text/plain": [
       "array([10,  9,  7,  4], dtype=int32)"
      ]
     },
     "execution_count": 5,
     "metadata": {},
     "output_type": "execute_result"
    }
   ],
   "source": [
    "def make_reward_to_go(reward):\n",
    "    return np.cumsum(reward[::-1])[::-1]\n",
    "\n",
    "make_reward_to_go(np.arange(1, 5))"
   ]
  },
  {
   "cell_type": "markdown",
   "metadata": {},
   "source": [
    "#TODO: подумать о последствиях слишком большого количества сэмплов в начале (решил рассинхронизацией)"
   ]
  },
  {
   "cell_type": "code",
   "execution_count": 6,
   "metadata": {},
   "outputs": [
    {
     "data": {
      "text/plain": [
       "array([[array([-0.40867016,  0.00438747], dtype=float32), 1, -33.0],\n",
       "       [array([-6.422737e-01, -5.099893e-04], dtype=float32), 0, -70.0],\n",
       "       [array([-0.5558407 ,  0.00681376], dtype=float32), 2, -52.0],\n",
       "       [array([-0.6658653 ,  0.00323729], dtype=float32), 0, -12.0],\n",
       "       [array([-0.6347436 ,  0.00908973], dtype=float32), 0, -7.0],\n",
       "       [array([-0.3987887 ,  0.00188263], dtype=float32), 0, -29.0],\n",
       "       [array([-0.41825902,  0.00497838], dtype=float32), 2, -35.0],\n",
       "       [array([-0.58512115,  0.00831314], dtype=float32), 0, -56.0]],\n",
       "      dtype=object)"
      ]
     },
     "execution_count": 6,
     "metadata": {},
     "output_type": "execute_result"
    }
   ],
   "source": [
    "def generate_batch(envs, batch_size, replay_buffer_size):\n",
    "    envs_number = envs.num_envs\n",
    "    observations = [[0 for i in range(observation_space)] for i in range(envs_number)]\n",
    "    replay_buffer = np.empty((0,3), np.float32)\n",
    "    \n",
    "    # [state, action, weight] rollout lists for every environment instance\n",
    "    rollouts = [np.empty((0, 3)) for i in range(envs_number)]\n",
    "\n",
    "    while True:\n",
    "        history = {'reward': []}\n",
    "        replay_buffer = replay_buffer[batch_size:]\n",
    "        \n",
    "        # Main sampling cycle\n",
    "        while len(replay_buffer) < replay_buffer_size:\n",
    "            actions = sess.run(action_op, feed_dict={state_ph: observations})\n",
    "            observations_old = observations\n",
    "            observations, rewards, dones, _ = envs.step(actions)\n",
    "            \n",
    "            \n",
    "            time_point = np.array(list(zip(observations_old, actions, rewards)))\n",
    "            for i in range(envs_number):\n",
    "                rollouts[i] = np.append(rollouts[i], [time_point[i]], axis=0) # Regular python append\n",
    "            \n",
    "            if dones.any():\n",
    "                if dones.all():\n",
    "                    print('WARNING: envs are in sync!!')\n",
    "                \n",
    "                done_indexes = np.arange(envs_number)[dones]\n",
    "                for i in done_indexes:\n",
    "                    #print(dones, i, len(rollouts[i][:, 2]))\n",
    "                    history['reward'].append(rollouts[i][:, 2].sum())\n",
    "\n",
    "                    rollouts[i][:, 2] = make_reward_to_go(rollouts[i][:, 2])\n",
    "                    replay_buffer = np.append(replay_buffer, rollouts[i], axis=0)\n",
    "                    rollouts[i] = np.empty((0, 3))\n",
    "                #history['reward'] = [np.mean(history['reward'])]\n",
    "        \n",
    "        np.random.shuffle(replay_buffer)\n",
    "        replay_buffer = replay_buffer[:replay_buffer_size] ### QUESTIONABLE\n",
    "        yield replay_buffer[:batch_size], history\n",
    "   \n",
    "a = generate_batch(envs, 8, 64)\n",
    "# Makes them of equal lenght\n",
    "for i in range(10):\n",
    "    next(a)\n",
    "next(a)[0]"
   ]
  },
  {
   "cell_type": "code",
   "execution_count": 7,
   "metadata": {},
   "outputs": [
    {
     "data": {
      "application/vnd.jupyter.widget-view+json": {
       "model_id": "bbfa5820486d42c4b03f732876e37f69",
       "version_major": 2,
       "version_minor": 0
      },
      "text/plain": [
       "HBox(children=(IntProgress(value=0, max=10000), HTML(value='')))"
      ]
     },
     "metadata": {},
     "output_type": "display_data"
    },
    {
     "name": "stdout",
     "output_type": "stream",
     "text": [
      "\n"
     ]
    }
   ],
   "source": [
    "from tqdm import tqdm_notebook\n",
    "\n",
    "history = {'reward': [], 'loss': [], 'gradients_max_abs': [], 'gradients_equal_zero': []}\n",
    "batch_generator = generate_batch(envs,\n",
    "                                 batch_size=batch_size,\n",
    "                                 replay_buffer_size=replay_buffer_size)\n",
    "# Makes them of equal lenght\n",
    "for i in range(10):\n",
    "    next(batch_generator)\n",
    "\n",
    "for epoch in tqdm_notebook(range(epochs_number)):\n",
    "    batch, batch_history = next(batch_generator)\n",
    "    history['reward'] += batch_history['reward']\n",
    "    \n",
    "    _, loss_, gradients_ = sess.run([update, loss, gradients], feed_dict={state_ph: np.array(batch[:, 0].tolist()),\n",
    "                                                    action_ph: batch[:, 1],\n",
    "                                                    weight_ph: batch[:, 2]})\n",
    "    \n",
    "    history['gradients_max_abs'].append(np.max([np.max(np.abs(var_grad)) for var_grad in gradients_]))\n",
    "    history['gradients_equal_zero'].append(np.sum([np.sum(var_grad == 0) for var_grad in gradients_]))\n",
    "    \n",
    "    history['loss'].append(loss_)\n"
   ]
  },
  {
   "cell_type": "markdown",
   "metadata": {},
   "source": [
    "## Plot results"
   ]
  },
  {
   "cell_type": "code",
   "execution_count": 8,
   "metadata": {},
   "outputs": [],
   "source": [
    "import matplotlib.pyplot as plt\n",
    "%matplotlib inline\n",
    "\n",
    "# Moving average\n",
    "def smoothen_curve(points, factor=0.9):\n",
    "    smoothed_points = []\n",
    "    for point in points:\n",
    "        if smoothed_points:\n",
    "            previous = smoothed_points[-1]\n",
    "            smoothed_points.append(previous * factor + point * (1 - factor))\n",
    "        else:\n",
    "            smoothed_points.append(point)\n",
    "    return smoothed_points\n",
    "\n",
    "\n",
    "def plot(array, title='', axis=plt):\n",
    "    axis.title.set_text(title)\n",
    "    axis.plot(np.arange(len(array)), smoothen_curve(array))    "
   ]
  },
  {
   "cell_type": "code",
   "execution_count": 12,
   "metadata": {},
   "outputs": [
    {
     "data": {
      "image/png": "[encoded data removed]",
      "text/plain": [
       "<Figure size 1152x648 with 4 Axes>"
      ]
     },
     "metadata": {
      "needs_background": "light"
     },
     "output_type": "display_data"
    }
   ],
   "source": [
    "fig, axs = plt.subplots(2, 2, figsize=(16, 9))\n",
    "plot(history['reward'], 'Reward', axs[0, 0])\n",
    "plot(history['loss'], 'Loss doesn’t measure performance', axs[0, 1])\n",
    "plot(history['gradients_max_abs'], 'Gradients max (not from adam)', axs[1, 0])\n",
    "\n",
    "parameters_number = np.sum([np.ones_like(g).sum() for g in gradients_])\n",
    "plot(history['gradients_equal_zero'], f'Gradients equal zero out of {int(parameters_number)} parameters', axs[1, 1])\n",
    "\n",
    "plt.savefig('logs/MountainCar-v0 drunk (given random numbers)')"
   ]
  },
  {
   "cell_type": "markdown",
   "metadata": {},
   "source": [
    "### This represents need for Advantage Estimation"
   ]
  },
  {
   "cell_type": "markdown",
   "metadata": {},
   "source": [
    "## Our agent"
   ]
  },
  {
   "cell_type": "code",
   "execution_count": 14,
   "metadata": {},
   "outputs": [
    {
     "name": "stdout",
     "output_type": "stream",
     "text": [
      "[[0. 1. 0.]] [[ -909.129      0.     -1670.6931]]\n",
      "[[0. 0. 1.]] [[ -993.2202 -2077.296      0.    ]]\n",
      "[[0. 1. 0.]] [[-3354.2686     0.     -6268.5605]]\n",
      "[[0. 0. 1.]] [[ -531.40137 -1091.0283      0.     ]]\n",
      "[[0. 1. 0.]] [[-3552.3813     0.     -6641.235 ]]\n",
      "[[0. 0. 1.]] [[-3304.2585 -7012.218      0.    ]]\n",
      "[[0. 0. 1.]] [[-2368.8186 -5015.8604     0.    ]]\n",
      "[[0. 1. 0.]] [[ -5921.854      0.    -11097.157]]\n",
      "[[0. 0. 1.]] [[ -913.5037 -1907.8862     0.    ]]\n",
      "[[0. 0. 1.]] [[ -865.86273 -1806.3567      0.     ]]\n",
      "[[0. 1. 0.]] [[ -6856.2075      0.     -12853.195 ]]\n",
      "[[0. 0. 1.]] [[-1564.0848 -3298.1782     0.    ]]\n",
      "[[0. 0. 1.]] [[-1943.154 -4108.103     0.   ]]\n",
      "[[0. 1. 0.]] [[-4853.4536     0.     -9089.496 ]]\n",
      "[[0. 0. 1.]] [[-2494.0513 -5285.3633     0.    ]]\n",
      "[[0. 0. 1.]] [[ -5686.0728 -12067.068       0.    ]]\n",
      "[[0. 0. 1.]] [[-3207.229 -6806.215     0.   ]]\n",
      "[[0. 0. 1.]] [[-1844.6031 -3899.266      0.    ]]\n",
      "[[0. 1. 0.]] [[-3790.0034     0.     -7091.3076]]\n",
      "[[0. 0. 1.]] [[-2273.6587 -4816.4023     0.    ]]\n",
      "[[0. 1. 0.]] [[-1549.3176     0.     -2878.585 ]]\n",
      "[[0. 1. 0.]] [[-2151.5059     0.     -4011.2363]]\n",
      "[[0. 1. 0.]] [[ -6601.0703      0.     -12374.878 ]]\n",
      "[[0. 0. 1.]] [[-120.47311 -218.81938    0.     ]]\n",
      "[[0. 1. 0.]] [[-333.3225     0.      -593.14197]]\n",
      "[[0. 1. 0.]] [[-2086.2405     0.     -3889.5396]]\n",
      "[[0. 1. 0.]] [[ -6657.7104      0.     -12481.062 ]]\n",
      "[[0. 1. 0.]] [[-4964.4614     0.     -9302.088 ]]\n",
      "[[0. 0. 1.]] [[-3824.7285 -8116.635      0.    ]]\n",
      "[[0. 1. 0.]] [[-5233.649     0.    -9808.541]]\n",
      "[[5.9296074e-10 2.5124164e-04 9.9974877e-01]] [[-2.1245893e+01 -8.2890949e+00 -2.5126160e-04]]\n",
      "[[0. 1. 0.]] [[-4926.194     0.    -9230.598]]\n",
      "[[0. 0. 1.]] [[-2949.148  -6258.3813     0.    ]]\n",
      "[[0. 1. 0.]] [[ -941.8458     0.     -1738.5796]]\n",
      "[[0. 0. 1.]] [[-1388.7826 -2929.397      0.    ]]\n",
      "[[0. 1. 0.]] [[-2919.7163     0.     -5457.76  ]]\n",
      "[[0. 1. 0.]] [[-4243.93       0.     -7947.7637]]\n",
      "[[0. 1. 0.]] [[-4033.698     0.    -7552.381]]\n",
      "[[0. 0. 1.]] [[-2381.295 -5049.044     0.   ]]\n",
      "[[0. 1. 0.]] [[-4559.094     0.    -8540.12 ]]\n",
      "[[0. 0. 1.]] [[-1719.9178 -3636.147      0.    ]]\n",
      "[[0. 1. 0.]] [[-4158.7295     0.     -7786.9863]]\n",
      "[[0. 1. 0.]] [[ -5555.02       0.    -10412.375]]\n",
      "[[0. 1. 0.]] [[-3596.1025     0.     -6728.6377]]\n",
      "[[0. 0. 1.]] [[-2368.0562 -5019.5947     0.    ]]\n",
      "[[0. 1. 0.]] [[-1987.9728     0.     -3704.249 ]]\n",
      "[[0. 0. 1.]] [[-1877.9039 -3972.1216     0.    ]]\n",
      "[[0. 1. 0.]] [[-3634.767      0.     -6800.3306]]\n",
      "[[0. 1. 0.]] [[ -5364.638      0.    -10052.873]]\n",
      "[[0. 1. 0.]] [[ -9334.828      0.    -17499.984]]\n",
      "[[0. 0. 1.]] [[-2928.018  -6213.6187     0.    ]]\n",
      "[[0. 1. 0.]] [[-2398.7568     0.     -4474.92  ]]\n",
      "[[0. 0. 1.]] [[-2471.456  -5237.7964     0.    ]]\n",
      "[[0. 1. 0.]] [[-371.67126    0.      -662.5714 ]]\n",
      "[[0. 1. 0.]] [[ -5638.5083      0.     -10565.952 ]]\n",
      "[[0. 1. 0.]] [[ -7999.8267      0.     -14997.176 ]]\n",
      "[[0. 1. 0.]] [[-1153.8723     0.     -2132.439 ]]\n",
      "[[0. 1. 0.]] [[ -8247.704      0.    -15461.887]]\n",
      "[[0. 1. 0.]] [[-1926.4094     0.     -3584.453 ]]\n",
      "[[0. 0. 1.]] [[-2893.686  -6137.0483     0.    ]]\n",
      "[[0. 0. 1.]] [[ -977.3451 -2043.6755     0.    ]]\n",
      "[[0. 0. 1.]] [[-1624.507  -3425.6287     0.    ]]\n",
      "[[0. 1. 0.]] [[ -6857.767      0.    -12856.096]]\n",
      "[[0. 0. 1.]] [[-2728.2434 -5782.5615     0.    ]]\n",
      "[[0. 1. 0.]] [[-2638.4326     0.     -4921.8477]]\n",
      "[[0. 1. 0.]] [[-2792.176     0.    -5210.786]]\n",
      "[[0. 0. 1.]] [[-3324.557 -7055.335     0.   ]]\n",
      "[[0. 1. 0.]] [[-5326.843     0.    -9976.702]]\n",
      "[[0. 1. 0.]] [[-2612.5437     0.     -4872.6826]]\n",
      "[[0. 1. 0.]] [[-5099.636     0.    -9549.32 ]]\n",
      "[[0. 1. 0.]] [[-3422.9636     0.     -6396.48  ]]\n",
      "[[0. 1. 0.]] [[ -7546.46       0.    -14147.238]]\n",
      "[[0. 1. 0.]] [[ -6707.681      0.    -12572.998]]\n",
      "[[0. 0. 1.]] [[ -657.30524 -1358.4403      0.     ]]\n",
      "[[0. 1. 0.]] [[ -5789.3506      0.     -10846.254 ]]\n",
      "[[0. 1. 0.]] [[-3517.643      0.     -6574.6387]]\n",
      "[[0. 1. 0.]] [[-370.40768    0.      -656.711  ]]\n",
      "[[0. 1. 0.]] [[-3668.609      0.     -6858.7266]]\n",
      "[[0. 0. 1.]] [[-1792.0249 -3782.5938     0.    ]]\n",
      "[[0. 1. 0.]] [[-250.38745    0.      -431.4474 ]]\n",
      "[[0. 1. 0.]] [[ -6384.372      0.    -11965.91 ]]\n",
      "[[0. 1. 0.]] [[-3946.8062     0.     -7382.542 ]]\n",
      "[[0. 0. 1.]] [[-1342.7064 -2823.7935     0.    ]]\n",
      "[[0. 0. 1.]] [[-4068.8313 -8634.869      0.    ]]\n",
      "[[0. 0. 1.]] [[ -714.03485 -1481.6372      0.     ]]\n",
      "[[0. 1. 0.]] [[-494.6769     0.      -892.24884]]\n",
      "[[0. 0. 1.]] [[-2877.8826 -6104.0283     0.    ]]\n",
      "[[0. 0. 1.]] [[-2840.0632 -6023.6387     0.    ]]\n",
      "[[0. 1. 0.]] [[ -738.95996     0.      -1352.6157 ]]\n",
      "[[0. 1. 0.]] [[-1565.9639     0.     -2908.0654]]\n",
      "[[0. 0. 1.]] [[-156.59639 -293.35046    0.     ]]\n"
     ]
    },
    {
     "ename": "KeyboardInterrupt",
     "evalue": "",
     "output_type": "error",
     "traceback": [
      "\u001b[1;31m---------------------------------------------------------------------------\u001b[0m",
      "\u001b[1;31mKeyboardInterrupt\u001b[0m                         Traceback (most recent call last)",
      "\u001b[1;32m<ipython-input-14-45840c84e036>\u001b[0m in \u001b[0;36m<module>\u001b[1;34m\u001b[0m\n\u001b[0;32m      2\u001b[0m \u001b[1;33m\u001b[0m\u001b[0m\n\u001b[0;32m      3\u001b[0m \u001b[1;32mfor\u001b[0m \u001b[0mi\u001b[0m \u001b[1;32min\u001b[0m \u001b[0mrange\u001b[0m\u001b[1;33m(\u001b[0m\u001b[1;36m1000\u001b[0m\u001b[1;33m)\u001b[0m\u001b[1;33m:\u001b[0m\u001b[1;33m\u001b[0m\u001b[1;33m\u001b[0m\u001b[0m\n\u001b[1;32m----> 4\u001b[1;33m     \u001b[0menv\u001b[0m\u001b[1;33m.\u001b[0m\u001b[0mrender\u001b[0m\u001b[1;33m(\u001b[0m\u001b[1;33m)\u001b[0m\u001b[1;33m\u001b[0m\u001b[1;33m\u001b[0m\u001b[0m\n\u001b[0m\u001b[0;32m      5\u001b[0m     \u001b[0mactions\u001b[0m\u001b[1;33m,\u001b[0m \u001b[0mout\u001b[0m\u001b[1;33m,\u001b[0m \u001b[0mout_log\u001b[0m \u001b[1;33m=\u001b[0m \u001b[0msess\u001b[0m\u001b[1;33m.\u001b[0m\u001b[0mrun\u001b[0m\u001b[1;33m(\u001b[0m\u001b[1;33m[\u001b[0m\u001b[0maction_op\u001b[0m\u001b[1;33m,\u001b[0m \u001b[0moutput\u001b[0m\u001b[1;33m,\u001b[0m \u001b[0moutput_log\u001b[0m\u001b[1;33m]\u001b[0m\u001b[1;33m,\u001b[0m \u001b[0mfeed_dict\u001b[0m\u001b[1;33m=\u001b[0m\u001b[1;33m{\u001b[0m\u001b[0mstate_ph\u001b[0m\u001b[1;33m:\u001b[0m \u001b[1;33m[\u001b[0m\u001b[0mobservations\u001b[0m\u001b[1;33m]\u001b[0m\u001b[1;33m}\u001b[0m\u001b[1;33m)\u001b[0m\u001b[1;33m\u001b[0m\u001b[1;33m\u001b[0m\u001b[0m\n\u001b[0;32m      6\u001b[0m     \u001b[0mprint\u001b[0m\u001b[1;33m(\u001b[0m\u001b[0mout\u001b[0m\u001b[1;33m,\u001b[0m \u001b[0mout_log\u001b[0m\u001b[1;33m)\u001b[0m\u001b[1;33m\u001b[0m\u001b[1;33m\u001b[0m\u001b[0m\n",
      "\u001b[1;32mC:\\Anaconda3\\lib\\site-packages\\gym\\core.py\u001b[0m in \u001b[0;36mrender\u001b[1;34m(self, mode, **kwargs)\u001b[0m\n\u001b[0;32m    228\u001b[0m \u001b[1;33m\u001b[0m\u001b[0m\n\u001b[0;32m    229\u001b[0m     \u001b[1;32mdef\u001b[0m \u001b[0mrender\u001b[0m\u001b[1;33m(\u001b[0m\u001b[0mself\u001b[0m\u001b[1;33m,\u001b[0m \u001b[0mmode\u001b[0m\u001b[1;33m=\u001b[0m\u001b[1;34m'human'\u001b[0m\u001b[1;33m,\u001b[0m \u001b[1;33m**\u001b[0m\u001b[0mkwargs\u001b[0m\u001b[1;33m)\u001b[0m\u001b[1;33m:\u001b[0m\u001b[1;33m\u001b[0m\u001b[1;33m\u001b[0m\u001b[0m\n\u001b[1;32m--> 230\u001b[1;33m         \u001b[1;32mreturn\u001b[0m \u001b[0mself\u001b[0m\u001b[1;33m.\u001b[0m\u001b[0menv\u001b[0m\u001b[1;33m.\u001b[0m\u001b[0mrender\u001b[0m\u001b[1;33m(\u001b[0m\u001b[0mmode\u001b[0m\u001b[1;33m,\u001b[0m \u001b[1;33m**\u001b[0m\u001b[0mkwargs\u001b[0m\u001b[1;33m)\u001b[0m\u001b[1;33m\u001b[0m\u001b[1;33m\u001b[0m\u001b[0m\n\u001b[0m\u001b[0;32m    231\u001b[0m \u001b[1;33m\u001b[0m\u001b[0m\n\u001b[0;32m    232\u001b[0m     \u001b[1;32mdef\u001b[0m \u001b[0mclose\u001b[0m\u001b[1;33m(\u001b[0m\u001b[0mself\u001b[0m\u001b[1;33m)\u001b[0m\u001b[1;33m:\u001b[0m\u001b[1;33m\u001b[0m\u001b[1;33m\u001b[0m\u001b[0m\n",
      "\u001b[1;32mC:\\Anaconda3\\lib\\site-packages\\gym\\envs\\classic_control\\mountain_car.py\u001b[0m in \u001b[0;36mrender\u001b[1;34m(self, mode)\u001b[0m\n\u001b[0;32m    116\u001b[0m         \u001b[0mself\u001b[0m\u001b[1;33m.\u001b[0m\u001b[0mcartrans\u001b[0m\u001b[1;33m.\u001b[0m\u001b[0mset_rotation\u001b[0m\u001b[1;33m(\u001b[0m\u001b[0mmath\u001b[0m\u001b[1;33m.\u001b[0m\u001b[0mcos\u001b[0m\u001b[1;33m(\u001b[0m\u001b[1;36m3\u001b[0m \u001b[1;33m*\u001b[0m \u001b[0mpos\u001b[0m\u001b[1;33m)\u001b[0m\u001b[1;33m)\u001b[0m\u001b[1;33m\u001b[0m\u001b[1;33m\u001b[0m\u001b[0m\n\u001b[0;32m    117\u001b[0m \u001b[1;33m\u001b[0m\u001b[0m\n\u001b[1;32m--> 118\u001b[1;33m         \u001b[1;32mreturn\u001b[0m \u001b[0mself\u001b[0m\u001b[1;33m.\u001b[0m\u001b[0mviewer\u001b[0m\u001b[1;33m.\u001b[0m\u001b[0mrender\u001b[0m\u001b[1;33m(\u001b[0m\u001b[0mreturn_rgb_array\u001b[0m \u001b[1;33m=\u001b[0m \u001b[0mmode\u001b[0m\u001b[1;33m==\u001b[0m\u001b[1;34m'rgb_array'\u001b[0m\u001b[1;33m)\u001b[0m\u001b[1;33m\u001b[0m\u001b[1;33m\u001b[0m\u001b[0m\n\u001b[0m\u001b[0;32m    119\u001b[0m \u001b[1;33m\u001b[0m\u001b[0m\n\u001b[0;32m    120\u001b[0m     \u001b[1;32mdef\u001b[0m \u001b[0mget_keys_to_action\u001b[0m\u001b[1;33m(\u001b[0m\u001b[0mself\u001b[0m\u001b[1;33m)\u001b[0m\u001b[1;33m:\u001b[0m\u001b[1;33m\u001b[0m\u001b[1;33m\u001b[0m\u001b[0m\n",
      "\u001b[1;32mC:\\Anaconda3\\lib\\site-packages\\gym\\envs\\classic_control\\rendering.py\u001b[0m in \u001b[0;36mrender\u001b[1;34m(self, return_rgb_array)\u001b[0m\n\u001b[0;32m     89\u001b[0m \u001b[1;33m\u001b[0m\u001b[0m\n\u001b[0;32m     90\u001b[0m     \u001b[1;32mdef\u001b[0m \u001b[0mrender\u001b[0m\u001b[1;33m(\u001b[0m\u001b[0mself\u001b[0m\u001b[1;33m,\u001b[0m \u001b[0mreturn_rgb_array\u001b[0m\u001b[1;33m=\u001b[0m\u001b[1;32mFalse\u001b[0m\u001b[1;33m)\u001b[0m\u001b[1;33m:\u001b[0m\u001b[1;33m\u001b[0m\u001b[1;33m\u001b[0m\u001b[0m\n\u001b[1;32m---> 91\u001b[1;33m         \u001b[0mglClearColor\u001b[0m\u001b[1;33m(\u001b[0m\u001b[1;36m1\u001b[0m\u001b[1;33m,\u001b[0m\u001b[1;36m1\u001b[0m\u001b[1;33m,\u001b[0m\u001b[1;36m1\u001b[0m\u001b[1;33m,\u001b[0m\u001b[1;36m1\u001b[0m\u001b[1;33m)\u001b[0m\u001b[1;33m\u001b[0m\u001b[1;33m\u001b[0m\u001b[0m\n\u001b[0m\u001b[0;32m     92\u001b[0m         \u001b[0mself\u001b[0m\u001b[1;33m.\u001b[0m\u001b[0mwindow\u001b[0m\u001b[1;33m.\u001b[0m\u001b[0mclear\u001b[0m\u001b[1;33m(\u001b[0m\u001b[1;33m)\u001b[0m\u001b[1;33m\u001b[0m\u001b[1;33m\u001b[0m\u001b[0m\n\u001b[0;32m     93\u001b[0m         \u001b[0mself\u001b[0m\u001b[1;33m.\u001b[0m\u001b[0mwindow\u001b[0m\u001b[1;33m.\u001b[0m\u001b[0mswitch_to\u001b[0m\u001b[1;33m(\u001b[0m\u001b[1;33m)\u001b[0m\u001b[1;33m\u001b[0m\u001b[1;33m\u001b[0m\u001b[0m\n",
      "\u001b[1;32mC:\\Anaconda3\\lib\\site-packages\\pyglet\\gl\\lib.py\u001b[0m in \u001b[0;36merrcheck\u001b[1;34m(result, func, arguments)\u001b[0m\n\u001b[0;32m    100\u001b[0m         \u001b[1;32mraise\u001b[0m \u001b[0mGLException\u001b[0m\u001b[1;33m(\u001b[0m\u001b[1;34m'No GL context; create a Window first'\u001b[0m\u001b[1;33m)\u001b[0m\u001b[1;33m\u001b[0m\u001b[1;33m\u001b[0m\u001b[0m\n\u001b[0;32m    101\u001b[0m     \u001b[1;32mif\u001b[0m \u001b[1;32mnot\u001b[0m \u001b[0mcontext\u001b[0m\u001b[1;33m.\u001b[0m\u001b[0m_gl_begin\u001b[0m\u001b[1;33m:\u001b[0m\u001b[1;33m\u001b[0m\u001b[1;33m\u001b[0m\u001b[0m\n\u001b[1;32m--> 102\u001b[1;33m         \u001b[0merror\u001b[0m \u001b[1;33m=\u001b[0m \u001b[0mgl\u001b[0m\u001b[1;33m.\u001b[0m\u001b[0mglGetError\u001b[0m\u001b[1;33m(\u001b[0m\u001b[1;33m)\u001b[0m\u001b[1;33m\u001b[0m\u001b[1;33m\u001b[0m\u001b[0m\n\u001b[0m\u001b[0;32m    103\u001b[0m         \u001b[1;32mif\u001b[0m \u001b[0merror\u001b[0m\u001b[1;33m:\u001b[0m\u001b[1;33m\u001b[0m\u001b[1;33m\u001b[0m\u001b[0m\n\u001b[0;32m    104\u001b[0m             \u001b[0mmsg\u001b[0m \u001b[1;33m=\u001b[0m \u001b[0mctypes\u001b[0m\u001b[1;33m.\u001b[0m\u001b[0mcast\u001b[0m\u001b[1;33m(\u001b[0m\u001b[0mgl\u001b[0m\u001b[1;33m.\u001b[0m\u001b[0mgluErrorString\u001b[0m\u001b[1;33m(\u001b[0m\u001b[0merror\u001b[0m\u001b[1;33m)\u001b[0m\u001b[1;33m,\u001b[0m \u001b[0mctypes\u001b[0m\u001b[1;33m.\u001b[0m\u001b[0mc_char_p\u001b[0m\u001b[1;33m)\u001b[0m\u001b[1;33m.\u001b[0m\u001b[0mvalue\u001b[0m\u001b[1;33m\u001b[0m\u001b[1;33m\u001b[0m\u001b[0m\n",
      "\u001b[1;31mKeyboardInterrupt\u001b[0m: "
     ]
    }
   ],
   "source": [
    "observations = env.reset()\n",
    "\n",
    "for i in range(1000):\n",
    "    env.render()\n",
    "    actions, out, out_log = sess.run([action_op, output, output_log], feed_dict={state_ph: [observations]})\n",
    "    print(out, out_log)\n",
    "    observations_old = observations\n",
    "    observations, rewards, dones, _ = env.step(actions[0])\n",
    "    \n",
    "    if dones:\n",
    "        observations = env.reset()\n",
    "        print('Done')\n"
   ]
  },
  {
   "cell_type": "markdown",
   "metadata": {},
   "source": [
    "## Random agent"
   ]
  },
  {
   "cell_type": "code",
   "execution_count": 11,
   "metadata": {},
   "outputs": [
    {
     "name": "stdout",
     "output_type": "stream",
     "text": [
      "Done\n",
      "Done\n",
      "Done\n",
      "Done\n",
      "Done\n"
     ]
    }
   ],
   "source": [
    "observations = env.reset()\n",
    "\n",
    "for i in range(1000):\n",
    "    env.render()\n",
    "    actions = [envs.action_space.sample() for i in range(envs.num_envs)]\n",
    "    observations_old = observations\n",
    "    observations, rewards, dones, _ = env.step(actions[0])\n",
    "    \n",
    "    if dones:\n",
    "        observations = env.reset()\n",
    "        print('Done')\n",
    "    "
   ]
  }
 ],
 "metadata": {
  "kernelspec": {
   "display_name": "Python 3",
   "language": "python",
   "name": "python3"
  },
  "language_info": {
   "codemirror_mode": {
    "name": "ipython",
    "version": 3
   },
   "file_extension": ".py",
   "mimetype": "text/x-python",
   "name": "python",
   "nbconvert_exporter": "python",
   "pygments_lexer": "ipython3",
   "version": "3.7.3"
  }
 },
 "nbformat": 4,
 "nbformat_minor": 2
}

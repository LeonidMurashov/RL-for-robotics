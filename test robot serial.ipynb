{
 "cells": [
  {
   "cell_type": "code",
   "execution_count": 26,
   "metadata": {},
   "outputs": [],
   "source": [
    "import serial.tools.list_ports\n",
    "import multiprocessing, threading\n",
    "import serial\n",
    "import time\n",
    "import json\n",
    "import os, sys\n",
    "\n",
    "#   Servos: 5, 6, 7, 9, 10, 11, 13, 14, 15\n",
    "#           16, 17, 18, 20, 21, 22, 24, 25, 26, 31   \n",
    "#   Pomoco: \n",
    "#       - move servo:\n",
    "#           500 - 90 left\n",
    "#           1500 - 0 center\n",
    "#           2500 - 90 right\n",
    "#\n",
    "\n",
    "class SerialConnection():\n",
    "    def write(self, msg):\n",
    "        self.arduino_serial.write(msg)\n",
    "\n",
    "    def read(self):\n",
    "        print(\"Start listening serial process\")\n",
    "\n",
    "        while not self.reading_stopped.is_set():\n",
    "            serial_data = \"\"\n",
    "            try:\n",
    "                serial_data = self.arduino_serial.readline()\n",
    "            except:\n",
    "                exc_type, err_msg = sys.exc_info()[:2]\n",
    "                print(f\"error reading port: {err_msg}\")\n",
    "                self.reading_stopped.set()\n",
    "                break\n",
    "            \n",
    "            if len(serial_data) > 0:\n",
    "                serial_data = serial_data.decode(\"utf-8\")\n",
    "                serial_data = str(serial_data).replace(\"\\r\\n\", \"\")\n",
    "                serial_data = serial_data.replace(\"\\x000\", \"\")\n",
    "                self.reading_queue.put(serial_data)\n",
    "\n",
    "        print(\"port listening process was stopped\")\n",
    "        self.arduino_serial.close()\n",
    "\n",
    "    def receive(self):\n",
    "        print(\"Start receiving data process\")\n",
    "        while not self.reading_stopped.is_set():\n",
    "            if not self.reading_queue.empty():\n",
    "                serial_data = self.reading_queue.get()\n",
    "        print(\"recieving data process was stopped\")\n",
    "\n",
    "    def close(self):\n",
    "        self.reading_stopped.set()\n",
    "        self.arduino_serial.close()\n",
    "        self.read_process.join()\n",
    "        self.receive_process.join()\n",
    "        print('serial connection stopped')\n",
    "    \n",
    "    def find_arduino_port(self):\n",
    "        if (os.name == \"nt\"):\n",
    "            ports = list(serial.tools.list_ports.comports())        \n",
    "            for port in ports:\n",
    "                if self.device_id in port[2]:\n",
    "                    self.arduino_port = port[0]\n",
    "                    return\n",
    "            raise(Exception(\"arduino doesn`t connected\"))\n",
    "        else:\n",
    "            arduino_port = os.popen(\"dmesg | egrep ttyACM | cut -f3 -d: | tail -n1\").read().strip()\n",
    "            if arduino_port == \"\":\n",
    "                raise(Exception(\"arduino doesn`t connected\"))\n",
    "            else:\n",
    "                self.arduino_port = \"/dev/\"+arduino_port\n",
    "\n",
    "    def __init__(self, *args, **kwargs):\n",
    "        self.device_id = kwargs.get(\"device_id\", \"arduino\")\n",
    "        self.find_arduino_port()\n",
    "\n",
    "        self.arduino_serial = serial.Serial(\n",
    "            port=self.arduino_port,\n",
    "            baudrate=kwargs.get(\"baudrate\", 9600),\n",
    "            timeout=kwargs.get(\"timeout\", 1),\n",
    "        )\n",
    "\n",
    "        self.reading_queue = multiprocessing.Queue()\n",
    "        self.reading_stopped = threading.Event()\n",
    "        self.read_process = threading.Thread(target=self.read)\n",
    "        self.receive_process = threading.Thread(target=self.receive)\n",
    "\n",
    "        self.read_process.start()\n",
    "        self.receive_process.start()\n",
    "\n",
    "class ServotorAPI():\n",
    "    def kill_all_servos(self):\n",
    "        self.rotate_servos([255]*18)\n",
    "\n",
    "    def close_connection(self):\n",
    "        self.robot_serial.close()\n",
    "\n",
    "    def rotate_servos(self, angles):\n",
    "        if len(angles) != 18:\n",
    "            raise(Exception(\"not 18 servos\"))\n",
    "\n",
    "        for i in range(12, 18):\n",
    "            angles[i] = (180 - angles[i]) if angles[i] <= 180 else 255\n",
    "    \n",
    "        self.robot_serial.write(bytes(angles))\n",
    "        \n",
    "    def reset(self):\n",
    "        s.rotate_servos([-(i > 5) * 45 + 90 for i in range(18)])\n",
    "        \n",
    "    def __init__(self, *args, **kwargs):\n",
    "        robot_serial_config = kwargs.get(\"serial\", {})\n",
    "        robot_serial_config[\"device_id\"] = \"VID:PID=2A03:0043\"\n",
    "        self.degree_type = kwargs.get(\"degree_type\", \"std\")\n",
    "        self.robot_serial = SerialConnection(**robot_serial_config)"
   ]
  },
  {
   "cell_type": "code",
   "execution_count": 29,
   "metadata": {
    "scrolled": false
   },
   "outputs": [
    {
     "name": "stdout",
     "output_type": "stream",
     "text": [
      "Start listening serial process\n",
      "Start receiving data process\n"
     ]
    }
   ],
   "source": [
    "s = ServotorAPI(degree_type=\"std\")"
   ]
  },
  {
   "cell_type": "code",
   "execution_count": 31,
   "metadata": {},
   "outputs": [
    {
     "ename": "KeyboardInterrupt",
     "evalue": "",
     "output_type": "error",
     "traceback": [
      "\u001b[1;31m---------------------------------------------------------------------------\u001b[0m",
      "\u001b[1;31mKeyboardInterrupt\u001b[0m                         Traceback (most recent call last)",
      "\u001b[1;32m<ipython-input-31-cc0acd7fd5ef>\u001b[0m in \u001b[0;36m<module>\u001b[1;34m\u001b[0m\n\u001b[0;32m      5\u001b[0m \u001b[1;32mfor\u001b[0m \u001b[0mn\u001b[0m \u001b[1;32min\u001b[0m \u001b[0mrange\u001b[0m\u001b[1;33m(\u001b[0m\u001b[1;36m180000\u001b[0m\u001b[1;33m)\u001b[0m\u001b[1;33m:\u001b[0m\u001b[1;33m\u001b[0m\u001b[1;33m\u001b[0m\u001b[0m\n\u001b[0;32m      6\u001b[0m     \u001b[0ms\u001b[0m\u001b[1;33m.\u001b[0m\u001b[0mrotate_servos\u001b[0m\u001b[1;33m(\u001b[0m\u001b[1;33m[\u001b[0m\u001b[1;36m255\u001b[0m \u001b[1;33m*\u001b[0m \u001b[1;33m(\u001b[0m\u001b[0mi\u001b[0m \u001b[1;33m!=\u001b[0m \u001b[1;36m17\u001b[0m\u001b[1;33m)\u001b[0m \u001b[1;33m+\u001b[0m \u001b[1;33m(\u001b[0m\u001b[1;36m90\u001b[0m \u001b[1;33m+\u001b[0m \u001b[0mn\u001b[0m \u001b[1;33m%\u001b[0m\u001b[1;36m90\u001b[0m\u001b[1;33m)\u001b[0m \u001b[1;33m*\u001b[0m \u001b[1;33m(\u001b[0m\u001b[0mi\u001b[0m \u001b[1;33m==\u001b[0m \u001b[1;36m17\u001b[0m\u001b[1;33m)\u001b[0m \u001b[1;32mfor\u001b[0m \u001b[0mi\u001b[0m \u001b[1;32min\u001b[0m \u001b[0mrange\u001b[0m\u001b[1;33m(\u001b[0m\u001b[1;36m18\u001b[0m\u001b[1;33m)\u001b[0m\u001b[1;33m]\u001b[0m\u001b[1;33m)\u001b[0m\u001b[1;33m\u001b[0m\u001b[1;33m\u001b[0m\u001b[0m\n\u001b[1;32m----> 7\u001b[1;33m     \u001b[0mtime\u001b[0m\u001b[1;33m.\u001b[0m\u001b[0msleep\u001b[0m\u001b[1;33m(\u001b[0m\u001b[1;36m0.01\u001b[0m\u001b[1;33m)\u001b[0m\u001b[1;33m\u001b[0m\u001b[1;33m\u001b[0m\u001b[0m\n\u001b[0m\u001b[0;32m      8\u001b[0m \u001b[1;33m\u001b[0m\u001b[0m\n\u001b[0;32m      9\u001b[0m \u001b[0ms\u001b[0m\u001b[1;33m.\u001b[0m\u001b[0mkill_all_servos\u001b[0m\u001b[1;33m(\u001b[0m\u001b[1;33m)\u001b[0m\u001b[1;33m\u001b[0m\u001b[1;33m\u001b[0m\u001b[0m\n",
      "\u001b[1;31mKeyboardInterrupt\u001b[0m: "
     ]
    }
   ],
   "source": [
    "import time\n",
    "s.kill_all_servos()\n",
    "s.reset()\n",
    "time.sleep(1)\n",
    "for n in range(180000):\n",
    "    s.rotate_servos([255 * (i != 17) + (90 + n %90) * (i == 17) for i in range(18)])\n",
    "    time.sleep(0.01)\n",
    "    \n",
    "s.kill_all_servos()"
   ]
  },
  {
   "cell_type": "code",
   "execution_count": 38,
   "metadata": {},
   "outputs": [
    {
     "name": "stdout",
     "output_type": "stream",
     "text": [
      "recieving data process was stoppedport listening process was stopped\n",
      "\n",
      "serial connection stopped\n"
     ]
    }
   ],
   "source": [
    "s.close_connection()"
   ]
  }
 ],
 "metadata": {
  "kernelspec": {
   "display_name": "Python 3",
   "language": "python",
   "name": "python3"
  },
  "language_info": {
   "codemirror_mode": {
    "name": "ipython",
    "version": 3
   },
   "file_extension": ".py",
   "mimetype": "text/x-python",
   "name": "python",
   "nbconvert_exporter": "python",
   "pygments_lexer": "ipython3",
   "version": "3.7.3"
  }
 },
 "nbformat": 4,
 "nbformat_minor": 2
}

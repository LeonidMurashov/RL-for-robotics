{
 "cells": [
  {
   "cell_type": "markdown",
   "metadata": {
    "colab_type": "text",
    "id": "zgKOo8wZhXq5"
   },
   "source": [
    "<h3 style=\"text-align: center;\"><b>FashionMNIST (5 баллов)</b></h3>"
   ]
  },
  {
   "cell_type": "markdown",
   "metadata": {
    "colab_type": "text",
    "id": "QhxGsNfGhXq6"
   },
   "source": [
    "Для обучения нейросетей на TensorFlow обычно используют либо модуль `.keras` (который, по сути, является Keras'ом, только обращение к нему происходит через TF), либо модуль `tf.Slim`. В этом задании Вам нужно самостоятельно написть обучение нейросети на датасете FashionMNIST и добиться качества (поклассового `accuracy`) **больше, чем 0.9**."
   ]
  },
  {
   "cell_type": "markdown",
   "metadata": {
    "colab_type": "text",
    "id": "W4-F0Z-thXq6"
   },
   "source": [
    "Бейзланом к этому заданию является официальный туториал TensorFlow: https://www.tensorflow.org/tutorials/keras/basic_classification"
   ]
  },
  {
   "cell_type": "markdown",
   "metadata": {
    "colab_type": "text",
    "id": "8-TnFZByhXq7"
   },
   "source": [
    "*Hint*: можно использовать свёрточные слои и слои не из туториала"
   ]
  },
  {
   "cell_type": "code",
   "execution_count": 1,
   "metadata": {},
   "outputs": [],
   "source": [
    "import tensorflow as tf\n",
    "import numpy as np"
   ]
  },
  {
   "cell_type": "code",
   "execution_count": 2,
   "metadata": {
    "colab": {},
    "colab_type": "code",
    "id": "-pR3GXbNhXq7"
   },
   "outputs": [],
   "source": [
    "fashion_mnist = tf.keras.datasets.fashion_mnist\n",
    "\n",
    "train_data, test_data = fashion_mnist.load_data()\n",
    "\n",
    "\n",
    "\n",
    "train_data = list(train_data)\n",
    "train_data[0] = train_data[0]\n",
    "train_data[1] = train_data[1]\n",
    "\n",
    "test_data = list(test_data)"
   ]
  },
  {
   "cell_type": "code",
   "execution_count": 3,
   "metadata": {},
   "outputs": [],
   "source": [
    "std = train_data[0].std()\n",
    "mean = train_data[0].mean()\n",
    "\n",
    "\n",
    "train_data[0] = (train_data[0] - mean) / std\n",
    "test_data[0] = (test_data[0] - mean) / std"
   ]
  },
  {
   "cell_type": "code",
   "execution_count": 4,
   "metadata": {
    "scrolled": true
   },
   "outputs": [
    {
     "name": "stderr",
     "output_type": "stream",
     "text": [
      "WARNING: Logging before flag parsing goes to stderr.\n",
      "W0709 15:27:54.914943 13688 deprecation.py:323] From <ipython-input-4-eeea536efc3f>:6: conv2d (from tensorflow.python.layers.convolutional) is deprecated and will be removed in a future version.\n",
      "Instructions for updating:\n",
      "Use `tf.keras.layers.Conv2D` instead.\n",
      "W0709 15:27:54.918974 13688 deprecation.py:506] From C:\\Anaconda3\\lib\\site-packages\\tensorflow\\python\\ops\\init_ops.py:1251: calling VarianceScaling.__init__ (from tensorflow.python.ops.init_ops) with dtype is deprecated and will be removed in a future version.\n",
      "Instructions for updating:\n",
      "Call initializer instance with the dtype argument instead of passing it to the constructor\n",
      "W0709 15:27:55.113267 13688 deprecation.py:323] From <ipython-input-4-eeea536efc3f>:7: max_pooling2d (from tensorflow.python.layers.pooling) is deprecated and will be removed in a future version.\n",
      "Instructions for updating:\n",
      "Use keras.layers.MaxPooling2D instead.\n",
      "W0709 15:27:55.242045 13688 deprecation.py:323] From <ipython-input-4-eeea536efc3f>:11: flatten (from tensorflow.python.layers.core) is deprecated and will be removed in a future version.\n",
      "Instructions for updating:\n",
      "Use keras.layers.flatten instead.\n",
      "W0709 15:27:55.485900 13688 deprecation.py:323] From <ipython-input-4-eeea536efc3f>:13: dense (from tensorflow.python.layers.core) is deprecated and will be removed in a future version.\n",
      "Instructions for updating:\n",
      "Use keras.layers.dense instead.\n"
     ]
    },
    {
     "name": "stdout",
     "output_type": "stream",
     "text": [
      "Tensor(\"flatten/Reshape:0\", shape=(?, 1600), dtype=float32)\n"
     ]
    },
    {
     "name": "stderr",
     "output_type": "stream",
     "text": [
      "W0709 15:27:55.897379 13688 deprecation.py:323] From C:\\Anaconda3\\lib\\site-packages\\tensorflow\\python\\ops\\losses\\losses_impl.py:121: add_dispatch_support.<locals>.wrapper (from tensorflow.python.ops.array_ops) is deprecated and will be removed in a future version.\n",
      "Instructions for updating:\n",
      "Use tf.where in 2.0, which has the same broadcast rule as np.where\n",
      "W0709 15:27:55.985264 13688 deprecation.py:506] From C:\\Anaconda3\\lib\\site-packages\\tensorflow\\python\\training\\rmsprop.py:119: calling Ones.__init__ (from tensorflow.python.ops.init_ops) with dtype is deprecated and will be removed in a future version.\n",
      "Instructions for updating:\n",
      "Call initializer instance with the dtype argument instead of passing it to the constructor\n"
     ]
    }
   ],
   "source": [
    "image = tf.placeholder(tf.float32, shape=[None, 28, 28])\n",
    "labels = tf.placeholder(tf.int64, shape=[None])\n",
    "labels_one_hot = tf.one_hot(labels, depth=10)\n",
    "# 086 sigm\n",
    "expanded = tf.expand_dims(image, 3)\n",
    "conv1 = tf.layers.conv2d(expanded, 128, (3, 3))\n",
    "pool1 = tf.layers.max_pooling2d(inputs=conv1, pool_size=[2, 2], strides=2)\n",
    "conv2 = tf.layers.conv2d(pool1, 64, (3, 3))\n",
    "pool2 = tf.layers.max_pooling2d(inputs=conv2, pool_size=[2, 2], strides=2)\n",
    "\n",
    "flattened = tf.layers.flatten(pool2)\n",
    "print(flattened)\n",
    "l1 = tf.layers.dense(flattened, units=128, activation=tf.nn.sigmoid)\n",
    "l2 = tf.layers.dense(l1, units=64, activation=tf.nn.sigmoid)\n",
    "output = tf.layers.dense(l2, units=10, activation='softmax')\n",
    "\n",
    "loss = tf.losses.softmax_cross_entropy(labels_one_hot, output)\n",
    "accuracy, accuracy_op = tf.metrics.accuracy(labels=tf.argmax(labels_one_hot, 1), \n",
    "                                            predictions=tf.argmax(output, 1))\n",
    "\n",
    "my_accuracy = tf.reduce_mean(tf.cast(tf.equal(tf.argmax(output, 1), labels), tf.float32))\n",
    "\n",
    "optimizer = tf.train.RMSPropOptimizer(0.001)\n",
    "train = optimizer.minimize(loss)"
   ]
  },
  {
   "cell_type": "code",
   "execution_count": 5,
   "metadata": {
    "scrolled": true
   },
   "outputs": [
    {
     "data": {
      "text/plain": [
       "[<tf.Variable 'conv2d/kernel:0' shape=(3, 3, 1, 128) dtype=float32_ref>,\n",
       " <tf.Variable 'conv2d/bias:0' shape=(128,) dtype=float32_ref>,\n",
       " <tf.Variable 'conv2d_1/kernel:0' shape=(3, 3, 128, 64) dtype=float32_ref>,\n",
       " <tf.Variable 'conv2d_1/bias:0' shape=(64,) dtype=float32_ref>,\n",
       " <tf.Variable 'dense/kernel:0' shape=(1600, 128) dtype=float32_ref>,\n",
       " <tf.Variable 'dense/bias:0' shape=(128,) dtype=float32_ref>,\n",
       " <tf.Variable 'dense_1/kernel:0' shape=(128, 64) dtype=float32_ref>,\n",
       " <tf.Variable 'dense_1/bias:0' shape=(64,) dtype=float32_ref>,\n",
       " <tf.Variable 'dense_2/kernel:0' shape=(64, 10) dtype=float32_ref>,\n",
       " <tf.Variable 'dense_2/bias:0' shape=(10,) dtype=float32_ref>]"
      ]
     },
     "execution_count": 5,
     "metadata": {},
     "output_type": "execute_result"
    }
   ],
   "source": [
    "tf.trainable_variables()"
   ]
  },
  {
   "cell_type": "code",
   "execution_count": 6,
   "metadata": {},
   "outputs": [],
   "source": [
    "def dataset_generator(dataset, batch_size=128):\n",
    "    i = 0\n",
    "    while True:\n",
    "        yield {\n",
    "                'data': dataset[0][i * batch_size:(i + 1) * batch_size],\n",
    "                'labels': dataset[1][i * batch_size:(i + 1) * batch_size] \n",
    "              }\n",
    "        i += 1\n",
    "        if i * batch_size >= len(dataset[0]):\n",
    "            i = 0"
   ]
  },
  {
   "cell_type": "code",
   "execution_count": null,
   "metadata": {
    "scrolled": true
   },
   "outputs": [
    {
     "data": {
      "application/vnd.jupyter.widget-view+json": {
       "model_id": "7f56b451f69a4f3eb4115fc0f767f897",
       "version_major": 2,
       "version_minor": 0
      },
      "text/plain": [
       "HBox(children=(IntProgress(value=0, max=15000), HTML(value='')))"
      ]
     },
     "metadata": {},
     "output_type": "display_data"
    }
   ],
   "source": [
    "from tqdm import tqdm_notebook\n",
    "with tf.device('/gpu:0'):\n",
    "    sess = tf.Session()\n",
    "    sess.run(tf.local_variables_initializer())\n",
    "    sess.run(tf.global_variables_initializer())\n",
    "\n",
    "    writer = tf.summary.FileWriter('.', sess.graph)\n",
    "\n",
    "    train_generator = dataset_generator(train_data)\n",
    "    test_generator = dataset_generator(test_data)\n",
    "    history = {'loss': [],\n",
    "               'val_loss': [],\n",
    "               'accuracy': [],\n",
    "               'val_accuracy': []}\n",
    "\n",
    "    for i in tqdm_notebook(range(15000)):\n",
    "        train_batch = next(train_generator)\n",
    "        test_batch = next(test_generator)\n",
    "\n",
    "        _, train_accuracy, train_loss = sess.run((train, my_accuracy, loss), \n",
    "                                             feed_dict={image: train_batch['data'], \n",
    "                                                        labels: train_batch['labels']})\n",
    "\n",
    "\n",
    "        val_accuracy, val_loss = sess.run((my_accuracy, loss), feed_dict={image: test_batch['data'], \n",
    "                                                                          labels: test_batch['labels']})\n",
    "\n",
    "        history['loss'].append(train_loss)\n",
    "        history['val_loss'].append(val_loss)\n",
    "        history['accuracy'].append(train_accuracy)\n",
    "        history['val_accuracy'].append(val_accuracy)"
   ]
  },
  {
   "cell_type": "code",
   "execution_count": null,
   "metadata": {},
   "outputs": [],
   "source": [
    "def smoothen_curve(points, factor=51):\n",
    "    from scipy.signal import savgol_filter\n",
    "    return savgol_filter(points, factor, 3) "
   ]
  },
  {
   "cell_type": "code",
   "execution_count": null,
   "metadata": {},
   "outputs": [],
   "source": [
    "import matplotlib.pyplot as plt\n",
    "%matplotlib inline\n",
    "\n",
    "fig, (ax1, ax2) = plt.subplots(1, 2, figsize=(16, 4))\n",
    "\n",
    "ax1.plot(np.arange(len(history['loss'])), smoothen_curve(history['loss']), label='train')\n",
    "ax1.plot(np.arange(len(history['val_loss'])), smoothen_curve(history['val_loss']), label='test')\n",
    "ax1.legend()\n",
    "ax1.set_title('Loss')\n",
    "\n",
    "ax2.plot(np.arange(len(history['accuracy'])), smoothen_curve(history['accuracy']), label='train')\n",
    "ax2.plot(np.arange(len(history['val_accuracy'])), smoothen_curve(history['val_accuracy']), label='test')\n",
    "ax2.set_title('Accuracy')\n",
    "ax2.legend()"
   ]
  },
  {
   "cell_type": "code",
   "execution_count": null,
   "metadata": {},
   "outputs": [],
   "source": [
    "validation_generator = dataset_generator(test_data, 1)\n",
    "s = 0\n",
    "for i in range(len(test_data[0])):\n",
    "    batch = next(validation_generator)\n",
    "    s += sess.run(my_accuracy, feed_dict={\n",
    "            image: batch['data'],\n",
    "            labels: batch['labels']\n",
    "        })\n",
    "print(s / len(test_data[0]))"
   ]
  },
  {
   "cell_type": "code",
   "execution_count": null,
   "metadata": {},
   "outputs": [],
   "source": []
  },
  {
   "cell_type": "markdown",
   "metadata": {
    "colab_type": "text",
    "id": "lR8EhwsWhXrG"
   },
   "source": [
    "#### CIFAR10:\n",
    "Бейзлайн по классификации CIFAR10: https://www.tensorflow.org/tutorials/images/deep_cnn  \n",
    "Там есть ссылки на файлы с кодом, который тоже можно прямо сюда вставлять, главное, чтобы качество в итоге получилось хорошим (формально порог не задан, будет смотреться у всех индивиуально)."
   ]
  },
  {
   "cell_type": "code",
   "execution_count": null,
   "metadata": {
    "colab": {},
    "colab_type": "code",
    "id": "4lf5gq3AhXrH"
   },
   "outputs": [],
   "source": [
    "<Покажите класс>"
   ]
  },
  {
   "cell_type": "code",
   "execution_count": null,
   "metadata": {
    "colab": {},
    "colab_type": "code",
    "id": "68NkYIq9hXrJ"
   },
   "outputs": [],
   "source": [
    "..."
   ]
  },
  {
   "cell_type": "code",
   "execution_count": null,
   "metadata": {
    "colab": {},
    "colab_type": "code",
    "id": "Yp0kFvK-hXrL"
   },
   "outputs": [],
   "source": []
  }
 ],
 "metadata": {
  "colab": {
   "collapsed_sections": [],
   "name": "[homework]tensorflow.ipynb",
   "provenance": [],
   "version": "0.3.2"
  },
  "kernelspec": {
   "display_name": "Python 3",
   "language": "python",
   "name": "python3"
  },
  "language_info": {
   "codemirror_mode": {
    "name": "ipython",
    "version": 3
   },
   "file_extension": ".py",
   "mimetype": "text/x-python",
   "name": "python",
   "nbconvert_exporter": "python",
   "pygments_lexer": "ipython3",
   "version": "3.7.3"
  }
 },
 "nbformat": 4,
 "nbformat_minor": 1
}

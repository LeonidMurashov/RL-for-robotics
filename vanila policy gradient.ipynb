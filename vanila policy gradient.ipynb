{
 "cells": [
  {
   "cell_type": "code",
   "execution_count": 1,
   "metadata": {},
   "outputs": [],
   "source": [
    "import numpy as np\n",
    "import gym\n",
    "import tensorflow as tf\n",
    "from baselines.common.vec_env.subproc_vec_env import SubprocVecEnv\n",
    "from baselines.common.vec_env.dummy_vec_env import DummyVecEnv\n",
    "\n",
    "learning_rate = 5e-4\n",
    "epochs_number = 10000\n",
    "batch_size = 32\n",
    "replay_buffer_size = 32\n",
    "l2_regularization = 0\n",
    "\n",
    "env_name = 'BipedalWalker-v2'\n",
    "environments_count = 24\n",
    "\n",
    "# This code gets action and observation space sizes for 1D tasks\n",
    "env = gym.make(env_name)\n",
    "action_space = env.action_space.n if isinstance(env.action_space, gym.spaces.discrete.Discrete) else env.action_space.shape[0]\n",
    "observation_space = env.observation_space.n if isinstance(env.observation_space, gym.spaces.discrete.Discrete) else env.observation_space.shape[0]\n"
   ]
  },
  {
   "cell_type": "markdown",
   "metadata": {},
   "source": [
    "## Create environments vector"
   ]
  },
  {
   "cell_type": "code",
   "execution_count": 2,
   "metadata": {},
   "outputs": [],
   "source": [
    "def make_env(env_id, seed):\n",
    "    def _f():\n",
    "        env = gym.make(env_id)\n",
    "        env.seed(seed)\n",
    "        \n",
    "        # Desync environments\n",
    "        env.reset()\n",
    "        for i in range(int(env.spec.max_episode_steps*seed//environments_count)):\n",
    "            env.step(env.action_space.sample())\n",
    "        return env\n",
    "    return _f\n",
    "\n",
    "envs = [make_env(env_name, seed) for seed in range(environments_count)]\n",
    "envs = DummyVecEnv(envs)"
   ]
  },
  {
   "cell_type": "markdown",
   "metadata": {},
   "source": [
    "## Define model architecture"
   ]
  },
  {
   "cell_type": "code",
   "execution_count": 3,
   "metadata": {},
   "outputs": [],
   "source": [
    "epsilon = 1e-8\n",
    "\n",
    "def gaussian_loglikelihood(x, mu, log_std):\n",
    "    pre_sum = -0.5 * (((x - mu) / (tf.exp(log_std) + epsilon))**2 + 2 * log_std + np.log(2 * np.pi))\n",
    "    return tf.reduce_sum(pre_sum, axis=1)"
   ]
  },
  {
   "cell_type": "code",
   "execution_count": 4,
   "metadata": {
    "scrolled": true
   },
   "outputs": [
    {
     "name": "stderr",
     "output_type": "stream",
     "text": [
      "WARNING: Logging before flag parsing goes to stderr.\n",
      "W0716 15:52:11.929486 20536 deprecation.py:323] From <ipython-input-4-e0f14cb426ef>:12: dense (from tensorflow.python.layers.core) is deprecated and will be removed in a future version.\n",
      "Instructions for updating:\n",
      "Use keras.layers.dense instead.\n",
      "W0716 15:52:11.935470 20536 deprecation.py:506] From C:\\Anaconda3\\lib\\site-packages\\tensorflow\\python\\ops\\init_ops.py:1251: calling VarianceScaling.__init__ (from tensorflow.python.ops.init_ops) with dtype is deprecated and will be removed in a future version.\n",
      "Instructions for updating:\n",
      "Call initializer instance with the dtype argument instead of passing it to the constructor\n",
      "W0716 15:52:12.221706 20536 deprecation.py:323] From C:\\Anaconda3\\lib\\site-packages\\tensorflow\\python\\ops\\math_grad.py:1205: add_dispatch_support.<locals>.wrapper (from tensorflow.python.ops.array_ops) is deprecated and will be removed in a future version.\n",
      "Instructions for updating:\n",
      "Use tf.where in 2.0, which has the same broadcast rule as np.where\n"
     ]
    }
   ],
   "source": [
    "tf.reset_default_graph()\n",
    "\n",
    "class ActorNetwork:\n",
    "    def __init__(self, )\n",
    "    state_ph = tf.placeholder(tf.float32, shape=[None, observation_space])\n",
    "\n",
    "    l1 = tf.layers.dense(state_ph, units=32, activation=tf.nn.relu)\n",
    "    mu = tf.layers.dense(l1, units=action_space)\n",
    "\n",
    "    log_std = tf.get_variable(name='log_std', initializer=-0.5 * np.ones(action_space, dtype=np.float32))\n",
    "    std = tf.exp(log_std)\n",
    "\n",
    "    action_op = mu + tf.random.normal(shape=tf.shape(mu)) * std\n",
    "\n",
    "\n",
    "    # Training\n",
    "    weight_ph = tf.placeholder(shape=[None], dtype=tf.float32)\n",
    "    action_ph = tf.placeholder(shape=[None, action_space], dtype=tf.float32)\n",
    "\n",
    "    action_logprob = gaussian_loglikelihood(action_ph, mu, log_std)\n",
    "    test_debug = (action_ph - mu)**2\n",
    "\n",
    "    all_params = tf.trainable_variables() \n",
    "    loss_l2 = tf.add_n([ tf.nn.l2_loss(v) for v in all_params ]) * l2_regularization\n",
    "\n",
    "    loss = -tf.reduce_mean(action_logprob * weight_ph) + loss_l2\n",
    "    gradients = tf.gradients(loss, tf.trainable_variables()) # For debug\n",
    "\n",
    "    optimizer = tf.train.AdamOptimizer(learning_rate=learning_rate)\n",
    "    update = optimizer.minimize(loss)\n",
    "    \n",
    "    \n",
    "class CriticNetwork:\n",
    "    state_ph = tf.placeholder(tf.float32, shape=[None, observation_space])\n",
    "\n",
    "    l1 = tf.layers.dense(state_ph, units=32, activation=tf.nn.relu)\n",
    "    mu = tf.layers.dense(l1, units=action_space)\n",
    "\n",
    "    log_std = tf.get_variable(name='log_std', initializer=-0.5 * np.ones(action_space, dtype=np.float32))\n",
    "    std = tf.exp(log_std)\n",
    "\n",
    "    action_op = mu + tf.random.normal(shape=tf.shape(mu)) * std\n",
    "\n",
    "\n",
    "    # Training\n",
    "    weight_ph = tf.placeholder(shape=[None], dtype=tf.float32)\n",
    "    action_ph = tf.placeholder(shape=[None, action_space], dtype=tf.float32)\n",
    "\n",
    "    action_logprob = gaussian_loglikelihood(action_ph, mu, log_std)\n",
    "    test_debug = (action_ph - mu)**2\n",
    "\n",
    "    all_params = tf.trainable_variables() \n",
    "    loss_l2 = tf.add_n([ tf.nn.l2_loss(v) for v in all_params ]) * l2_regularization\n",
    "\n",
    "    loss = -tf.reduce_mean(action_logprob * weight_ph) + loss_l2\n",
    "    gradients = tf.gradients(loss, tf.trainable_variables()) # For debug\n",
    "\n",
    "    optimizer = tf.train.AdamOptimizer(learning_rate=learning_rate)\n",
    "    update = optimizer.minimize(loss)\n",
    "    "
   ]
  },
  {
   "cell_type": "code",
   "execution_count": 5,
   "metadata": {},
   "outputs": [],
   "source": [
    "config = tf.ConfigProto(device_count={'GPU': 0})\n",
    "sess = tf.Session(config=config)\n",
    "\n",
    "sess.run(tf.local_variables_initializer())\n",
    "sess.run(tf.global_variables_initializer())\n",
    "\n",
    "# sess.run(loss, feed_dict={weight_ph: [0, 1, 2],\n",
    "#                           action_ph: [1, 2, 3],\n",
    "#                           state_ph: [[1,2], [1,2], [1,2]]})"
   ]
  },
  {
   "cell_type": "code",
   "execution_count": 6,
   "metadata": {},
   "outputs": [
    {
     "data": {
      "text/plain": [
       "array([10,  9,  7,  4], dtype=int32)"
      ]
     },
     "execution_count": 6,
     "metadata": {},
     "output_type": "execute_result"
    }
   ],
   "source": [
    "def make_reward_to_go(reward):\n",
    "    return np.cumsum(reward[::-1])[::-1]\n",
    "\n",
    "make_reward_to_go(np.arange(1, 5))"
   ]
  },
  {
   "cell_type": "markdown",
   "metadata": {},
   "source": [
    "#TODO: подумать о последствиях слишком большого количества сэмплов в начале (решил рассинхронизацией)"
   ]
  },
  {
   "cell_type": "code",
   "execution_count": 7,
   "metadata": {
    "scrolled": true
   },
   "outputs": [
    {
     "data": {
      "text/plain": [
       "array([[array([ 1.006674  ,  0.04161604, -0.0299828 , -0.04951331, -0.7175731 ,\n",
       "        0.37998322,  0.93524015,  0.        ,  0.        ,  1.1052227 ,\n",
       "       -0.22209989,  0.93442845,  0.        ,  0.        ,  0.45193088,\n",
       "        0.45706323,  0.4730594 ,  0.50189614,  0.5475723 ,  0.61765444,\n",
       "        0.7270329 ,  0.9082741 ,  1.        ,  1.        ], dtype=float32),\n",
       "        array([-1.0745206 ,  0.26531816, -0.84056675,  0.49224383], dtype=float32),\n",
       "        -105.607056],\n",
       "       [array([ 5.4301787e-02, -4.0061940e-03,  3.1292919e-02,  1.9009255e-02,\n",
       "       -8.0539161e-01, -6.4527057e-02,  2.5267798e-01,  1.3633715e-01,\n",
       "        1.0000000e+00,  1.1303291e+00, -8.1956387e-07,  9.3199909e-01,\n",
       "       -3.0315507e-03,  1.0000000e+00,  2.2480099e-01,  2.2735393e-01,\n",
       "        2.3531079e-01,  2.4965486e-01,  2.7237523e-01,  3.0723575e-01,\n",
       "        3.6164314e-01,  4.5179361e-01,  6.1873162e-01,  9.8800939e-01],\n",
       "      dtype=float32),\n",
       "        array([1.1000533 , 0.29449326, 1.0155095 , 0.55138314], dtype=float32),\n",
       "        -1.8803211],\n",
       "       [array([ 6.7557551e-02,  2.7745373e-03, -9.7071826e-03,  3.7435936e-03,\n",
       "       -8.1185883e-01,  7.1255490e-05, -6.7862225e-01, -9.7929448e-01,\n",
       "        0.0000000e+00,  1.1300316e+00, -2.3283735e-02,  9.3134844e-01,\n",
       "        1.8773289e-05,  1.0000000e+00,  2.1995656e-01,  2.2245449e-01,\n",
       "        2.3023988e-01,  2.4427484e-01,  2.6650560e-01,  3.0061489e-01,\n",
       "        3.5384977e-01,  4.4206062e-01,  6.0509884e-01,  9.7166133e-01],\n",
       "      dtype=float32),\n",
       "        array([0.6465684 , 0.62610424, 1.3856773 , 0.8596881 ], dtype=float32),\n",
       "        -12.0766325],\n",
       "       [array([ 6.1055135e-02,  5.4090276e-02, -5.8127232e-03, -1.9665919e-03,\n",
       "        5.9271328e-02, -3.7086609e-01,  9.2971855e-01,  2.1560963e-03,\n",
       "        1.0000000e+00,  4.7858495e-01,  3.5058710e-01,  9.3490648e-01,\n",
       "        3.4769375e-05,  0.0000000e+00,  4.7727758e-01,  4.8269778e-01,\n",
       "        4.9959108e-01,  5.3004515e-01,  5.7828307e-01,  6.5229583e-01,\n",
       "        7.6780874e-01,  9.5921493e-01,  1.0000000e+00,  1.0000000e+00],\n",
       "      dtype=float32),\n",
       "        array([-0.3764367,  0.9975827,  0.0564664,  1.9559028], dtype=float32),\n",
       "        -112.69931],\n",
       "       [array([ 0.06360935, -0.0285539 , -0.02572729,  0.09420776,  0.18819246,\n",
       "       -0.21169063,  0.7039833 ,  0.71780723,  1.        , -0.1848637 ,\n",
       "        0.99999976,  0.5263512 , -1.247165  ,  0.        ,  0.47702205,\n",
       "        0.48243934,  0.4993236 ,  0.5297614 ,  0.5779735 ,  0.6519466 ,\n",
       "        0.7673977 ,  0.95870143,  1.        ,  1.        ], dtype=float32),\n",
       "        array([-0.84677404,  1.1223421 ,  1.6737387 ,  0.6125178 ], dtype=float32),\n",
       "        -114.83452],\n",
       "       [array([-1.49541676e-01,  1.09709557e-02, -1.33461645e-02,  4.81357303e-04,\n",
       "        2.63136595e-01, -6.45230860e-02,  9.26145852e-01, -2.69620656e-03,\n",
       "        1.00000000e+00,  4.72574413e-01,  2.59618551e-01,  9.34907556e-01,\n",
       "        1.43647194e-05,  0.00000000e+00,  4.77248341e-01,  4.82668221e-01,\n",
       "        4.99560475e-01,  5.30012667e-01,  5.78247666e-01,  6.52255833e-01,\n",
       "        7.67761707e-01,  9.59156215e-01,  1.00000000e+00,  1.00000000e+00],\n",
       "      dtype=float32),\n",
       "        array([-1.368652  ,  0.33536208,  0.5637878 ,  0.89098996], dtype=float32),\n",
       "        -112.74585],\n",
       "       [array([ 0.0618239 ,  0.04510286,  0.02785639,  0.06144403,  0.33006546,\n",
       "       -0.65940773,  0.4104141 ,  0.4100784 ,  1.        , -0.22395894,\n",
       "       -0.9993911 ,  0.67154217,  0.89915365,  1.        ,  0.46304247,\n",
       "        0.468301  ,  0.48469046,  0.5142362 ,  0.5610354 ,  0.6328407 ,\n",
       "        0.7449084 ,  0.93060577,  1.        ,  1.        ], dtype=float32),\n",
       "        array([-0.17637959,  0.52953213,  1.3449094 ,  1.4572663 ], dtype=float32),\n",
       "        -115.02361],\n",
       "       [array([ 1.17075276e+00,  7.72545114e-02, -3.82440388e-02, -1.02063805e-01,\n",
       "       -6.44556701e-01, -2.68006504e-01,  7.17281580e-01,  9.99999940e-01,\n",
       "        0.00000000e+00,  7.85949886e-01, -1.00000024e+00,  9.34784174e-01,\n",
       "       -1.98682145e-07,  0.00000000e+00,  4.36602771e-01,  4.41561043e-01,\n",
       "        4.57014650e-01,  4.84873354e-01,  5.29000342e-01,  5.96705496e-01,\n",
       "        7.02374160e-01,  8.77468228e-01,  1.00000000e+00,  1.00000000e+00],\n",
       "      dtype=float32),\n",
       "        array([-0.15836248,  0.27390885,  0.17634524,  1.4612104 ], dtype=float32),\n",
       "        -104.4011]], dtype=object)"
      ]
     },
     "execution_count": 7,
     "metadata": {},
     "output_type": "execute_result"
    }
   ],
   "source": [
    "def generate_batch(envs, batch_size, replay_buffer_size):\n",
    "    envs_number = envs.num_envs\n",
    "    observations = [[0 for i in range(observation_space)] for i in range(envs_number)]\n",
    "    replay_buffer = np.empty((0,3), np.float32)\n",
    "    \n",
    "    # [state, action, weight] rollout lists for every environment instance\n",
    "    rollouts = [np.empty((0, 3)) for i in range(envs_number)]\n",
    "\n",
    "    while True:\n",
    "        history = {'reward': [], 'max_action': []}\n",
    "        replay_buffer = replay_buffer[batch_size:]\n",
    "        \n",
    "        # Main sampling cycle\n",
    "        while len(replay_buffer) < replay_buffer_size:\n",
    "            actions = sess.run(action_op, feed_dict={state_ph: observations})\n",
    "            observations_old = observations\n",
    "            observations, rewards, dones, _ = envs.step(actions)\n",
    "            \n",
    "            history['max_action'].append(np.abs(actions).max())\n",
    "            \n",
    "            time_point = np.array(list(zip(observations_old, actions, rewards)))\n",
    "            for i in range(envs_number):\n",
    "                rollouts[i] = np.append(rollouts[i], [time_point[i]], axis=0) # Regular python append\n",
    "            \n",
    "            if dones.any():\n",
    "                if dones.all():\n",
    "                    print('WARNING: envs are in sync!!')\n",
    "                \n",
    "                done_indexes = np.arange(envs_number)[dones]\n",
    "                for i in done_indexes:\n",
    "                    #print(dones, i, len(rollouts[i][:, 2]))\n",
    "                    history['reward'].append(rollouts[i][:, 2].sum())\n",
    "\n",
    "                    rollouts[i][:, 2] = make_reward_to_go(rollouts[i][:, 2])\n",
    "                    replay_buffer = np.append(replay_buffer, rollouts[i], axis=0)\n",
    "                    rollouts[i] = np.empty((0, 3))\n",
    "                #history['reward'] = [np.mean(history['reward'])]\n",
    "        \n",
    "        np.random.shuffle(replay_buffer)\n",
    "        replay_buffer = replay_buffer[:replay_buffer_size] ### QUESTIONABLE\n",
    "        yield replay_buffer[:batch_size], history\n",
    "\n",
    "a = generate_batch(envs, 8, 64)\n",
    "# Makes them of equal lenght\n",
    "for i in range(10):\n",
    "    next(a)\n",
    "next(a)[0]"
   ]
  },
  {
   "cell_type": "markdown",
   "metadata": {},
   "source": [
    "## Train agent "
   ]
  },
  {
   "cell_type": "code",
   "execution_count": 8,
   "metadata": {
    "scrolled": true
   },
   "outputs": [
    {
     "name": "stdout",
     "output_type": "stream",
     "text": [
      "Charging generators\n"
     ]
    },
    {
     "data": {
      "application/vnd.jupyter.widget-view+json": {
       "model_id": "f7f82f36cc0a437dabfd36a11ae496c5",
       "version_major": 2,
       "version_minor": 0
      },
      "text/plain": [
       "HBox(children=(IntProgress(value=0, max=10000), HTML(value='')))"
      ]
     },
     "metadata": {},
     "output_type": "display_data"
    },
    {
     "name": "stdout",
     "output_type": "stream",
     "text": [
      "Model saved in path: ./models/BipedalWalker-v2-reward--52.ckpt\n"
     ]
    },
    {
     "ename": "KeyboardInterrupt",
     "evalue": "",
     "output_type": "error",
     "traceback": [
      "\u001b[1;31m---------------------------------------------------------------------------\u001b[0m",
      "\u001b[1;31mKeyboardInterrupt\u001b[0m                         Traceback (most recent call last)",
      "\u001b[1;32m<ipython-input-8-8df791449fcb>\u001b[0m in \u001b[0;36m<module>\u001b[1;34m\u001b[0m\n\u001b[0;32m     17\u001b[0m \u001b[1;33m\u001b[0m\u001b[0m\n\u001b[0;32m     18\u001b[0m \u001b[1;32mfor\u001b[0m \u001b[0mepoch\u001b[0m \u001b[1;32min\u001b[0m \u001b[0mtqdm_notebook\u001b[0m\u001b[1;33m(\u001b[0m\u001b[0mrange\u001b[0m\u001b[1;33m(\u001b[0m\u001b[0mepochs_number\u001b[0m\u001b[1;33m)\u001b[0m\u001b[1;33m)\u001b[0m\u001b[1;33m:\u001b[0m\u001b[1;33m\u001b[0m\u001b[1;33m\u001b[0m\u001b[0m\n\u001b[1;32m---> 19\u001b[1;33m     \u001b[0mbatch\u001b[0m\u001b[1;33m,\u001b[0m \u001b[0mbatch_history\u001b[0m \u001b[1;33m=\u001b[0m \u001b[0mnext\u001b[0m\u001b[1;33m(\u001b[0m\u001b[0mbatch_generator\u001b[0m\u001b[1;33m)\u001b[0m\u001b[1;33m\u001b[0m\u001b[1;33m\u001b[0m\u001b[0m\n\u001b[0m\u001b[0;32m     20\u001b[0m     \u001b[0mhistory\u001b[0m\u001b[1;33m[\u001b[0m\u001b[1;34m'reward'\u001b[0m\u001b[1;33m]\u001b[0m \u001b[1;33m+=\u001b[0m \u001b[0mbatch_history\u001b[0m\u001b[1;33m[\u001b[0m\u001b[1;34m'reward'\u001b[0m\u001b[1;33m]\u001b[0m\u001b[1;33m\u001b[0m\u001b[1;33m\u001b[0m\u001b[0m\n\u001b[0;32m     21\u001b[0m     \u001b[0mhistory\u001b[0m\u001b[1;33m[\u001b[0m\u001b[1;34m'max_action'\u001b[0m\u001b[1;33m]\u001b[0m \u001b[1;33m+=\u001b[0m \u001b[0mbatch_history\u001b[0m\u001b[1;33m[\u001b[0m\u001b[1;34m'max_action'\u001b[0m\u001b[1;33m]\u001b[0m\u001b[1;33m\u001b[0m\u001b[1;33m\u001b[0m\u001b[0m\n",
      "\u001b[1;32m<ipython-input-7-93286c2de543>\u001b[0m in \u001b[0;36mgenerate_batch\u001b[1;34m(envs, batch_size, replay_buffer_size)\u001b[0m\n\u001b[0;32m     21\u001b[0m             \u001b[0mtime_point\u001b[0m \u001b[1;33m=\u001b[0m \u001b[0mnp\u001b[0m\u001b[1;33m.\u001b[0m\u001b[0marray\u001b[0m\u001b[1;33m(\u001b[0m\u001b[0mlist\u001b[0m\u001b[1;33m(\u001b[0m\u001b[0mzip\u001b[0m\u001b[1;33m(\u001b[0m\u001b[0mobservations_old\u001b[0m\u001b[1;33m,\u001b[0m \u001b[0mactions\u001b[0m\u001b[1;33m,\u001b[0m \u001b[0mrewards\u001b[0m\u001b[1;33m)\u001b[0m\u001b[1;33m)\u001b[0m\u001b[1;33m)\u001b[0m\u001b[1;33m\u001b[0m\u001b[1;33m\u001b[0m\u001b[0m\n\u001b[0;32m     22\u001b[0m             \u001b[1;32mfor\u001b[0m \u001b[0mi\u001b[0m \u001b[1;32min\u001b[0m \u001b[0mrange\u001b[0m\u001b[1;33m(\u001b[0m\u001b[0menvs_number\u001b[0m\u001b[1;33m)\u001b[0m\u001b[1;33m:\u001b[0m\u001b[1;33m\u001b[0m\u001b[1;33m\u001b[0m\u001b[0m\n\u001b[1;32m---> 23\u001b[1;33m                 \u001b[0mrollouts\u001b[0m\u001b[1;33m[\u001b[0m\u001b[0mi\u001b[0m\u001b[1;33m]\u001b[0m \u001b[1;33m=\u001b[0m \u001b[0mnp\u001b[0m\u001b[1;33m.\u001b[0m\u001b[0mappend\u001b[0m\u001b[1;33m(\u001b[0m\u001b[0mrollouts\u001b[0m\u001b[1;33m[\u001b[0m\u001b[0mi\u001b[0m\u001b[1;33m]\u001b[0m\u001b[1;33m,\u001b[0m \u001b[1;33m[\u001b[0m\u001b[0mtime_point\u001b[0m\u001b[1;33m[\u001b[0m\u001b[0mi\u001b[0m\u001b[1;33m]\u001b[0m\u001b[1;33m]\u001b[0m\u001b[1;33m,\u001b[0m \u001b[0maxis\u001b[0m\u001b[1;33m=\u001b[0m\u001b[1;36m0\u001b[0m\u001b[1;33m)\u001b[0m \u001b[1;31m# Regular python append\u001b[0m\u001b[1;33m\u001b[0m\u001b[1;33m\u001b[0m\u001b[0m\n\u001b[0m\u001b[0;32m     24\u001b[0m \u001b[1;33m\u001b[0m\u001b[0m\n\u001b[0;32m     25\u001b[0m             \u001b[1;32mif\u001b[0m \u001b[0mdones\u001b[0m\u001b[1;33m.\u001b[0m\u001b[0many\u001b[0m\u001b[1;33m(\u001b[0m\u001b[1;33m)\u001b[0m\u001b[1;33m:\u001b[0m\u001b[1;33m\u001b[0m\u001b[1;33m\u001b[0m\u001b[0m\n",
      "\u001b[1;32mC:\\Anaconda3\\lib\\site-packages\\numpy\\lib\\function_base.py\u001b[0m in \u001b[0;36mappend\u001b[1;34m(arr, values, axis)\u001b[0m\n\u001b[0;32m   4692\u001b[0m         \u001b[0mvalues\u001b[0m \u001b[1;33m=\u001b[0m \u001b[0mravel\u001b[0m\u001b[1;33m(\u001b[0m\u001b[0mvalues\u001b[0m\u001b[1;33m)\u001b[0m\u001b[1;33m\u001b[0m\u001b[1;33m\u001b[0m\u001b[0m\n\u001b[0;32m   4693\u001b[0m         \u001b[0maxis\u001b[0m \u001b[1;33m=\u001b[0m \u001b[0marr\u001b[0m\u001b[1;33m.\u001b[0m\u001b[0mndim\u001b[0m\u001b[1;33m-\u001b[0m\u001b[1;36m1\u001b[0m\u001b[1;33m\u001b[0m\u001b[1;33m\u001b[0m\u001b[0m\n\u001b[1;32m-> 4694\u001b[1;33m     \u001b[1;32mreturn\u001b[0m \u001b[0mconcatenate\u001b[0m\u001b[1;33m(\u001b[0m\u001b[1;33m(\u001b[0m\u001b[0marr\u001b[0m\u001b[1;33m,\u001b[0m \u001b[0mvalues\u001b[0m\u001b[1;33m)\u001b[0m\u001b[1;33m,\u001b[0m \u001b[0maxis\u001b[0m\u001b[1;33m=\u001b[0m\u001b[0maxis\u001b[0m\u001b[1;33m)\u001b[0m\u001b[1;33m\u001b[0m\u001b[1;33m\u001b[0m\u001b[0m\n\u001b[0m\u001b[0;32m   4695\u001b[0m \u001b[1;33m\u001b[0m\u001b[0m\n\u001b[0;32m   4696\u001b[0m \u001b[1;33m\u001b[0m\u001b[0m\n",
      "\u001b[1;31mKeyboardInterrupt\u001b[0m: "
     ]
    }
   ],
   "source": [
    "from tqdm import tqdm_notebook\n",
    "\n",
    "history = {'reward': [], 'loss': [], 'gradients_max_abs': [], 'gradients_equal_zero': [], 'max_action': []}\n",
    "batch_generator = generate_batch(envs,\n",
    "                                 batch_size=batch_size,\n",
    "                                 replay_buffer_size=replay_buffer_size)\n",
    "\n",
    "saver = tf.train.Saver()\n",
    "\n",
    "\n",
    "# Makes them of equal lenght\n",
    "print('Charging generators')\n",
    "for i in range(20):\n",
    "    next(batch_generator)\n",
    "\n",
    "max_value = -70\n",
    "\n",
    "for epoch in tqdm_notebook(range(epochs_number)):\n",
    "    batch, batch_history = next(batch_generator)\n",
    "    history['reward'] += batch_history['reward']\n",
    "    history['max_action'] += batch_history['max_action']\n",
    "\n",
    "    value = int(np.mean(history[\"reward\"][-10:]))\n",
    "    if max_value < value:\n",
    "        save_path = saver.save(sess, f'./models/{env_name}-reward-{value}.ckpt')\n",
    "        print(\"Model saved in path: %s\" % save_path)\n",
    "        max_value = value\n",
    "\n",
    "#     print(np.array(batch[:, 1].tolist()))\n",
    "#     print(batch[:, 1].tolist())\n",
    "\n",
    "#     arr = sess.run([log_std, std, action_logprob, action_op, mu, action_ph, test_debug], feed_dict={\n",
    "#                                                     state_ph: np.array(batch[:, 0].tolist()),\n",
    "#                                                     action_ph: np.array(batch[:, 1].tolist()),\n",
    "#                                                     weight_ph: batch[:, 2]})\n",
    "\n",
    "#     for k, name in zip(arr, ['log_std', 'std', 'action_logprob', 'action_op', 'mu', 'action_ph', 'test_debug']):\n",
    "#         print(k[0], name)\n",
    "#     #print(np.exp(e))\n",
    "#     print(f'--------- {epoch} ------------')\n",
    "\n",
    "\n",
    "    _, loss_, gradients_, mu_ = sess.run([update, loss, gradients, action_ph], feed_dict={\n",
    "                                                    state_ph: np.array(batch[:, 0].tolist()),\n",
    "                                                    action_ph: np.array(batch[:, 1].tolist()),\n",
    "                                                    weight_ph: batch[:, 2]})\n",
    "\n",
    "    \n",
    "    history['gradients_max_abs'].append(np.max([np.max(np.abs(var_grad)) for var_grad in gradients_]))\n",
    "    history['gradients_equal_zero'].append(np.sum([np.sum(var_grad == 0) for var_grad in gradients_]))    \n",
    "    history['loss'].append(loss_)\n"
   ]
  },
  {
   "cell_type": "markdown",
   "metadata": {},
   "source": [
    "Learning rate - очень чувствительный 1e-3 - не учится (взрывается до +беск), 1e-4 не сходится, 3e-4 ОК\n",
    "\n"
   ]
  },
  {
   "cell_type": "markdown",
   "metadata": {},
   "source": [
    "Похоже, что policy gradient должен иметь как можно более быстрый отклик от среды, иначе мы штрафуем его за действия из другого распределения, а их логарифм равен 0"
   ]
  },
  {
   "cell_type": "markdown",
   "metadata": {},
   "source": [
    "Кажется, теперь понятно зачем нужны trust region'ы - без них что-то происходит и policy умирает\n"
   ]
  },
  {
   "cell_type": "markdown",
   "metadata": {},
   "source": [
    "## Plot results"
   ]
  },
  {
   "cell_type": "code",
   "execution_count": 9,
   "metadata": {},
   "outputs": [],
   "source": [
    "import matplotlib.pyplot as plt\n",
    "%matplotlib inline\n",
    "\n",
    "# Moving average\n",
    "def smoothen_curve(points, factor=0.9):\n",
    "    smoothed_points = []\n",
    "    for point in points:\n",
    "        if smoothed_points:\n",
    "            previous = smoothed_points[-1]\n",
    "            smoothed_points.append(previous * factor + point * (1 - factor))\n",
    "        else:\n",
    "            smoothed_points.append(point)\n",
    "    return smoothed_points\n",
    "\n",
    "\n",
    "def plot(array, title='', axis=plt):\n",
    "    axis.title.set_text(title)\n",
    "    axis.plot(np.arange(len(array)), smoothen_curve(array))    "
   ]
  },
  {
   "cell_type": "code",
   "execution_count": 10,
   "metadata": {
    "scrolled": false
   },
   "outputs": [
    {
     "data": {
      "text/plain": [
       "Text(0.5, 0.98, 'BipedalWalker-v2')"
      ]
     },
     "execution_count": 10,
     "metadata": {},
     "output_type": "execute_result"
    },
    {
     "data": {
      "image/png": "[encoded data removed]",
      "text/plain": [
       "<Figure size 1152x648 with 6 Axes>"
      ]
     },
     "metadata": {
      "needs_background": "light"
     },
     "output_type": "display_data"
    }
   ],
   "source": [
    "fig, axs = plt.subplots(2, 3, figsize=(16, 9))\n",
    "plot(history['reward'], 'Reward', axs[0, 0])\n",
    "plot(history['loss'], 'Loss (doesn’t measure performance)', axs[0, 1])\n",
    "plot(history['gradients_max_abs'], 'Gradients max (not from adam)', axs[1, 0])\n",
    "\n",
    "\n",
    "parameters_number = np.sum([np.ones_like(g).sum() for g in gradients_])\n",
    "plot(history['gradients_equal_zero'], f'Gradients equal zero out of {int(parameters_number)} parameters', axs[1, 1])\n",
    "\n",
    "plot(history['max_action'], 'max_action', axs[0, 2])\n",
    "plt.suptitle(env_name, fontsize=18)\n",
    "\n",
    "#plt.savefig('logs/LunarLanderContinuous-v2_fail')"
   ]
  },
  {
   "cell_type": "markdown",
   "metadata": {},
   "source": [
    "## Our agent"
   ]
  },
  {
   "cell_type": "code",
   "execution_count": null,
   "metadata": {},
   "outputs": [],
   "source": [
    "observations = env.reset()\n",
    "\n",
    "for i in range(10000):\n",
    "    env.render()\n",
    "    actions = sess.run(action_op, feed_dict={state_ph: [observations]})\n",
    "    \n",
    "    \n",
    "    observations_old = observations\n",
    "    observations, rewards, dones, _ = env.step(actions[0])\n",
    "\n",
    "    print(rewards, actions[0])\n",
    "\n",
    "\n",
    "    if dones:\n",
    "        observations = env.reset()\n",
    "        print('Done')\n"
   ]
  },
  {
   "cell_type": "markdown",
   "metadata": {},
   "source": [
    "## Random agent"
   ]
  },
  {
   "cell_type": "code",
   "execution_count": null,
   "metadata": {},
   "outputs": [],
   "source": [
    "observations = env.reset()\n",
    "\n",
    "for i in range(1000):\n",
    "    env.render()\n",
    "    actions = [envs.action_space.sample() for i in range(envs.num_envs)]\n",
    "    \n",
    "    \n",
    "    observations_old = observations\n",
    "    observations, rewards, dones, _ = env.step(actions[0])\n",
    "    print(rewards, actions[0])\n",
    "    \n",
    "    if dones:\n",
    "        observations = env.reset()\n",
    "        print('Done')\n",
    "    "
   ]
  },
  {
   "cell_type": "code",
   "execution_count": null,
   "metadata": {},
   "outputs": [],
   "source": [
    "import time\n",
    "saver = tf.train.Saver()\n",
    "#save_path = saver.save(sess, f'./models/{env_name}-reward-{int(np.mean(history[\"reward\"][-50:]))}.ckpt')\n",
    "print(\"Model saved in path: %s\" % save_path)"
   ]
  },
  {
   "cell_type": "code",
   "execution_count": null,
   "metadata": {
    "scrolled": false
   },
   "outputs": [],
   "source": [
    "# saver = tf.train.Saver()\n",
    "# saver.restore(sess, \"./models/LunarLanderContinuous-v2-reward-96.ckpt\")"
   ]
  },
  {
   "cell_type": "code",
   "execution_count": null,
   "metadata": {},
   "outputs": [],
   "source": []
  }
 ],
 "metadata": {
  "kernelspec": {
   "display_name": "Python 3",
   "language": "python",
   "name": "python3"
  },
  "language_info": {
   "codemirror_mode": {
    "name": "ipython",
    "version": 3
   },
   "file_extension": ".py",
   "mimetype": "text/x-python",
   "name": "python",
   "nbconvert_exporter": "python",
   "pygments_lexer": "ipython3",
   "version": "3.7.3"
  }
 },
 "nbformat": 4,
 "nbformat_minor": 2
}

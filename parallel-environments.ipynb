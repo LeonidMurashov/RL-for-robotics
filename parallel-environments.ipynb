{
 "cells": [
  {
   "cell_type": "code",
   "execution_count": 1,
   "metadata": {},
   "outputs": [],
   "source": [
    "import numpy as np\n",
    "import gym\n",
    "from baselines.common.vec_env.subproc_vec_env import SubprocVecEnv\n",
    "from baselines.common.vec_env.dummy_vec_env import DummyVecEnv\n",
    "\n",
    "env_name = 'CartPole-v1'\n",
    "env = gym.make(env_name)\n",
    "\n",
    "# This code gets action and observation space sizes for 1D tasks\n",
    "action_space = env.action_space.n if isinstance(env.action_space, gym.spaces.discrete.Discrete) else env.action_space.shape[0]\n",
    "observation_space = env.observation_space.n if isinstance(env.observation_space, gym.spaces.discrete.Discrete) else env.observation_space.shape[0]\n"
   ]
  },
  {
   "cell_type": "code",
   "execution_count": 2,
   "metadata": {
    "scrolled": true
   },
   "outputs": [],
   "source": [
    "nproc = 8\n",
    "\n",
    "def make_env(env_id):\n",
    "    def _f():\n",
    "        env = gym.make(env_id)\n",
    "        return env\n",
    "    return _f\n",
    "\n",
    "envs = [make_env(env_name) for seed in range(nproc)]\n",
    "envs = SubprocVecEnv(envs) # Replace with DummyVecEnv\n",
    "\n",
    "observations = envs.reset()\n",
    "for t in range(100):\n",
    "    envs.render(mode='human')\n",
    "    actions = np.stack([envs.action_space.sample() for _ in range(nproc)])\n",
    "    observations, rewards, done, info = envs.step(actions)    "
   ]
  }
 ],
 "metadata": {
  "kernelspec": {
   "display_name": "Python 3",
   "language": "python",
   "name": "python3"
  },
  "language_info": {
   "codemirror_mode": {
    "name": "ipython",
    "version": 3
   },
   "file_extension": ".py",
   "mimetype": "text/x-python",
   "name": "python",
   "nbconvert_exporter": "python",
   "pygments_lexer": "ipython3",
   "version": "3.7.3"
  }
 },
 "nbformat": 4,
 "nbformat_minor": 2
}

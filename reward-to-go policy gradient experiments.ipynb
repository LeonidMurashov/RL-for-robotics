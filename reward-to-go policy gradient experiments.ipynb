{
 "cells": [
  {
   "cell_type": "code",
   "execution_count": 1,
   "metadata": {},
   "outputs": [],
   "source": [
    "import numpy as np\n",
    "import gym\n",
    "import tensorflow as tf\n",
    "from baselines.common.vec_env.subproc_vec_env import SubprocVecEnv\n",
    "from baselines.common.vec_env.dummy_vec_env import DummyVecEnv\n",
    "\n",
    "learning_rate = 0.0005\n",
    "epochs_number = 1000\n",
    "batch_size = 256\n",
    "replay_buffer_size = 256*4\n",
    "\n",
    "env_name = 'MountainCar-v0'\n",
    "environments_count = 24\n",
    "\n",
    "# This code gets action and observation space sizes for 1D tasks\n",
    "env = gym.make(env_name)\n",
    "action_space = env.action_space.n if isinstance(env.action_space, gym.spaces.discrete.Discrete) else env.action_space.shape[0]\n",
    "observation_space = env.observation_space.n if isinstance(env.observation_space, gym.spaces.discrete.Discrete) else env.observation_space.shape[0]\n"
   ]
  },
  {
   "cell_type": "markdown",
   "metadata": {},
   "source": [
    "## Create environments vector"
   ]
  },
  {
   "cell_type": "code",
   "execution_count": 2,
   "metadata": {},
   "outputs": [],
   "source": [
    "def make_env(env_id, seed):\n",
    "    def _f():\n",
    "        env = gym.make(env_id)\n",
    "        env.seed(seed)\n",
    "        \n",
    "        # Desync environments\n",
    "        env.reset()\n",
    "        for i in range(int(env.spec.max_episode_steps*seed//environments_count)):\n",
    "            env.step(env.action_space.sample())\n",
    "        return env\n",
    "    return _f\n",
    "\n",
    "envs = [make_env(env_name, seed) for seed in range(environments_count)]\n",
    "envs = DummyVecEnv(envs)\n",
    "\n",
    "# observations = envs.reset()\n",
    "# for t in range(100):\n",
    "#     # print(envs.render(mode='human'))\n",
    "#     actions = np.stack([envs.action_space.sample() for _ in range(nproc)])\n",
    "#     observations, rewards, done, info = envs.step(actions)\n",
    "    "
   ]
  },
  {
   "cell_type": "markdown",
   "metadata": {},
   "source": [
    "## Create model architecture"
   ]
  },
  {
   "cell_type": "code",
   "execution_count": 3,
   "metadata": {
    "scrolled": true
   },
   "outputs": [
    {
     "name": "stderr",
     "output_type": "stream",
     "text": [
      "WARNING: Logging before flag parsing goes to stderr.\n",
      "W0717 14:21:40.796464 19044 deprecation.py:323] From <ipython-input-3-f99a7ea034b7>:4: dense (from tensorflow.python.layers.core) is deprecated and will be removed in a future version.\n",
      "Instructions for updating:\n",
      "Use keras.layers.dense instead.\n",
      "W0717 14:21:40.801454 19044 deprecation.py:506] From C:\\Anaconda3\\lib\\site-packages\\tensorflow\\python\\ops\\init_ops.py:1251: calling VarianceScaling.__init__ (from tensorflow.python.ops.init_ops) with dtype is deprecated and will be removed in a future version.\n",
      "Instructions for updating:\n",
      "Call initializer instance with the dtype argument instead of passing it to the constructor\n",
      "W0717 14:21:41.101745 19044 deprecation.py:323] From <ipython-input-3-f99a7ea034b7>:9: multinomial (from tensorflow.python.ops.random_ops) is deprecated and will be removed in a future version.\n",
      "Instructions for updating:\n",
      "Use `tf.random.categorical` instead.\n"
     ]
    }
   ],
   "source": [
    "tf.reset_default_graph()\n",
    "\n",
    "state_ph = tf.placeholder(tf.float32, shape=[None, observation_space])\n",
    "l1 = tf.layers.dense(state_ph, units=128, activation=tf.nn.relu)\n",
    "l2 = tf.layers.dense(l1, units=64, activation=tf.nn.relu)\n",
    "output_linear = tf.layers.dense(l2, units=action_space)\n",
    "\n",
    "output = tf.nn.softmax(output_linear)\n",
    "action_op = tf.squeeze(tf.multinomial(logits=output_linear,num_samples=1), axis=1)\n",
    "#action_op = tf.expand_dims(tf.constant(1), axis=0)\n",
    "\n",
    "output_log = tf.nn.log_softmax(output_linear)\n",
    "\n",
    "weight_ph = tf.placeholder(shape=[None], dtype=tf.float32)\n",
    "action_ph = tf.placeholder(shape=[None], dtype=tf.int32)\n",
    "\n",
    "\n",
    "action_one_hot = tf.one_hot(action_ph, action_space)\n",
    "responsible_output_log = tf.reduce_sum(output_log * action_one_hot, axis=1)\n",
    "loss = -tf.reduce_mean(responsible_output_log * weight_ph)\n",
    "\n",
    "gradients = tf.gradients(loss, tf.trainable_variables())\n",
    "\n",
    "optimizer = tf.train.AdamOptimizer(learning_rate=learning_rate)\n",
    "update = optimizer.minimize(loss)"
   ]
  },
  {
   "cell_type": "code",
   "execution_count": 4,
   "metadata": {},
   "outputs": [],
   "source": [
    "config = tf.ConfigProto(device_count={'GPU': 0})\n",
    "sess = tf.Session(config=config)\n",
    "\n",
    "sess.run(tf.local_variables_initializer())\n",
    "sess.run(tf.global_variables_initializer())\n",
    "\n",
    "# sess.run(loss, feed_dict={weight_ph: [0, 1, 2],\n",
    "#                           action_ph: [1, 2, 3],\n",
    "#                           state_ph: [[1,2], [1,2], [1,2]]})"
   ]
  },
  {
   "cell_type": "code",
   "execution_count": 5,
   "metadata": {},
   "outputs": [
    {
     "data": {
      "text/plain": [
       "array([10,  9,  7,  4], dtype=int32)"
      ]
     },
     "execution_count": 5,
     "metadata": {},
     "output_type": "execute_result"
    }
   ],
   "source": [
    "def make_reward_to_go(reward):\n",
    "    return np.cumsum(reward[::-1])[::-1]\n",
    "\n",
    "make_reward_to_go(np.arange(1, 5))"
   ]
  },
  {
   "cell_type": "markdown",
   "metadata": {},
   "source": [
    "#TODO: подумать о последствиях слишком большого количества сэмплов в начале (решил рассинхронизацией)"
   ]
  },
  {
   "cell_type": "code",
   "execution_count": 14,
   "metadata": {},
   "outputs": [
    {
     "name": "stdout",
     "output_type": "stream",
     "text": [
      "[1 2 0 0 0 2 0 0 0 2 1 0 2 1 1 2 0 0 2 1 1 2 0 1]\n",
      "[0 0 2 1 1 0 0 2 1 0 0 1 0 0 2 1 2 1 2 1 1 1 1 2]\n",
      "[1 0 0 1 0 1 1 1 1 2 2 1 2 1 2 0 2 1 1 1 1 0 0 1]\n",
      "[1 0 2 0 2 2 0 0 2 1 0 2 0 0 2 0 0 1 0 1 0 1 2 1]\n",
      "[1 0 2 1 0 0 2 0 1 1 1 0 2 1 0 0 0 0 1 0 1 2 1 2]\n",
      "[2 1 2 1 0 1 1 2 1 2 2 1 1 2 1 1 2 0 1 1 1 1 1 1]\n",
      "[1 2 2 1 0 2 0 0 0 0 2 1 1 0 2 1 0 2 0 0 1 0 1 0]\n",
      "[2 1 1 0 2 2 0 0 2 0 1 1 1 1 1 0 0 0 1 0 1 0 1 2]\n",
      "[2 1 1 2 0 0 2 1 0 2 1 2 2 1 1 1 2 0 2 1 0 1 0 0]\n",
      "[2 2 2 1 1 1 0 1 0 2 2 2 0 1 1 0 0 1 0 2 1 1 1 2]\n",
      "[0 2 1 1 2 0 2 2 0 1 2 2 1 0 0 0 0 1 1 0 1 0 1 0]\n",
      "[2 2 1 1 2 2 0 0 2 2 1 1 2 0 0 1 0 2 1 0 0 0 1 1]\n",
      "[2 0 1 2 0 0 0 2 1 1 1 2 2 1 1 2 1 1 1 2 1 2 0 1]\n",
      "[2 0 2 1 1 0 0 1 1 1 1 2 1 1 2 1 0 1 0 2 0 1 0 0]\n",
      "[0 2 1 1 2 0 2 2 1 2 1 0 0 0 0 1 0 2 2 2 2 2 0 2]\n",
      "[1 0 0 1 1 0 2 2 2 2 0 0 2 0 0 2 2 0 2 1 0 0 2 0]\n",
      "[0 0 1 0 2 1 0 0 0 0 1 1 2 1 1 1 1 0 1 1 0 1 1 1]\n",
      "[2 2 0 0 1 1 1 0 2 0 0 1 0 1 0 1 1 1 0 1 1 2 1 0]\n",
      "[2 1 2 2 1 1 0 2 2 0 1 1 0 1 1 0 1 0 2 1 2 2 1 1]\n",
      "[1 2 1 1 2 0 2 0 1 2 1 2 1 0 0 0 1 1 1 2 2 0 1 0]\n",
      "[2 1 0 1 2 0 0 2 0 2 0 0 2 0 2 2 2 2 0 1 1 1 1 1]\n",
      "[1 1 0 2 1 2 0 2 1 2 0 1 0 1 1 0 2 2 0 1 2 0 2 1]\n",
      "[2 0 1 1 2 0 2 1 0 1 1 1 2 1 1 2 2 0 1 1 2 2 2 2]\n",
      "[2 2 0 0 2 2 0 1 2 1 2 2 2 2 2 1 1 0 1 0 2 2 0 1]\n",
      "[0 0 2 1 0 2 0 0 1 1 1 1 2 2 2 0 0 2 2 0 2 1 1 1]\n",
      "[2 2 2 2 0 1 1 2 0 0 1 0 0 0 1 0 2 0 0 1 1 1 1 1]\n",
      "[0 0 1 2 0 0 1 0 0 2 1 0 2 0 0 1 2 2 1 1 1 0 2 0]\n",
      "[1 2 1 0 0 2 0 1 2 2 1 0 2 0 0 0 2 2 1 0 2 0 2 2]\n",
      "[1 0 0 0 1 2 1 1 1 1 1 2 1 0 1 0 2 2 1 1 1 1 1 2]\n",
      "[1 2 1 2 1 0 2 0 0 1 0 0 0 1 1 2 1 2 1 2 0 1 0 2]\n",
      "[0 1 0 1 2 0 0 1 0 1 1 1 0 2 0 2 1 1 2 0 0 2 1 0]\n",
      "[0 0 0 1 2 0 1 0 2 1 2 0 2 1 1 1 1 2 2 2 0 0 0 1]\n",
      "[2 1 0 0 1 2 0 1 2 0 2 2 2 1 0 1 0 2 1 2 2 1 2 0]\n",
      "[2 1 2 1 1 2 2 2 1 1 1 1 2 2 0 1 1 2 0 0 1 0 2 0]\n",
      "[0 1 2 2 0 0 2 2 0 0 0 2 0 0 2 0 2 1 2 0 0 2 2 1]\n",
      "[2 1 1 1 2 1 2 0 1 1 1 2 1 1 2 1 0 1 0 0 0 0 1 2]\n",
      "[0 1 2 0 1 0 2 1 0 0 2 2 2 1 0 0 1 1 1 2 0 1 1 2]\n",
      "[2 2 1 0 2 0 1 0 0 0 0 1 0 0 1 1 2 0 0 1 2 0 2 1]\n",
      "[2 2 2 1 2 0 2 2 0 1 1 0 1 0 1 0 2 1 2 0 1 0 1 1]\n",
      "[0 0 1 2 1 0 1 1 1 2 0 0 0 1 0 1 1 2 0 0 1 0 1 1]\n",
      "[1 1 1 2 2 2 0 1 1 1 2 0 0 0 1 1 0 2 1 0 0 2 2 0]\n",
      "[1 1 0 0 0 1 1 1 0 2 1 0 0 0 2 2 1 1 1 0 2 1 1 2]\n",
      "[0 0 0 0 1 0 1 1 1 1 1 0 2 0 0 1 0 2 1 2 1 0 0 2]\n",
      "[0 0 2 0 1 1 0 1 2 2 0 0 0 0 0 1 0 1 1 2 2 2 0 0]\n",
      "[1 1 0 0 0 1 2 0 0 0 1 2 1 2 1 1 0 2 0 0 1 0 0 0]\n",
      "[0 2 0 0 2 1 1 0 1 0 0 1 1 0 0 1 0 0 1 0 2 2 1 0]\n",
      "[0 2 0 1 2 2 1 1 0 1 2 1 1 2 2 2 2 0 0 2 0 0 1 2]\n",
      "[0 0 0 1 0 0 2 1 1 0 1 1 1 2 1 1 1 0 0 2 0 1 2 1]\n",
      "[1 1 0 1 2 2 0 1 0 1 0 0 2 1 2 0 2 1 1 1 1 2 0 0]\n",
      "[2 0 1 1 0 1 0 2 2 0 2 2 0 1 1 2 2 2 1 1 0 1 1 2]\n",
      "[2 2 1 1 0 2 2 0 2 2 0 2 0 1 0 0 0 1 1 0 0 1 1 0]\n",
      "[1 0 2 0 2 1 0 0 0 0 1 0 1 0 2 2 2 0 1 1 0 0 0 2]\n",
      "[1 0 1 1 2 1 2 0 2 2 0 1 0 0 1 1 2 2 0 2 1 2 0 1]\n",
      "[2 0 0 2 1 1 0 0 2 1 0 1 0 1 0 2 2 1 0 1 2 1 2 0]\n",
      "[2 2 0 0 1 1 1 1 2 0 0 1 2 0 1 1 0 1 0 1 1 2 0 0]\n",
      "[1 2 0 0 2 2 0 0 1 0 0 1 1 2 0 1 0 2 0 0 2 0 1 2]\n",
      "[0 1 1 2 1 2 1 0 0 0 0 2 0 0 2 0 1 0 1 2 2 2 2 1]\n",
      "[1 2 1 2 0 1 1 1 0 1 0 0 2 1 0 0 2 1 0 1 0 1 1 0]\n",
      "[2 2 1 2 1 0 2 0 1 1 2 0 0 1 0 0 2 1 1 2 1 2 0 1]\n",
      "[2 1 0 1 0 0 1 1 0 1 1 0 1 1 2 2 0 1 2 2 1 2 1 2]\n",
      "[0 1 2 2 0 0 2 1 1 2 0 2 1 1 0 1 1 1 2 2 1 2 2 2]\n",
      "[1 0 2 2 0 2 0 0 0 2 2 0 0 1 2 1 1 1 0 0 0 2 2 2]\n",
      "[2 2 0 0 1 0 2 1 1 0 2 1 2 2 0 1 2 2 2 2 1 0 0 2]\n",
      "[1 0 2 2 0 2 2 2 0 1 0 1 1 2 0 1 2 1 2 2 2 1 2 2]\n",
      "[2 2 1 1 2 2 2 2 0 0 1 1 1 0 1 1 0 0 2 0 0 2 2 0]\n",
      "[0 2 0 0 1 1 1 2 0 2 0 2 2 0 0 1 1 2 0 0 0 2 0 0]\n",
      "[0 1 1 2 1 1 0 0 0 0 1 0 1 0 2 1 2 1 0 1 1 2 1 0]\n",
      "[0 0 0 2 0 0 0 1 2 2 0 1 2 0 0 1 0 2 0 1 1 2 1 1]\n",
      "[1 0 2 1 0 1 0 2 1 1 1 1 1 0 2 2 1 0 2 2 1 1 2 1]\n",
      "[0 1 1 1 2 1 1 0 1 0 2 2 1 1 2 0 2 0 1 1 1 1 0 1]\n",
      "[0 1 1 1 0 0 2 0 2 1 2 1 1 0 2 0 0 2 1 1 2 0 1 2]\n",
      "[1 2 2 1 1 2 0 1 2 0 0 1 0 1 0 1 1 1 2 1 2 0 2 0]\n",
      "[0 1 2 2 2 1 2 1 2 0 1 2 2 1 2 2 2 2 0 0 0 1 0 2]\n",
      "[1 1 0 0 1 0 0 2 0 2 2 0 2 1 0 0 1 0 0 2 1 1 1 0]\n",
      "[2 2 0 2 0 2 0 1 2 2 0 2 0 1 0 0 2 2 1 2 0 1 1 1]\n",
      "[2 1 0 2 1 0 0 2 2 0 2 2 1 2 1 1 1 2 0 2 1 0 0 2]\n",
      "[0 2 2 2 1 1 0 1 2 0 0 0 2 2 1 1 1 0 1 0 1 1 1 1]\n",
      "[2 0 2 2 0 0 2 1 0 2 0 0 0 2 0 0 0 1 2 2 0 0 2 1]\n",
      "[2 2 0 1 2 1 0 0 0 0 1 1 1 0 0 2 1 2 2 0 2 0 0 1]\n",
      "[1 0 2 0 0 0 1 0 1 1 0 1 0 0 0 0 2 2 2 1 2 0 2 0]\n",
      "[0 1 0 2 1 2 1 1 2 1 1 1 1 0 2 1 1 2 1 0 0 2 1 2]\n",
      "[2 2 1 0 1 2 1 0 1 1 0 1 1 1 1 0 2 2 1 1 1 1 2 1]\n",
      "[2 0 0 0 1 2 0 2 0 2 0 2 1 0 1 0 0 1 1 2 2 2 2 2]\n",
      "[1 0 0 2 1 0 0 1 2 1 2 0 0 1 2 0 1 1 0 0 0 2 1 1]\n",
      "[1 2 0 2 2 0 2 1 2 1 0 2 1 1 1 2 2 1 2 1 2 1 1 1]\n",
      "[0 0 0 2 2 0 1 0 2 0 2 1 2 1 2 1 0 1 2 0 2 0 2 2]\n",
      "[2 1 1 1 0 0 1 0 0 0 1 2 0 1 2 1 1 0 0 0 2 0 2 1]\n",
      "[1 1 2 2 1 2 2 0 1 2 0 0 0 2 1 0 1 2 1 1 0 1 1 0]\n",
      "[2 0 2 0 1 0 2 0 2 1 2 1 2 1 2 1 2 0 0 1 0 0 0 2]\n",
      "[1 2 1 1 2 2 0 1 2 0 1 0 1 0 1 0 0 1 1 2 2 1 2 0]\n",
      "[0 0 0 2 1 2 1 2 1 1 0 2 2 1 1 1 2 1 1 0 0 1 1 2]\n",
      "[1 2 0 1 1 2 1 1 1 0 1 1 2 2 0 0 0 0 0 2 0 0 0 2]\n",
      "[1 0 1 0 1 2 0 0 1 1 0 0 1 0 1 0 1 1 1 0 1 2 0 0]\n",
      "[0 0 1 2 1 1 2 2 2 2 1 0 0 0 1 0 0 2 0 0 2 2 2 0]\n",
      "[1 1 0 0 2 2 0 0 1 2 0 1 1 1 1 2 2 2 2 0 1 1 2 1]\n",
      "[1 0 1 0 1 0 2 2 2 1 0 2 1 2 0 0 2 1 0 2 2 1 1 2]\n",
      "[2 0 1 1 1 1 1 1 0 2 0 1 1 0 0 0 2 2 1 1 1 1 1 1]\n",
      "[0 0 1 1 0 2 1 0 0 0 1 2 2 2 2 0 1 0 0 2 0 2 1 0]\n",
      "[1 0 1 0 0 2 2 0 1 2 2 1 2 2 0 1 1 1 2 2 2 0 1 0]\n",
      "[0 2 2 1 0 1 2 0 1 2 1 1 1 1 0 0 2 2 2 2 0 0 0 0]\n",
      "[2 2 2 1 2 0 1 1 0 2 1 2 2 0 2 1 0 1 2 1 2 2 1 0]\n",
      "[0 0 2 1 2 1 2 1 2 1 2 1 1 0 1 0 0 2 2 2 0 2 1 0]\n",
      "[2 0 2 1 2 1 0 2 2 1 0 0 0 1 0 0 1 2 0 2 1 0 2 1]\n",
      "[0 1 0 1 0 1 1 0 1 2 0 0 0 0 0 0 0 1 0 1 1 1 0 1]\n",
      "[1 0 2 2 1 0 1 0 2 0 2 0 1 0 1 1 0 2 1 2 0 0 0 2]\n",
      "[0 0 0 0 0 0 2 2 1 2 1 0 1 1 0 1 2 1 2 0 1 2 2 2]\n",
      "[0 1 1 2 0 1 2 1 0 1 2 2 2 0 1 0 0 2 1 1 1 1 0 1]\n",
      "[1 2 0 2 2 1 1 1 2 1 1 2 2 1 1 0 2 0 2 1 1 1 2 1]\n",
      "[1 2 1 1 0 2 1 1 0 0 2 2 1 1 0 1 1 0 0 1 1 1 0 2]\n",
      "[1 2 0 0 0 0 1 1 0 0 2 2 2 2 0 1 1 1 0 2 2 0 1 1]\n",
      "[1 0 1 2 0 1 2 0 0 1 2 1 2 0 1 1 0 0 0 0 1 2 1 0]\n",
      "[1 1 2 1 2 0 2 2 1 2 1 1 2 0 1 0 1 0 0 1 1 2 0 2]\n",
      "[2 1 0 1 1 2 0 2 0 1 0 0 1 1 2 2 2 1 1 2 1 0 1 1]\n",
      "[0 2 0 0 1 0 1 0 2 0 1 2 1 2 2 1 1 2 1 1 2 2 1 0]\n",
      "[2 1 1 1 2 1 0 2 2 1 1 2 1 0 2 1 0 2 0 2 1 1 1 0]\n",
      "[1 2 1 1 1 2 1 0 1 0 1 0 0 1 2 1 2 1 2 1 2 1 1 1]\n",
      "[1 2 0 0 0 1 2 0 2 1 0 2 0 2 1 0 0 2 0 0 0 0 0 1]\n"
     ]
    },
    {
     "data": {
      "text/plain": [
       "array([[array([-0.5695624 ,  0.01276859], dtype=float32), 1, -82.0],\n",
       "       [array([-0.3496966 ,  0.00973562], dtype=float32), 2, -64.0],\n",
       "       [array([-0.4549635 ,  0.01250356], dtype=float32), 2, -74.0],\n",
       "       [array([-0.5353892 ,  0.00688035], dtype=float32), 2, -84.0],\n",
       "       [array([-0.5373753 ,  0.01040617], dtype=float32), 0, -43.0],\n",
       "       [array([-0.4906482 , -0.00592239], dtype=float32), 1, -89.0],\n",
       "       [array([-0.55511034, -0.00516182], dtype=float32), 1, -78.0],\n",
       "       [array([-0.4419711 ,  0.01299243], dtype=float32), 0, -73.0]],\n",
       "      dtype=object)"
      ]
     },
     "execution_count": 14,
     "metadata": {},
     "output_type": "execute_result"
    }
   ],
   "source": [
    "def generate_batch(envs, batch_size, replay_buffer_size):\n",
    "    envs_number = envs.num_envs\n",
    "    observations = [[0 for i in range(observation_space)] for i in range(envs_number)]\n",
    "    replay_buffer = np.empty((0,3), np.float32)\n",
    "    \n",
    "    # [state, action, weight] rollout lists for every environment instance\n",
    "    rollouts = [np.empty((0, 3)) for i in range(envs_number)]\n",
    "\n",
    "    while True:\n",
    "        history = {'reward': []}\n",
    "        replay_buffer = replay_buffer[batch_size:]\n",
    "        \n",
    "        # Main sampling cycle\n",
    "        while len(replay_buffer) < replay_buffer_size:\n",
    "            actions = sess.run(action_op, feed_dict={state_ph: observations})\n",
    "            observations_old = observations\n",
    "            observations, rewards, dones, _ = envs.step(actions)\n",
    "            print(actions)\n",
    "            \n",
    "            time_point = np.array(list(zip(observations_old, actions, rewards)))\n",
    "            for i in range(envs_number):\n",
    "                rollouts[i] = np.append(rollouts[i], [time_point[i]], axis=0) # Regular python append\n",
    "            \n",
    "            if dones.any():\n",
    "                if dones.all():\n",
    "                    print('WARNING: envs are in sync!!')\n",
    "                \n",
    "                done_indexes = np.arange(envs_number)[dones]\n",
    "                for i in done_indexes:\n",
    "                    #print(dones, i, len(rollouts[i][:, 2]))\n",
    "                    history['reward'].append(rollouts[i][:, 2].sum())\n",
    "\n",
    "                    rollouts[i][:, 2] = make_reward_to_go(rollouts[i][:, 2])\n",
    "                    replay_buffer = np.append(replay_buffer, rollouts[i], axis=0)\n",
    "                    rollouts[i] = np.empty((0, 3))\n",
    "                #history['reward'] = [np.mean(history['reward'])]\n",
    "        \n",
    "        np.random.shuffle(replay_buffer)\n",
    "        replay_buffer = replay_buffer[:replay_buffer_size] ### QUESTIONABLE\n",
    "        yield replay_buffer[:batch_size], history\n",
    "\n",
    "a = generate_batch(envs, 8, 64)\n",
    "# Makes them of equal lenght\n",
    "for i in range(10):\n",
    "    next(a)\n",
    "next(a)[0]"
   ]
  },
  {
   "cell_type": "code",
   "execution_count": 7,
   "metadata": {},
   "outputs": [
    {
     "data": {
      "application/vnd.jupyter.widget-view+json": {
       "model_id": "8c5a1d86c13b4008b8d8fd98cb0a6377",
       "version_major": 2,
       "version_minor": 0
      },
      "text/plain": [
       "HBox(children=(IntProgress(value=0, max=1000), HTML(value='')))"
      ]
     },
     "metadata": {},
     "output_type": "display_data"
    },
    {
     "name": "stdout",
     "output_type": "stream",
     "text": [
      "\n"
     ]
    }
   ],
   "source": [
    "from tqdm import tqdm_notebook\n",
    "\n",
    "history = {'reward': [], 'loss': [], 'gradients_max_abs': [], 'gradients_equal_zero': []}\n",
    "batch_generator = generate_batch(envs,\n",
    "                                 batch_size=batch_size,\n",
    "                                 replay_buffer_size=replay_buffer_size)\n",
    "# Makes them of equal lenght\n",
    "for i in range(10):\n",
    "    next(batch_generator)\n",
    "\n",
    "for epoch in tqdm_notebook(range(epochs_number)):\n",
    "    batch, batch_history = next(batch_generator)\n",
    "    history['reward'] += batch_history['reward']\n",
    "    \n",
    "    _, loss_, gradients_ = sess.run([update, loss, gradients], feed_dict={state_ph: np.array(batch[:, 0].tolist()),\n",
    "                                                    action_ph: batch[:, 1],\n",
    "                                                    weight_ph: batch[:, 2]})\n",
    "    \n",
    "    history['gradients_max_abs'].append(np.max([np.max(np.abs(var_grad)) for var_grad in gradients_]))\n",
    "    history['gradients_equal_zero'].append(np.sum([np.sum(var_grad == 0) for var_grad in gradients_]))\n",
    "    \n",
    "    history['loss'].append(loss_)\n"
   ]
  },
  {
   "cell_type": "markdown",
   "metadata": {},
   "source": [
    "## Plot results"
   ]
  },
  {
   "cell_type": "code",
   "execution_count": 8,
   "metadata": {},
   "outputs": [
    {
     "data": {
      "text/plain": [
       "[<matplotlib.lines.Line2D at 0x163fecc8358>]"
      ]
     },
     "execution_count": 8,
     "metadata": {},
     "output_type": "execute_result"
    },
    {
     "data": {
      "image/png": "[encoded data removed]",
      "text/plain": [
       "<Figure size 432x288 with 1 Axes>"
      ]
     },
     "metadata": {
      "needs_background": "light"
     },
     "output_type": "display_data"
    }
   ],
   "source": [
    "import matplotlib.pyplot as plt\n",
    "%matplotlib inline\n",
    "\n",
    "# Moving average\n",
    "def smoothen_curve(points, factor=0.9):\n",
    "    smoothed_points = []\n",
    "    for point in points:\n",
    "        if smoothed_points:\n",
    "            previous = smoothed_points[-1]\n",
    "            smoothed_points.append(previous * factor + point * (1 - factor))\n",
    "        else:\n",
    "            smoothed_points.append(point)\n",
    "    return smoothed_points\n",
    "\n",
    "plt.plot(np.arange(len(history['reward'])), smoothen_curve(history['reward']))"
   ]
  },
  {
   "cell_type": "markdown",
   "metadata": {},
   "source": [
    "## Loss doesn’t measure performance"
   ]
  },
  {
   "cell_type": "code",
   "execution_count": 9,
   "metadata": {
    "scrolled": true
   },
   "outputs": [
    {
     "data": {
      "text/plain": [
       "[<matplotlib.lines.Line2D at 0x163fed65940>]"
      ]
     },
     "execution_count": 9,
     "metadata": {},
     "output_type": "execute_result"
    },
    {
     "data": {
      "image/png": "[encoded data removed]",
      "text/plain": [
       "<Figure size 432x288 with 1 Axes>"
      ]
     },
     "metadata": {
      "needs_background": "light"
     },
     "output_type": "display_data"
    }
   ],
   "source": [
    "plt.plot(np.arange(len(history['loss'])), smoothen_curve(history['loss']))"
   ]
  },
  {
   "cell_type": "markdown",
   "metadata": {},
   "source": [
    "## Gradients (not from adam)"
   ]
  },
  {
   "cell_type": "code",
   "execution_count": 10,
   "metadata": {
    "scrolled": true
   },
   "outputs": [
    {
     "data": {
      "text/plain": [
       "[<matplotlib.lines.Line2D at 0x163fedc9f60>]"
      ]
     },
     "execution_count": 10,
     "metadata": {},
     "output_type": "execute_result"
    },
    {
     "data": {
      "image/png": "[encoded data removed]",
      "text/plain": [
       "<Figure size 432x288 with 1 Axes>"
      ]
     },
     "metadata": {
      "needs_background": "light"
     },
     "output_type": "display_data"
    }
   ],
   "source": [
    "plt.plot(np.arange(len(history['gradients_max_abs'])), smoothen_curve(history['gradients_max_abs']))"
   ]
  },
  {
   "cell_type": "code",
   "execution_count": 11,
   "metadata": {},
   "outputs": [
    {
     "data": {
      "text/plain": [
       "8835.0"
      ]
     },
     "execution_count": 11,
     "metadata": {},
     "output_type": "execute_result"
    }
   ],
   "source": [
    "# Gradients number\n",
    "np.sum([np.ones_like(g).sum() for g in gradients_])"
   ]
  },
  {
   "cell_type": "code",
   "execution_count": 12,
   "metadata": {
    "scrolled": false
   },
   "outputs": [
    {
     "data": {
      "text/plain": [
       "[<matplotlib.lines.Line2D at 0x163fee2eef0>]"
      ]
     },
     "execution_count": 12,
     "metadata": {},
     "output_type": "execute_result"
    },
    {
     "data": {
      "image/png": "[encoded data removed]",
      "text/plain": [
       "<Figure size 432x288 with 1 Axes>"
      ]
     },
     "metadata": {
      "needs_background": "light"
     },
     "output_type": "display_data"
    }
   ],
   "source": [
    "plt.plot(np.arange(len(history['gradients_equal_zero'])), smoothen_curve(history['gradients_equal_zero']))"
   ]
  },
  {
   "cell_type": "markdown",
   "metadata": {},
   "source": [
    "## Our agent"
   ]
  },
  {
   "cell_type": "code",
   "execution_count": 13,
   "metadata": {
    "scrolled": true
   },
   "outputs": [
    {
     "name": "stdout",
     "output_type": "stream",
     "text": [
      "Done\n",
      "Done\n",
      "Done\n",
      "Done\n",
      "Done\n",
      "Done\n"
     ]
    },
    {
     "ename": "KeyboardInterrupt",
     "evalue": "",
     "output_type": "error",
     "traceback": [
      "\u001b[1;31m---------------------------------------------------------------------------\u001b[0m",
      "\u001b[1;31mKeyboardInterrupt\u001b[0m                         Traceback (most recent call last)",
      "\u001b[1;32m<ipython-input-13-84a9cf1be09e>\u001b[0m in \u001b[0;36m<module>\u001b[1;34m\u001b[0m\n\u001b[0;32m      2\u001b[0m \u001b[1;33m\u001b[0m\u001b[0m\n\u001b[0;32m      3\u001b[0m \u001b[1;32mfor\u001b[0m \u001b[0mi\u001b[0m \u001b[1;32min\u001b[0m \u001b[0mrange\u001b[0m\u001b[1;33m(\u001b[0m\u001b[1;36m10000\u001b[0m\u001b[1;33m)\u001b[0m\u001b[1;33m:\u001b[0m\u001b[1;33m\u001b[0m\u001b[1;33m\u001b[0m\u001b[0m\n\u001b[1;32m----> 4\u001b[1;33m     \u001b[0menv\u001b[0m\u001b[1;33m.\u001b[0m\u001b[0mrender\u001b[0m\u001b[1;33m(\u001b[0m\u001b[1;33m)\u001b[0m\u001b[1;33m\u001b[0m\u001b[1;33m\u001b[0m\u001b[0m\n\u001b[0m\u001b[0;32m      5\u001b[0m     \u001b[0mactions\u001b[0m \u001b[1;33m=\u001b[0m \u001b[0msess\u001b[0m\u001b[1;33m.\u001b[0m\u001b[0mrun\u001b[0m\u001b[1;33m(\u001b[0m\u001b[0maction_op\u001b[0m\u001b[1;33m,\u001b[0m \u001b[0mfeed_dict\u001b[0m\u001b[1;33m=\u001b[0m\u001b[1;33m{\u001b[0m\u001b[0mstate_ph\u001b[0m\u001b[1;33m:\u001b[0m \u001b[1;33m[\u001b[0m\u001b[0mobservations\u001b[0m\u001b[1;33m]\u001b[0m\u001b[1;33m}\u001b[0m\u001b[1;33m)\u001b[0m\u001b[1;33m\u001b[0m\u001b[1;33m\u001b[0m\u001b[0m\n\u001b[0;32m      6\u001b[0m     \u001b[0mobservations_old\u001b[0m \u001b[1;33m=\u001b[0m \u001b[0mobservations\u001b[0m\u001b[1;33m\u001b[0m\u001b[1;33m\u001b[0m\u001b[0m\n",
      "\u001b[1;32mC:\\Anaconda3\\lib\\site-packages\\gym\\core.py\u001b[0m in \u001b[0;36mrender\u001b[1;34m(self, mode, **kwargs)\u001b[0m\n\u001b[0;32m    228\u001b[0m \u001b[1;33m\u001b[0m\u001b[0m\n\u001b[0;32m    229\u001b[0m     \u001b[1;32mdef\u001b[0m \u001b[0mrender\u001b[0m\u001b[1;33m(\u001b[0m\u001b[0mself\u001b[0m\u001b[1;33m,\u001b[0m \u001b[0mmode\u001b[0m\u001b[1;33m=\u001b[0m\u001b[1;34m'human'\u001b[0m\u001b[1;33m,\u001b[0m \u001b[1;33m**\u001b[0m\u001b[0mkwargs\u001b[0m\u001b[1;33m)\u001b[0m\u001b[1;33m:\u001b[0m\u001b[1;33m\u001b[0m\u001b[1;33m\u001b[0m\u001b[0m\n\u001b[1;32m--> 230\u001b[1;33m         \u001b[1;32mreturn\u001b[0m \u001b[0mself\u001b[0m\u001b[1;33m.\u001b[0m\u001b[0menv\u001b[0m\u001b[1;33m.\u001b[0m\u001b[0mrender\u001b[0m\u001b[1;33m(\u001b[0m\u001b[0mmode\u001b[0m\u001b[1;33m,\u001b[0m \u001b[1;33m**\u001b[0m\u001b[0mkwargs\u001b[0m\u001b[1;33m)\u001b[0m\u001b[1;33m\u001b[0m\u001b[1;33m\u001b[0m\u001b[0m\n\u001b[0m\u001b[0;32m    231\u001b[0m \u001b[1;33m\u001b[0m\u001b[0m\n\u001b[0;32m    232\u001b[0m     \u001b[1;32mdef\u001b[0m \u001b[0mclose\u001b[0m\u001b[1;33m(\u001b[0m\u001b[0mself\u001b[0m\u001b[1;33m)\u001b[0m\u001b[1;33m:\u001b[0m\u001b[1;33m\u001b[0m\u001b[1;33m\u001b[0m\u001b[0m\n",
      "\u001b[1;32mC:\\Anaconda3\\lib\\site-packages\\gym\\envs\\classic_control\\mountain_car.py\u001b[0m in \u001b[0;36mrender\u001b[1;34m(self, mode)\u001b[0m\n\u001b[0;32m    116\u001b[0m         \u001b[0mself\u001b[0m\u001b[1;33m.\u001b[0m\u001b[0mcartrans\u001b[0m\u001b[1;33m.\u001b[0m\u001b[0mset_rotation\u001b[0m\u001b[1;33m(\u001b[0m\u001b[0mmath\u001b[0m\u001b[1;33m.\u001b[0m\u001b[0mcos\u001b[0m\u001b[1;33m(\u001b[0m\u001b[1;36m3\u001b[0m \u001b[1;33m*\u001b[0m \u001b[0mpos\u001b[0m\u001b[1;33m)\u001b[0m\u001b[1;33m)\u001b[0m\u001b[1;33m\u001b[0m\u001b[1;33m\u001b[0m\u001b[0m\n\u001b[0;32m    117\u001b[0m \u001b[1;33m\u001b[0m\u001b[0m\n\u001b[1;32m--> 118\u001b[1;33m         \u001b[1;32mreturn\u001b[0m \u001b[0mself\u001b[0m\u001b[1;33m.\u001b[0m\u001b[0mviewer\u001b[0m\u001b[1;33m.\u001b[0m\u001b[0mrender\u001b[0m\u001b[1;33m(\u001b[0m\u001b[0mreturn_rgb_array\u001b[0m \u001b[1;33m=\u001b[0m \u001b[0mmode\u001b[0m\u001b[1;33m==\u001b[0m\u001b[1;34m'rgb_array'\u001b[0m\u001b[1;33m)\u001b[0m\u001b[1;33m\u001b[0m\u001b[1;33m\u001b[0m\u001b[0m\n\u001b[0m\u001b[0;32m    119\u001b[0m \u001b[1;33m\u001b[0m\u001b[0m\n\u001b[0;32m    120\u001b[0m     \u001b[1;32mdef\u001b[0m \u001b[0mget_keys_to_action\u001b[0m\u001b[1;33m(\u001b[0m\u001b[0mself\u001b[0m\u001b[1;33m)\u001b[0m\u001b[1;33m:\u001b[0m\u001b[1;33m\u001b[0m\u001b[1;33m\u001b[0m\u001b[0m\n",
      "\u001b[1;32mC:\\Anaconda3\\lib\\site-packages\\gym\\envs\\classic_control\\rendering.py\u001b[0m in \u001b[0;36mrender\u001b[1;34m(self, return_rgb_array)\u001b[0m\n\u001b[0;32m     89\u001b[0m \u001b[1;33m\u001b[0m\u001b[0m\n\u001b[0;32m     90\u001b[0m     \u001b[1;32mdef\u001b[0m \u001b[0mrender\u001b[0m\u001b[1;33m(\u001b[0m\u001b[0mself\u001b[0m\u001b[1;33m,\u001b[0m \u001b[0mreturn_rgb_array\u001b[0m\u001b[1;33m=\u001b[0m\u001b[1;32mFalse\u001b[0m\u001b[1;33m)\u001b[0m\u001b[1;33m:\u001b[0m\u001b[1;33m\u001b[0m\u001b[1;33m\u001b[0m\u001b[0m\n\u001b[1;32m---> 91\u001b[1;33m         \u001b[0mglClearColor\u001b[0m\u001b[1;33m(\u001b[0m\u001b[1;36m1\u001b[0m\u001b[1;33m,\u001b[0m\u001b[1;36m1\u001b[0m\u001b[1;33m,\u001b[0m\u001b[1;36m1\u001b[0m\u001b[1;33m,\u001b[0m\u001b[1;36m1\u001b[0m\u001b[1;33m)\u001b[0m\u001b[1;33m\u001b[0m\u001b[1;33m\u001b[0m\u001b[0m\n\u001b[0m\u001b[0;32m     92\u001b[0m         \u001b[0mself\u001b[0m\u001b[1;33m.\u001b[0m\u001b[0mwindow\u001b[0m\u001b[1;33m.\u001b[0m\u001b[0mclear\u001b[0m\u001b[1;33m(\u001b[0m\u001b[1;33m)\u001b[0m\u001b[1;33m\u001b[0m\u001b[1;33m\u001b[0m\u001b[0m\n\u001b[0;32m     93\u001b[0m         \u001b[0mself\u001b[0m\u001b[1;33m.\u001b[0m\u001b[0mwindow\u001b[0m\u001b[1;33m.\u001b[0m\u001b[0mswitch_to\u001b[0m\u001b[1;33m(\u001b[0m\u001b[1;33m)\u001b[0m\u001b[1;33m\u001b[0m\u001b[1;33m\u001b[0m\u001b[0m\n",
      "\u001b[1;32mC:\\Anaconda3\\lib\\site-packages\\pyglet\\gl\\lib.py\u001b[0m in \u001b[0;36merrcheck\u001b[1;34m(result, func, arguments)\u001b[0m\n\u001b[0;32m    100\u001b[0m         \u001b[1;32mraise\u001b[0m \u001b[0mGLException\u001b[0m\u001b[1;33m(\u001b[0m\u001b[1;34m'No GL context; create a Window first'\u001b[0m\u001b[1;33m)\u001b[0m\u001b[1;33m\u001b[0m\u001b[1;33m\u001b[0m\u001b[0m\n\u001b[0;32m    101\u001b[0m     \u001b[1;32mif\u001b[0m \u001b[1;32mnot\u001b[0m \u001b[0mcontext\u001b[0m\u001b[1;33m.\u001b[0m\u001b[0m_gl_begin\u001b[0m\u001b[1;33m:\u001b[0m\u001b[1;33m\u001b[0m\u001b[1;33m\u001b[0m\u001b[0m\n\u001b[1;32m--> 102\u001b[1;33m         \u001b[0merror\u001b[0m \u001b[1;33m=\u001b[0m \u001b[0mgl\u001b[0m\u001b[1;33m.\u001b[0m\u001b[0mglGetError\u001b[0m\u001b[1;33m(\u001b[0m\u001b[1;33m)\u001b[0m\u001b[1;33m\u001b[0m\u001b[1;33m\u001b[0m\u001b[0m\n\u001b[0m\u001b[0;32m    103\u001b[0m         \u001b[1;32mif\u001b[0m \u001b[0merror\u001b[0m\u001b[1;33m:\u001b[0m\u001b[1;33m\u001b[0m\u001b[1;33m\u001b[0m\u001b[0m\n\u001b[0;32m    104\u001b[0m             \u001b[0mmsg\u001b[0m \u001b[1;33m=\u001b[0m \u001b[0mctypes\u001b[0m\u001b[1;33m.\u001b[0m\u001b[0mcast\u001b[0m\u001b[1;33m(\u001b[0m\u001b[0mgl\u001b[0m\u001b[1;33m.\u001b[0m\u001b[0mgluErrorString\u001b[0m\u001b[1;33m(\u001b[0m\u001b[0merror\u001b[0m\u001b[1;33m)\u001b[0m\u001b[1;33m,\u001b[0m \u001b[0mctypes\u001b[0m\u001b[1;33m.\u001b[0m\u001b[0mc_char_p\u001b[0m\u001b[1;33m)\u001b[0m\u001b[1;33m.\u001b[0m\u001b[0mvalue\u001b[0m\u001b[1;33m\u001b[0m\u001b[1;33m\u001b[0m\u001b[0m\n",
      "\u001b[1;31mKeyboardInterrupt\u001b[0m: "
     ]
    }
   ],
   "source": [
    "observations = env.reset()\n",
    "\n",
    "for i in range(10000):\n",
    "    env.render()\n",
    "    actions = sess.run(action_op, feed_dict={state_ph: [observations]})\n",
    "    observations_old = observations\n",
    "    observations, rewards, dones, _ = env.step(actions[0])\n",
    "    \n",
    "    if dones:\n",
    "        observations = env.reset()\n",
    "        print('Done')\n"
   ]
  },
  {
   "cell_type": "markdown",
   "metadata": {},
   "source": [
    "## Random agent"
   ]
  },
  {
   "cell_type": "code",
   "execution_count": null,
   "metadata": {
    "scrolled": true
   },
   "outputs": [],
   "source": [
    "observations = env.reset()\n",
    "\n",
    "for i in range(1000):\n",
    "    env.render()\n",
    "    actions = [envs.action_space.sample() for i in range(envs.num_envs)]\n",
    "    observations_old = observations\n",
    "    observations, rewards, dones, _ = env.step(actions[0])\n",
    "    \n",
    "    if dones:\n",
    "        observations = env.reset()\n",
    "        print('Done')\n",
    "    "
   ]
  },
  {
   "cell_type": "code",
   "execution_count": null,
   "metadata": {},
   "outputs": [],
   "source": [
    "import time\n",
    "saver = tf.train.Saver()\n",
    "#save_path = saver.save(sess, f'./models/lunar-lander-long-{int(time.time())}.ckpt')\n",
    "print(\"Model saved in path: %s\" % save_path)"
   ]
  },
  {
   "cell_type": "code",
   "execution_count": null,
   "metadata": {},
   "outputs": [],
   "source": [
    "# saver = tf.train.Saver()\n",
    "# saver.restore(sess, \"./models/lunar-lander-1563118687.ckpt\")"
   ]
  },
  {
   "cell_type": "code",
   "execution_count": 19,
   "metadata": {},
   "outputs": [
    {
     "name": "stdout",
     "output_type": "stream",
     "text": [
      "<class 'numpy.ndarray'>\n"
     ]
    }
   ],
   "source": [
    "a, b, c ,d = envs.step([0 for i in range(envs.num_envs)])\n",
    "print(type(a))"
   ]
  },
  {
   "cell_type": "code",
   "execution_count": 8,
   "metadata": {},
   "outputs": [
    {
     "data": {
      "text/plain": [
       "array([[ 0,  1,  2,  3,  4,  5,  6,  7,  8,  9],\n",
       "       [10, 11, 12, 13, 14, 15, 16, 17, 18, 19],\n",
       "       [20, 21, 22, 23, 24, 25, 26, 27, 28, 29]])"
      ]
     },
     "execution_count": 8,
     "metadata": {},
     "output_type": "execute_result"
    }
   ],
   "source": [
    "import numpy as np\n",
    "a = np.array([np.arange(10),np.arange(10, 20),np.arange(20, 30)])\n",
    "a"
   ]
  },
  {
   "cell_type": "code",
   "execution_count": 9,
   "metadata": {},
   "outputs": [
    {
     "data": {
      "text/plain": [
       "array([[ 0,  1,  2,  3,  4,  5,  6,  7,  8,  9, 10, 11, 12, 13, 14, 15,\n",
       "        16, 17, 18, 19, 20, 21, 22, 23, 24, 25, 26, 27, 28, 29]])"
      ]
     },
     "execution_count": 9,
     "metadata": {},
     "output_type": "execute_result"
    }
   ],
   "source": [
    "a.reshape(1, -1)"
   ]
  },
  {
   "cell_type": "code",
   "execution_count": 5,
   "metadata": {},
   "outputs": [
    {
     "data": {
      "text/plain": [
       "array([9, 8, 7, 6, 5, 4, 3, 2, 1, 0])"
      ]
     },
     "execution_count": 5,
     "metadata": {},
     "output_type": "execute_result"
    }
   ],
   "source": [
    "np.arange(10)[::-1]"
   ]
  },
  {
   "cell_type": "code",
   "execution_count": null,
   "metadata": {},
   "outputs": [],
   "source": []
  }
 ],
 "metadata": {
  "kernelspec": {
   "display_name": "Python 3",
   "language": "python",
   "name": "python3"
  },
  "language_info": {
   "codemirror_mode": {
    "name": "ipython",
    "version": 3
   },
   "file_extension": ".py",
   "mimetype": "text/x-python",
   "name": "python",
   "nbconvert_exporter": "python",
   "pygments_lexer": "ipython3",
   "version": "3.7.3"
  }
 },
 "nbformat": 4,
 "nbformat_minor": 2
}

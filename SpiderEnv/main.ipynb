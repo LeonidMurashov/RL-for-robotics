{
 "cells": [
  {
   "cell_type": "code",
   "execution_count": null,
   "metadata": {},
   "outputs": [],
   "source": [
    "from gym_spider import *\n",
    "spider_env = SpiderEnv()\n",
    "spider_env.reset_model()\n",
    "\n",
    "\n",
    "\n",
    "for i in range(10000):\n",
    "    n = np.sin(i/100)*90\n",
    "    ob, reward, done, reward_dict = spider_env.step(np.array([n, n, n,\n",
    "                                                              n, n, n,\n",
    "                                                              n, n, n,\n",
    "                                                              n, n, n,\n",
    "                                                              n, n, n,\n",
    "                                                              n, n, n]))\n",
    "    spider_env.render()"
   ]
  },
  {
   "cell_type": "code",
   "execution_count": null,
   "metadata": {},
   "outputs": [],
   "source": [
    "from gym_spider import *\n",
    "spider_env = SpiderEnv()\n",
    "spider_env.reset_model()\n",
    "\n",
    "for i in range(10000):\n",
    "    for n in range(-30, 30, 1):\n",
    "        ob, reward, done, reward_dict = spider_env.step(np.array([n, n, n,\n",
    "                                                                  n, n, n,\n",
    "                                                                  n, n, n,\n",
    "                                                                  n, n, n,\n",
    "                                                                  n, n, n,\n",
    "                                                                  n, n, n]))\n",
    "        spider_env.render()\n",
    "    \n",
    "    for n in range(30, -30, -1):\n",
    "        ob, reward, done, reward_dict = spider_env.step(np.array([n, n, n,\n",
    "                                                                  n, n, n,\n",
    "                                                                  n, n, n,\n",
    "                                                                  n, n, n,\n",
    "                                                                  n, n, n,\n",
    "                                                                  n, n, n]))\n",
    "        spider_env.render()\n",
    "    "
   ]
  },
  {
   "cell_type": "code",
   "execution_count": null,
   "metadata": {},
   "outputs": [],
   "source": [
    "from ServotorAPI import *\n",
    "from gym_spider import *\n",
    "spider_env = SpiderEnv()\n",
    "spider_env.reset_model()\n",
    "\n",
    "s = ServotorAPI(degree_type=\"std\")\n",
    "s.move_servo(6, 90)\n",
    "\n",
    "\n",
    "\n",
    "for i in range(10000):\n",
    "    for n in range(90):\n",
    "        ob, reward, done, reward_dict = spider_env.step(np.array([0, 0, 0,\n",
    "                                                                  0, -90, 0,\n",
    "                                                                  0, 0, 0,\n",
    "                                                                  0, 0, 0,\n",
    "                                                                  0, 0, 0,\n",
    "                                                                  0, 0, 0,]))\n",
    "        spider_env.render()"
   ]
  },
  {
   "cell_type": "code",
   "execution_count": null,
   "metadata": {},
   "outputs": [],
   "source": [
    "servo_dict = {14: 5, 8: 6, 2: 7,\n",
    "              13: 9, 7: 10, 1: 11,\n",
    "              18: 13, 12: 14, 6: 15,\n",
    "              17: 18, 11: 17, 5: 16,\n",
    "              16: 22, 10: 21, 4: 20,\n",
    "              15: 26, 9: 25, 3: 24}\n",
    "#  from sim to real"
   ]
  },
  {
   "cell_type": "code",
   "execution_count": null,
   "metadata": {},
   "outputs": [],
   "source": [
    "from ServotorAPI import *\n",
    "from gym_spider import *\n",
    "spider_env = SpiderEnv()\n",
    "spider_env.reset_model()\n",
    "\n",
    "s = ServotorAPI(degree_type=\"std\")\n",
    "\n",
    "\n",
    "#s.move_servo(6, 90)\n",
    "#s.move_servo(servo_dict[7], -45)\n",
    "\n",
    "\n",
    "for i in range(10000):\n",
    "    s.move_servo(servo_dict[7], 90)\n",
    "    for n in range(90):\n",
    "        \n",
    "        ob, reward, done, reward_dict = spider_env.step(np.array([0, 0, 0,\n",
    "                                                                  0, 0, 0,\n",
    "                                                                  -n, 0, 0,\n",
    "                                                                  0, 0, 0,\n",
    "                                                                  0, 0, 0,\n",
    "                                                                  0, 0, 0,]))\n",
    "        spider_env.render()\n",
    "    "
   ]
  },
  {
   "cell_type": "code",
   "execution_count": null,
   "metadata": {},
   "outputs": [],
   "source": [
    "from ServotorAPI import *\n",
    "from gym_spider import *\n",
    "s = ServotorAPI(degree_type=\"std\")\n",
    "spider_env = SpiderEnv()\n",
    "spider_env.reset_model()\n"
   ]
  },
  {
   "cell_type": "code",
   "execution_count": null,
   "metadata": {},
   "outputs": [],
   "source": [
    "s.move_servo(servo_dict[12], -15)\n",
    "s.move_servo(servo_dict[7], -30)\n",
    "s.move_servo(servo_dict[8], -45)\n",
    "s.move_servo(servo_dict[9], -60)\n",
    "s.move_servo(servo_dict[10], -75)\n",
    "s.move_servo(servo_dict[11], -90)\n",
    "for i in range(10000):\n",
    "   \n",
    "        \n",
    "    ob, reward, done, reward_dict = spider_env.step(np.array([0, 0, 0,\n",
    "                                                                  0, 0, 0,\n",
    "                                                                  30, 15, 90,\n",
    "                                                                  75, 60, 45,\n",
    "                                                                  0, 0, 0,\n",
    "                                                                  0, 0, 0,]))\n",
    "    spider_env.render()"
   ]
  },
  {
   "cell_type": "code",
   "execution_count": null,
   "metadata": {},
   "outputs": [],
   "source": [
    "s.center_servos()"
   ]
  },
  {
   "cell_type": "code",
   "execution_count": null,
   "metadata": {},
   "outputs": [],
   "source": []
  },
  {
   "cell_type": "code",
   "execution_count": null,
   "metadata": {},
   "outputs": [],
   "source": [
    "from ServotorAPI import *\n",
    "from gym_spider import *\n",
    "#s = ServotorAPI(degree_type=\"std\")\n",
    "spider_env = SpiderEnv()\n",
    "spider_env.reset_model()\n",
    "\n"
   ]
  },
  {
   "cell_type": "code",
   "execution_count": null,
   "metadata": {},
   "outputs": [],
   "source": [
    "s.center_servos()"
   ]
  },
  {
   "cell_type": "code",
   "execution_count": null,
   "metadata": {
    "scrolled": true
   },
   "outputs": [],
   "source": [
    "for i in range(10000):\n",
    "    n = np.sin(i/100)*90\n",
    "    ob, reward, done, reward_dict = spider_env.step(np.array([n for i in range(18)]))\n",
    "    spider_env.render()\n",
    "   \n",
    "    #for servo in (5, 6, 7, 9, 10, 11, 13, 14, 15, 16, 17, 18, 20, 21, 22, 24, 25, 26, 31):\n",
    "    #    s.move_servo(servo, -n)\n",
    "    "
   ]
  },
  {
   "cell_type": "code",
   "execution_count": null,
   "metadata": {},
   "outputs": [],
   "source": [
    "s.kill_all_servos()"
   ]
  },
  {
   "cell_type": "code",
   "execution_count": null,
   "metadata": {},
   "outputs": [],
   "source": [
    "s.move_servo(13, -90)"
   ]
  },
  {
   "cell_type": "code",
   "execution_count": null,
   "metadata": {},
   "outputs": [],
   "source": [
    "6.66*18"
   ]
  },
  {
   "cell_type": "code",
   "execution_count": null,
   "metadata": {},
   "outputs": [],
   "source": [
    "from ServotorAPI import *\n",
    "from gym_spider import *\n",
    "spider_env = SpiderEnv()\n",
    "spider_env.reset_model()\n",
    "from time import time\n",
    "    \n",
    "s = ServotorAPI(degree_type=\"std\")\n",
    "s.center_servos()"
   ]
  },
  {
   "cell_type": "code",
   "execution_count": null,
   "metadata": {
    "scrolled": true
   },
   "outputs": [],
   "source": [
    "\n",
    "\n",
    "t = time()\n",
    "for i in range(100):\n",
    "    n = np.sin(i/5)*90\n",
    "    for servo in (5, 6, 7, 9, 10, 11, 13, 14, 15, 16, 17, 18, 20, 21, 22, 24, 25, 26, 31):\n",
    "        s.move_servo(servo, n)\n",
    "    \n",
    "    for j in range(100):\n",
    "        n = np.sin(j)*90\n",
    "        ob, reward, done, reward_dict = spider_env.step(np.array([-n for i in range(18)]))\n",
    "    spider_env.render()    \n",
    "    \n",
    "    \n",
    "s.kill_all_servos()\n",
    "s.close_connection()"
   ]
  },
  {
   "cell_type": "code",
   "execution_count": null,
   "metadata": {},
   "outputs": [],
   "source": [
    "s.kill_all_servos()\n",
    "\n",
    "s.close_connection()"
   ]
  },
  {
   "cell_type": "code",
   "execution_count": null,
   "metadata": {},
   "outputs": [],
   "source": [
    "from threading import Thread\n",
    "from gym_spider import *\n",
    "from ServotorAPI import *\n",
    "def real_spider():\n",
    "\n",
    "    s = ServotorAPI(degree_type=\"std\")\n",
    "    s.center_servos()\n",
    "\n",
    "    t = time()\n",
    "    for i in range(100):\n",
    "        n = np.sin(i/5)*90\n",
    "        for servo in (5, 6, 7, 9, 10, 11, 13, 14, 15, 16, 17, 18, 20, 21, 22, 24, 25, 26, 31):\n",
    "            s.move_servo(servo, n)\n",
    "def sim_spider():\n",
    "    \n",
    "    spider_env = SpiderEnv()\n",
    "    spider_env.reset_model()\n",
    "\n",
    "    for i in range(10000):\n",
    "        n = np.sin(i/100)*90\n",
    "        ob, reward, done, reward_dict = spider_env.step(np.array([n for i in range(18)]))\n",
    "        spider_env.render()\n",
    "\n",
    "sim_Thread = Thread(target=sim_spider)\n",
    "real_Thread = Thread(target=real_spider)\n",
    "\n",
    "sim_Thread.start()\n",
    "real_Thread.start()\n",
    "sim_Thread.join()\n",
    "real_Thread.join()"
   ]
  },
  {
   "cell_type": "code",
   "execution_count": null,
   "metadata": {},
   "outputs": [],
   "source": [
    "from multiprocessing import Process\n",
    "from gym_spider import *\n",
    "from ServotorAPI import *\n",
    "def real_spider():\n",
    "\n",
    "    s = ServotorAPI(degree_type=\"std\")\n",
    "    s.center_servos()\n",
    "\n",
    "    t = time()\n",
    "    for i in range(100):\n",
    "        n = np.sin(i/5)*90\n",
    "        for servo in (5, 6, 7, 9, 10, 11, 13, 14, 15, 16, 17, 18, 20, 21, 22, 24, 25, 26, 31):\n",
    "            s.move_servo(servo, n)\n",
    "def sim_spider():\n",
    "    \n",
    "    spider_env = SpiderEnv()\n",
    "    spider_env.reset_model()\n",
    "\n",
    "    for i in range(10000):\n",
    "        n = np.sin(i/100)*90\n",
    "        ob, reward, done, reward_dict = spider_env.step(np.array([n for i in range(18)]))\n",
    "        spider_env.render()\n",
    "\n",
    "sim_Thread = Process(target=sim_spider)\n",
    "real_Thread = Process(target=real_spider)\n",
    "\n",
    "sim_Thread.start()\n",
    "real_Thread.start()\n",
    "sim_Thread.join()\n",
    "real_Thread.join()"
   ]
  },
  {
   "cell_type": "code",
   "execution_count": null,
   "metadata": {},
   "outputs": [],
   "source": []
  }
 ],
 "metadata": {
  "kernelspec": {
   "display_name": "Python 3",
   "language": "python",
   "name": "python3"
  }
 },
 "nbformat": 4,
 "nbformat_minor": 2
}

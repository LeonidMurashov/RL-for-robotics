{
 "cells": [
  {
   "cell_type": "markdown",
   "metadata": {},
   "source": [
    "### Лучше пройти то же самое от DLS\n"
   ]
  },
  {
   "cell_type": "code",
   "execution_count": 1,
   "metadata": {},
   "outputs": [],
   "source": [
    "import numpy as np\n",
    "import tensorflow as tf\n",
    "import tensorflow.python.util.deprecation as deprecation\n",
    "deprecation._PRINT_DEPRECATION_WARNINGS = False"
   ]
  },
  {
   "cell_type": "code",
   "execution_count": 2,
   "metadata": {},
   "outputs": [
    {
     "name": "stdout",
     "output_type": "stream",
     "text": [
      "Tensor(\"Const:0\", shape=(), dtype=float32)\n",
      "Tensor(\"Const_1:0\", shape=(), dtype=float32)\n",
      "Tensor(\"add:0\", shape=(), dtype=float32)\n"
     ]
    }
   ],
   "source": [
    "a = tf.constant(3.0, dtype=tf.float32)\n",
    "b = tf.constant(4.0) # also tf.float32 implicitly\n",
    "total = a + b\n",
    "print(a)\n",
    "print(b)\n",
    "print(total)"
   ]
  },
  {
   "cell_type": "code",
   "execution_count": 25,
   "metadata": {},
   "outputs": [],
   "source": [
    "writer = tf.summary.FileWriter('.')\n",
    "writer.add_graph(tf.get_default_graph())\n",
    "writer.flush()"
   ]
  },
  {
   "cell_type": "code",
   "execution_count": 4,
   "metadata": {},
   "outputs": [
    {
     "name": "stdout",
     "output_type": "stream",
     "text": [
      "7.0\n"
     ]
    }
   ],
   "source": [
    "sess = tf.Session()\n",
    "print(sess.run(total))"
   ]
  },
  {
   "cell_type": "code",
   "execution_count": 5,
   "metadata": {},
   "outputs": [
    {
     "name": "stdout",
     "output_type": "stream",
     "text": [
      "{'ab': [3.0, [4.0, 7.0]], 'total': 7.0}\n"
     ]
    }
   ],
   "source": [
    "print(sess.run({'ab':[a, [b, total]], 'total':total}))"
   ]
  },
  {
   "cell_type": "code",
   "execution_count": 6,
   "metadata": {},
   "outputs": [
    {
     "name": "stdout",
     "output_type": "stream",
     "text": [
      "[0.15854716 0.01456761 0.0474354 ]\n",
      "[0.09198487 0.8608322  0.9111569 ]\n",
      "[array([1.6111382, 1.0350314, 1.1125209], dtype=float32), array([2.6111383, 2.0350313, 2.112521 ], dtype=float32)]\n"
     ]
    }
   ],
   "source": [
    "vec = tf.random_uniform(shape=(3,))\n",
    "out1 = vec + 1\n",
    "out2 = vec + 2\n",
    "print(sess.run(vec))\n",
    "print(sess.run(vec))\n",
    "print(sess.run([out1, out2]))"
   ]
  },
  {
   "cell_type": "markdown",
   "metadata": {},
   "source": [
    "# Feeding"
   ]
  },
  {
   "cell_type": "code",
   "execution_count": 7,
   "metadata": {},
   "outputs": [],
   "source": [
    "x = tf.placeholder(tf.float32)\n",
    "y = tf.placeholder(tf.float32)\n",
    "z = x + y"
   ]
  },
  {
   "cell_type": "code",
   "execution_count": 8,
   "metadata": {},
   "outputs": [
    {
     "name": "stdout",
     "output_type": "stream",
     "text": [
      "7.5\n",
      "[3. 7. 2.]\n"
     ]
    }
   ],
   "source": [
    "print(sess.run(z, feed_dict={x: 3, y: 4.5}))\n",
    "print(sess.run(z, feed_dict={x: [1, 3, 1], y: [2, 4, 1]}))"
   ]
  },
  {
   "cell_type": "code",
   "execution_count": 9,
   "metadata": {},
   "outputs": [
    {
     "name": "stdout",
     "output_type": "stream",
     "text": [
      "[4. 5.]\n"
     ]
    }
   ],
   "source": [
    "print(sess.run(z, feed_dict={x: 3, y: [1, 2]}))\n"
   ]
  },
  {
   "cell_type": "markdown",
   "metadata": {},
   "source": [
    "# Layers"
   ]
  },
  {
   "cell_type": "code",
   "execution_count": 10,
   "metadata": {},
   "outputs": [],
   "source": [
    "x = tf.placeholder(tf.float32, shape=[None, 3])\n",
    "linear_model = tf.layers.Dense(units=1)\n",
    "y = linear_model(x)"
   ]
  },
  {
   "cell_type": "code",
   "execution_count": 11,
   "metadata": {},
   "outputs": [],
   "source": [
    "init = tf.global_variables_initializer()\n",
    "sess.run(init)"
   ]
  },
  {
   "cell_type": "code",
   "execution_count": 12,
   "metadata": {},
   "outputs": [
    {
     "data": {
      "text/plain": [
       "[[array([[-1.00066   ],\n",
       "         [ 0.9322866 ],\n",
       "         [ 0.09345937]], dtype=float32), array([0.], dtype=float32)]]"
      ]
     },
     "execution_count": 12,
     "metadata": {},
     "output_type": "execute_result"
    }
   ],
   "source": [
    "sess.run([linear_model.weights], feed_dict={x: [[1, 2, 3], [4, 5, 6]]})"
   ]
  },
  {
   "cell_type": "code",
   "execution_count": 13,
   "metadata": {},
   "outputs": [
    {
     "data": {
      "text/plain": [
       "[array([[1.1442914],\n",
       "        [1.2195497]], dtype=float32)]"
      ]
     },
     "execution_count": 13,
     "metadata": {},
     "output_type": "execute_result"
    }
   ],
   "source": [
    "sess.run([y], feed_dict={x: [[1, 2, 3], [4, 5, 6]]})"
   ]
  },
  {
   "cell_type": "code",
   "execution_count": 14,
   "metadata": {},
   "outputs": [
    {
     "name": "stdout",
     "output_type": "stream",
     "text": [
      "[[-0.6006839]\n",
      " [-2.8389626]]\n"
     ]
    }
   ],
   "source": [
    "x = tf.placeholder(tf.float32, shape=[None, 3])\n",
    "y = tf.layers.dense(x, units=1)\n",
    "\n",
    "init = tf.global_variables_initializer()\n",
    "sess.run(init)\n",
    "\n",
    "print(sess.run(y, {x: [[1, 2, 3], [4, 5, 6]]}))"
   ]
  },
  {
   "cell_type": "markdown",
   "metadata": {},
   "source": [
    "# Training"
   ]
  },
  {
   "cell_type": "code",
   "execution_count": 19,
   "metadata": {},
   "outputs": [],
   "source": [
    "x = tf.constant([[1], [2], [3], [4]], dtype=tf.float32)\n",
    "y_true = tf.constant([[0], [-1], [-2], [-3]], dtype=tf.float32)"
   ]
  },
  {
   "cell_type": "code",
   "execution_count": 20,
   "metadata": {},
   "outputs": [],
   "source": [
    "linear_model = tf.layers.Dense(units=1)\n",
    "\n",
    "y_pred = linear_model(x)"
   ]
  },
  {
   "cell_type": "code",
   "execution_count": 21,
   "metadata": {},
   "outputs": [
    {
     "name": "stdout",
     "output_type": "stream",
     "text": [
      "[[1.0418633]\n",
      " [2.0837266]\n",
      " [3.1255898]\n",
      " [4.1674533]]\n"
     ]
    }
   ],
   "source": [
    "sess = tf.Session()\n",
    "init = tf.global_variables_initializer()\n",
    "sess.run(init)\n",
    "\n",
    "print(sess.run(y_pred))"
   ]
  },
  {
   "cell_type": "code",
   "execution_count": 22,
   "metadata": {},
   "outputs": [
    {
     "data": {
      "text/plain": [
       "22.059727"
      ]
     },
     "execution_count": 22,
     "metadata": {},
     "output_type": "execute_result"
    }
   ],
   "source": [
    "loss = tf.losses.mean_squared_error(labels=y_true, predictions=y_pred)\n",
    "sess.run(loss)"
   ]
  },
  {
   "cell_type": "code",
   "execution_count": 23,
   "metadata": {},
   "outputs": [],
   "source": [
    "optimizer = tf.train.GradientDescentOptimizer(0.01)\n",
    "train = optimizer.minimize(loss)"
   ]
  },
  {
   "cell_type": "code",
   "execution_count": 24,
   "metadata": {
    "scrolled": true
   },
   "outputs": [
    {
     "name": "stdout",
     "output_type": "stream",
     "text": [
      "22.059727\n",
      "15.422407\n",
      "10.816221\n",
      "7.619397\n",
      "5.400506\n",
      "3.860186\n",
      "2.7907152\n",
      "2.0479612\n",
      "1.531913\n",
      "1.1731751\n",
      "0.9235956\n",
      "0.74976265\n",
      "0.6284925\n",
      "0.5436985\n",
      "0.48421848\n",
      "0.44230705\n",
      "0.41258988\n",
      "0.39133805\n",
      "0.37596357\n",
      "0.3646713\n",
      "0.3562153\n",
      "0.34973097\n",
      "0.34461835\n",
      "0.34046143\n",
      "0.33697104\n",
      "0.3339469\n",
      "0.3312498\n",
      "0.32878327\n",
      "0.32648027\n",
      "0.32429433\n",
      "0.32219303\n",
      "0.32015404\n",
      "0.3181618\n",
      "0.31620523\n",
      "0.31427705\n",
      "0.31237194\n",
      "0.31048623\n",
      "0.30861726\n",
      "0.30676332\n",
      "0.3049232\n",
      "0.30309594\n",
      "0.30128086\n",
      "0.2994775\n",
      "0.2976856\n",
      "0.29590482\n",
      "0.29413494\n",
      "0.29237592\n",
      "0.2906275\n",
      "0.28888965\n",
      "0.28716224\n",
      "0.2854452\n",
      "0.28373858\n",
      "0.28204212\n",
      "0.2803558\n",
      "0.27867952\n",
      "0.2770133\n",
      "0.2753571\n",
      "0.2737108\n",
      "0.27207428\n",
      "0.2704476\n",
      "0.26883066\n",
      "0.26722333\n",
      "0.26562566\n",
      "0.26403752\n",
      "0.26245892\n",
      "0.26088968\n",
      "0.25932992\n",
      "0.2577794\n",
      "0.2562382\n",
      "0.25470617\n",
      "0.2531833\n",
      "0.25166956\n",
      "0.25016487\n",
      "0.24866919\n",
      "0.24718243\n",
      "0.24570459\n",
      "0.24423555\n",
      "0.24277526\n",
      "0.24132378\n",
      "0.2398809\n",
      "0.23844673\n",
      "0.2370211\n",
      "0.23560394\n",
      "0.23419535\n",
      "0.23279512\n",
      "0.23140325\n",
      "0.23001976\n",
      "0.22864449\n",
      "0.22727749\n",
      "0.22591862\n",
      "0.2245679\n",
      "0.22322522\n",
      "0.22189057\n",
      "0.220564\n",
      "0.2192452\n",
      "0.21793438\n",
      "0.21663138\n",
      "0.2153362\n",
      "0.21404874\n",
      "0.21276897\n"
     ]
    }
   ],
   "source": [
    "for i in range(100):\n",
    "  _, loss_value = sess.run((train, loss))\n",
    "  print(loss_value)"
   ]
  },
  {
   "cell_type": "markdown",
   "metadata": {},
   "source": [
    "# Full program"
   ]
  },
  {
   "cell_type": "code",
   "execution_count": 26,
   "metadata": {
    "scrolled": true
   },
   "outputs": [
    {
     "name": "stdout",
     "output_type": "stream",
     "text": [
      "28.003242\n",
      "19.556828\n",
      "13.695286\n",
      "9.627338\n",
      "6.8039303\n",
      "4.8440886\n",
      "3.48346\n",
      "2.5386178\n",
      "1.8822852\n",
      "1.4261476\n",
      "1.1089257\n",
      "0.88809836\n",
      "0.7341616\n",
      "0.6266432\n",
      "0.55133754\n",
      "0.49838787\n",
      "0.46095473\n",
      "0.43429232\n",
      "0.4151075\n",
      "0.40111542\n",
      "0.3907305\n",
      "0.3828526\n",
      "0.3767183\n",
      "0.37179768\n",
      "0.3677234\n",
      "0.36424017\n",
      "0.36117107\n",
      "0.3583932\n",
      "0.35582125\n",
      "0.3533961\n",
      "0.35107648\n",
      "0.3488341\n",
      "0.346649\n",
      "0.3445074\n",
      "0.34239975\n",
      "0.34031934\n",
      "0.33826157\n",
      "0.33622319\n",
      "0.3342018\n",
      "0.33219597\n",
      "0.33020443\n",
      "0.32822657\n",
      "0.32626158\n",
      "0.32430905\n",
      "0.32236886\n",
      "0.3204406\n",
      "0.31852415\n",
      "0.31661934\n",
      "0.31472605\n",
      "0.3128441\n",
      "0.31097358\n",
      "0.30911422\n",
      "0.307266\n",
      "0.3054288\n",
      "0.30360273\n",
      "0.3017875\n",
      "0.29998308\n",
      "0.29818952\n",
      "0.29640672\n",
      "0.29463458\n",
      "0.29287297\n",
      "0.29112196\n",
      "0.28938138\n",
      "0.28765118\n",
      "0.28593135\n",
      "0.2842218\n",
      "0.28252253\n",
      "0.28083336\n",
      "0.2791543\n",
      "0.27748528\n",
      "0.27582625\n",
      "0.2741771\n",
      "0.27253783\n",
      "0.27090842\n",
      "0.26928866\n",
      "0.26767865\n",
      "0.26607823\n",
      "0.26448745\n",
      "0.26290604\n",
      "0.26133418\n",
      "0.25977173\n",
      "0.25821862\n",
      "0.2566747\n",
      "0.25514016\n",
      "0.25361463\n",
      "0.25209838\n",
      "0.25059107\n",
      "0.24909286\n",
      "0.24760357\n",
      "0.24612315\n",
      "0.24465163\n",
      "0.24318893\n",
      "0.24173494\n",
      "0.24028961\n",
      "0.23885295\n",
      "0.23742491\n",
      "0.23600537\n",
      "0.23459432\n",
      "0.23319174\n",
      "0.23179752\n",
      "[[-0.7750713]\n",
      " [-1.3755752]\n",
      " [-1.976079 ]\n",
      " [-2.576583 ]]\n"
     ]
    }
   ],
   "source": [
    "x = tf.constant([[1], [2], [3], [4]], dtype=tf.float32)\n",
    "y_true = tf.constant([[0], [-1], [-2], [-3]], dtype=tf.float32)\n",
    "\n",
    "linear_model = tf.layers.Dense(units=1)\n",
    "\n",
    "y_pred = linear_model(x)\n",
    "loss = tf.losses.mean_squared_error(labels=y_true, predictions=y_pred)\n",
    "\n",
    "optimizer = tf.train.GradientDescentOptimizer(0.01)\n",
    "train = optimizer.minimize(loss)\n",
    "\n",
    "init = tf.global_variables_initializer()\n",
    "\n",
    "sess = tf.Session()\n",
    "sess.run(init)\n",
    "for i in range(100):\n",
    "  _, loss_value = sess.run((train, loss))\n",
    "  print(loss_value)\n",
    "\n",
    "print(sess.run(y_pred))"
   ]
  },
  {
   "cell_type": "code",
   "execution_count": null,
   "metadata": {},
   "outputs": [],
   "source": []
  }
 ],
 "metadata": {
  "kernelspec": {
   "display_name": "Python 3",
   "language": "python",
   "name": "python3"
  },
  "language_info": {
   "codemirror_mode": {
    "name": "ipython",
    "version": 3
   },
   "file_extension": ".py",
   "mimetype": "text/x-python",
   "name": "python",
   "nbconvert_exporter": "python",
   "pygments_lexer": "ipython3",
   "version": "3.7.3"
  }
 },
 "nbformat": 4,
 "nbformat_minor": 2
}

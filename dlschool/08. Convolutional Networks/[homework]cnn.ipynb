{
  "nbformat": 4,
  "nbformat_minor": 0,
  "metadata": {
    "colab": {
      "name": "[homework]cnn_.ipynb",
      "version": "0.3.2",
      "provenance": [],
      "collapsed_sections": [
        "gR1aXzGrGnGY"
      ]
    },
    "language_info": {
      "codemirror_mode": {
        "name": "ipython",
        "version": 3
      },
      "file_extension": ".py",
      "mimetype": "text/x-python",
      "name": "python",
      "nbconvert_exporter": "python",
      "pygments_lexer": "ipython3",
      "version": "3.6.8"
    },
    "kernelspec": {
      "display_name": "Python 3",
      "language": "python",
      "name": "python3"
    }
  },
  "cells": [
    {
      "cell_type": "markdown",
      "metadata": {
        "id": "52QowEUzGnEt",
        "colab_type": "text"
      },
      "source": [
        "# Домашнее задание по свертке (ЧТОБЫ ПОЛУЧИТЬ ПРАВИЛЬНЫЕ ОТВЕТЫ ЗАПУСКАЙТЕ ВСЕ ЗАДАНИЯ В КОЛАБЕ, КРОМЕ ВИЗУАЛИЗАЦИИ С ПОЛЗУНКОМ)"
      ]
    },
    {
      "cell_type": "markdown",
      "metadata": {
        "id": "QG4xtFvjGnEv",
        "colab_type": "text"
      },
      "source": [
        "Сначала мы немного поговорим про то, что такое свертка в математическом плане и свяжем ее с тем, что используется в нейросетях. Это поможет понять, как именно вычисляется свертка и почему она помогает обрабатывать картинки. В задании достаточно много сложных вещей, которые помечены как материал для продвинутых. Если Вы учитесь в студенческом потоке, то Вы должны изучить продвинутую теорию. Для школьников этот материал не обязателен."
      ]
    },
    {
      "cell_type": "markdown",
      "metadata": {
        "id": "ETwTGggkGnEw",
        "colab_type": "text"
      },
      "source": [
        "Немного терминологии: **фильтры**, которые применяются к картинке в сверточном слое, также называются **ядро** и **kernel**.\n",
        "<img src=\"https://i.imgflip.com/2yq7h7.jpg\" width=600>"
      ]
    },
    {
      "cell_type": "markdown",
      "metadata": {
        "id": "coikSACIGnEx",
        "colab_type": "text"
      },
      "source": [
        "## Математическое опредление"
      ]
    },
    {
      "cell_type": "markdown",
      "metadata": {
        "id": "OkGXi9dpGnEy",
        "colab_type": "text"
      },
      "source": [
        "На самом деле сверточные нейросети так называются, потому что операция, которую они производят над входными данными, в математике называется свертка. Выглядит она вот так:\n",
        "\n",
        "$$(f*g)(x) = \\int \\limits^{+\\infty}_{-\\infty} f(\\tau)g(x - \\tau) d\\tau$$\n",
        "\n",
        "Где f, g вредставляют собой функции от координат задающие ядро и саму картинку. Если быть точнее, то в случае нейросетей вместо интеграла будет обычная сумма, так как картинка и ядро заданы пикселями, а значит функции дискретные. \n",
        "(_на самом деле аналогия не совсем правильная, потому что свертки в нейросетях немного отличаются от математических сверток, но эти различия незначительные_)"
      ]
    },
    {
      "cell_type": "markdown",
      "metadata": {
        "id": "NNfMX-6ZGnEz",
        "colab_type": "text"
      },
      "source": [
        "Есть несколько взглядов на то, как можно использовать свертку. Рассмотрим наиболее интересные применения, которые помогут нам глуже понять эту операцию."
      ]
    },
    {
      "cell_type": "markdown",
      "metadata": {
        "id": "MKBM7ClfGnE0",
        "colab_type": "text"
      },
      "source": [
        "## Свертка для преобразования сигналов."
      ]
    },
    {
      "cell_type": "markdown",
      "metadata": {
        "id": "YWTnGdx_GnE1",
        "colab_type": "text"
      },
      "source": [
        "### Одномерные сигналы (advanced)\n"
      ]
    },
    {
      "cell_type": "markdown",
      "metadata": {
        "id": "WBzvo8DIGnE2",
        "colab_type": "text"
      },
      "source": [
        "Если Вы когда-нибудь сталкивались с обработкой сигналов, то Вы сталкивались и со сверткой. Она очень часто применяется в этой области для многих вещей. Например, с помощью свертки можно убирать из сигнала шум, как на картинке ниже. Вверху зашумленный сигнал (например, измерения давления), а снизу справа очищенный.\n",
        "\n",
        "<img src=\"https://cdn-images-1.medium.com/max/1600/1*V2j4icieU9aAi3gW2ESqOw.png\" width=400>\n",
        "<img src=\"https://cdn-images-1.medium.com/max/1600/1*OiCIOkDIockKUIw6snQIxw.png\" width=700>\n",
        "(Изображение взято из [статьи на medium](https://towardsdatascience.com/convolution-a-journey-through-a-familiar-operators-deeper-roots-2e3311f23379))"
      ]
    },
    {
      "cell_type": "markdown",
      "metadata": {
        "id": "rTK9k685GnE3",
        "colab_type": "text"
      },
      "source": [
        "### Картинки"
      ]
    },
    {
      "cell_type": "markdown",
      "metadata": {
        "id": "lY4uO4lNGnE4",
        "colab_type": "text"
      },
      "source": [
        "&mdash; Хорошо, а как это относится к картинкам? Они что, тоже сигнал?\n",
        "\n",
        "&mdash; ДА!\n",
        "\n",
        "Вообще, если мы хотим рассматривать свертку в контексте математики, нам нужно как-то закодировать картинки в математические объекты. Логичнее всего сделать картинку дискретной функцией от двух переменных - x и y. По соответствующим координатам функция возвращает насыщенность пикселя. То же самое работает и для фильтров.\n",
        "\n",
        "Такой метод работает только для серых картинок, да и в формулах мы нигде пользоваться этим не будем, но помнить о том, что функция может быть картинкой полезно."
      ]
    },
    {
      "cell_type": "markdown",
      "metadata": {
        "id": "V0-mJm6tGnE5",
        "colab_type": "text"
      },
      "source": [
        "&mdash; В предыдущем примере используя специально подобранный фильтр мы смогли избавитсья от шума в сигнале, как сделать такое же с картинкой? \n",
        "\n",
        "&mdash; Нужно использовать точно такой же фильтр, но двумерный.\n",
        "\n",
        "Испробовать такие фильтры сами Вы можете на сайте http://setosa.io/ev/image-kernels. На мой взгляд, очень помогает понять, как работает свертка для серых картинок. \n",
        "<img src=\"files/sum_1.png\"  width=900>\n",
        "Изучите внимательно предыдущий сайт и напишите свою свертку для серых картинок. "
      ]
    },
    {
      "cell_type": "markdown",
      "metadata": {
        "id": "zVv-gO3YGnE6",
        "colab_type": "text"
      },
      "source": [
        "# [Задание 1]"
      ]
    },
    {
      "cell_type": "code",
      "metadata": {
        "code_folding": [
          10
        ],
        "id": "6ZUfuCqNGnE7",
        "colab_type": "code",
        "outputId": "cdaf7297-3435-4524-ad85-dfac02605a83",
        "colab": {
          "base_uri": "https://localhost:8080/",
          "height": 85
        }
      },
      "source": [
        "!pip install imageio\n",
        "\n",
        "import scipy.misc\n",
        "import matplotlib.pyplot as plt\n",
        "from matplotlib import cm\n",
        "import numpy as np\n",
        "from imageio import imread\n",
        "from ipywidgets import interact, FloatSlider\n",
        "\n",
        "%matplotlib inline\n",
        "\n",
        "def grayscale(img):\n",
        "    \"\"\"\n",
        "    Чтобы привести к серому мы просто возьмем красный канал)\n",
        "    \"\"\"\n",
        "    return img[:, :, 0]\n",
        "\n",
        "def show_img(img):\n",
        "    \"\"\"\n",
        "    Красиво выводит картинку с помощью matplotlib\n",
        "    \"\"\"\n",
        "    plt.figure(figsize=(10, 6))\n",
        "    if len(img.shape) == 2:\n",
        "        plt.imshow(img, cmap=cm.Greys_r)\n",
        "    else:\n",
        "        plt.imshow(img)\n",
        "    plt.axis('off')\n",
        "    plt.show()\n",
        "    \n",
        "def seed_random(size, seed):\n",
        "    np.random.seed(seed)\n",
        "    return np.random.normal(size=size)\n",
        "\n",
        "def load_img(img_path):\n",
        "    return imread(img_path) / 255"
      ],
      "execution_count": 0,
      "outputs": [
        {
          "output_type": "stream",
          "text": [
            "Requirement already satisfied: imageio in /usr/local/lib/python3.6/dist-packages (2.4.1)\n",
            "Requirement already satisfied: numpy in /usr/local/lib/python3.6/dist-packages (from imageio) (1.16.3)\n",
            "Requirement already satisfied: pillow in /usr/local/lib/python3.6/dist-packages (from imageio) (4.3.0)\n",
            "Requirement already satisfied: olefile in /usr/local/lib/python3.6/dist-packages (from pillow->imageio) (0.46)\n"
          ],
          "name": "stdout"
        }
      ]
    },
    {
      "cell_type": "code",
      "metadata": {
        "scrolled": false,
        "id": "LwUK96lCGnFD",
        "colab_type": "code",
        "colab": {}
      },
      "source": [
        "# Загрузим картинку\n",
        "gray_img = grayscale(load_img('./img.jpeg'))\n",
        "show_img(gray_img)"
      ],
      "execution_count": 0,
      "outputs": []
    },
    {
      "cell_type": "code",
      "metadata": {
        "code_folding": [],
        "id": "lnrn5-XFGnFH",
        "colab_type": "code",
        "outputId": "f5194a66-d3d2-4a70-a7e7-4681b82ab583",
        "colab": {
          "base_uri": "https://localhost:8080/",
          "height": 129
        }
      },
      "source": [
        "def convolve(img, kernel):\n",
        "    \"\"\"\n",
        "    Эта функция будет принимать на вход массив с числами, характеризующими картинку \n",
        "    img.shape = (y, x), и kernel.shape = (y, x).\n",
        "    Это самый простой вариант функции, которая работает только с серыми картинками (картинками с одним каналом).\n",
        "    Свертка должна производиться без padding и stride, добавим их позже.\n",
        "    Так как у нас один кернел, то и канал у выходной картинки будет один.\n",
        "    Ничего кроме свертки проихводить не нужно, ни добавлять bias, ни применять функцию активации.\n",
        "    \"\"\"\n",
        "    kernel_y, kernel_x = kernel.shape[:2]\n",
        "    img_y, img_x = img.shape[:2]\n",
        "\n",
        "    result = np.zeros((img_y - kernel_y + 1, img_x - kernel_x + 1))\n",
        "    # поитерируемся по x и y\n",
        "    <Ваш код здесь>\n",
        "    \n",
        "    return result"
      ],
      "execution_count": 0,
      "outputs": [
        {
          "output_type": "error",
          "ename": "SyntaxError",
          "evalue": "ignored",
          "traceback": [
            "\u001b[0;36m  File \u001b[0;32m\"<ipython-input-1-64348b80a537>\"\u001b[0;36m, line \u001b[0;32m15\u001b[0m\n\u001b[0;31m    <Ваш код здесь>\u001b[0m\n\u001b[0m    ^\u001b[0m\n\u001b[0;31mSyntaxError\u001b[0m\u001b[0;31m:\u001b[0m invalid syntax\n"
          ]
        }
      ]
    },
    {
      "cell_type": "markdown",
      "metadata": {
        "id": "GYGhhSVVGnFM",
        "colab_type": "text"
      },
      "source": [
        "Теперь протестируем нашу свертку с фильтрами. Если Вы последовали рекомендации и написали ее через вложенные for циклы, то работать будет долго, порядка 10 секунд. "
      ]
    },
    {
      "cell_type": "code",
      "metadata": {
        "code_folding": [],
        "id": "n3PL_C0SGnFN",
        "colab_type": "code",
        "colab": {}
      },
      "source": [
        "# применим размывающий фильтр\n",
        "blur_filter = np.array([[0.0625, 0.125, 0.0625],\n",
        "                           [0.125, 0.25, 0.125],\n",
        "                           [0.0625, 0.125, 0.0625]])\n",
        "\n",
        "sharpened_img = convolve(gray_img, blur_filter).clip(0, 1)\n",
        "show_img(sharpened_img)"
      ],
      "execution_count": 0,
      "outputs": []
    },
    {
      "cell_type": "code",
      "metadata": {
        "code_folding": [],
        "id": "K7TYP60ZGnFQ",
        "colab_type": "code",
        "colab": {}
      },
      "source": [
        "# применим фильтр, увеличивающий резкость\n",
        "sharpen_filter = np.array([[0, -1, 0],\n",
        "                           [-1, 5, -1],\n",
        "                           [0, -1, 0]])\n",
        "\n",
        "sharpened_img = convolve(gray_img, sharpen_filter).clip(0, 1)\n",
        "show_img(sharpened_img)"
      ],
      "execution_count": 0,
      "outputs": []
    },
    {
      "cell_type": "code",
      "metadata": {
        "code_folding": [],
        "id": "GYNiDBX2GnFT",
        "colab_type": "code",
        "colab": {}
      },
      "source": [
        "# применим фильтр, оставляющий границы объектов\n",
        "outline_filter = np.array([[-1, -1, -1],\n",
        "                           [-1, 8, -1],\n",
        "                           [-1, -1, -1]])\n",
        "\n",
        "outline_img = convolve(gray_img, outline_filter).clip(0, 1)\n",
        "show_img(outline_img)"
      ],
      "execution_count": 0,
      "outputs": []
    },
    {
      "cell_type": "markdown",
      "metadata": {
        "id": "y0P5gu4tGnFW",
        "colab_type": "text"
      },
      "source": [
        "Надеюсь, что у Вас получилось и все работает, как надо. Теперь нужно получить ответ, который мы сможем проверить в Canvas. Так как мы не хотим, чтобы Вы пользовались в этом задании сверткой из pytorch, то нужно как-то изменить внутреннее поведение свертки. В свертке мы суммируем попарные произведения чисел из картинки и из фильтра, изменим это. \n",
        "\n",
        "__!!!Замените сумму на произведение, примените измененную свертку к gray_img с фильтром outline_filter и введите в ответ на первое задание на Канвасе сумму всех пикселей в получившейся картинке, клипать не нужно!!!__"
      ]
    },
    {
      "cell_type": "code",
      "metadata": {
        "code_folding": [],
        "id": "T1DcQoArGnFX",
        "colab_type": "code",
        "outputId": "63650724-65f4-4fdf-c514-7f1524147a75",
        "colab": {}
      },
      "source": [
        "def my_operation(img, kernel):\n",
        "    \"\"\"\n",
        "    Скопируйте сюда реализацию свертки, которую Вы сделали выше и замените сумму на произвдение.\n",
        "    Это очень просто сделать, если свертка реализована как два вложенных цикла\n",
        "    \"\"\"\n",
        "    kernel_y, kernel_x = kernel.shape[:2]\n",
        "    img_y, img_x = img.shape[:2]\n",
        "\n",
        "    <Ваш код здесь>\n",
        "    \n",
        "    return result"
      ],
      "execution_count": 0,
      "outputs": [
        {
          "output_type": "error",
          "ename": "SyntaxError",
          "evalue": "invalid syntax (<ipython-input-2-6b7d789ade1c>, line 10)",
          "traceback": [
            "\u001b[0;36m  File \u001b[0;32m\"<ipython-input-2-6b7d789ade1c>\"\u001b[0;36m, line \u001b[0;32m10\u001b[0m\n\u001b[0;31m    <Ваш код здесь>\u001b[0m\n\u001b[0m    ^\u001b[0m\n\u001b[0;31mSyntaxError\u001b[0m\u001b[0;31m:\u001b[0m invalid syntax\n"
          ]
        }
      ]
    },
    {
      "cell_type": "code",
      "metadata": {
        "id": "R6c718sVGnFb",
        "colab_type": "code",
        "outputId": "31ee6815-91b4-4ca7-e00d-324c78806465",
        "colab": {}
      },
      "source": [
        "# применим новую свертку и возьмем сумму\n",
        "<Ваш код здесь>"
      ],
      "execution_count": 0,
      "outputs": [
        {
          "output_type": "error",
          "ename": "SyntaxError",
          "evalue": "invalid syntax (<ipython-input-3-e35f1a195aa4>, line 2)",
          "traceback": [
            "\u001b[0;36m  File \u001b[0;32m\"<ipython-input-3-e35f1a195aa4>\"\u001b[0;36m, line \u001b[0;32m2\u001b[0m\n\u001b[0;31m    <Ваш код здесь>\u001b[0m\n\u001b[0m    ^\u001b[0m\n\u001b[0;31mSyntaxError\u001b[0m\u001b[0;31m:\u001b[0m invalid syntax\n"
          ]
        }
      ]
    },
    {
      "cell_type": "markdown",
      "metadata": {
        "id": "zq1AfqrdGnFe",
        "colab_type": "text"
      },
      "source": [
        "## Свертка для извлечения локальной информации"
      ]
    },
    {
      "cell_type": "markdown",
      "metadata": {
        "id": "z25YaUWaGnFf",
        "colab_type": "text"
      },
      "source": [
        "**[Advanced]**\n",
        "\n",
        "Если еще раз посмотреть на определение свертки, то мы видим, что ее значение в точке является взвешенной суммой значений функции $f(x)$, но с одним интересным свойством, чтобы получить значение свертки в точке x, мы двигаем функцию $g(x)$, которая и задает веса, на х. (Чуть позже будет иллюстрация, которая поможет понять, что это значит).\n",
        "$$(f*g)(x) = \\int \\limits^{+\\infty}_{-\\infty} f(\\tau)g(x - \\tau) d\\tau$$\n",
        "\n",
        "\n",
        "**[Not advanced]**\n",
        "\n",
        "\n",
        "Теперь вернемся к сверткам в нейронных сетях. На лекции было сказано, что сверточные слои намного лучше обрабатывают картинки, чем полносвязные. Причина в том, что сверточные слои эксплуатируют внешние знания о структуре данных:\n",
        "\n",
        "* Пиксели находящиеся рядом намного сильнее связаны между собой, чем дальние.\n",
        "* Мы можем сдвинуть объект на картинке и он останется собой.\n",
        "\n",
        "Эти предположения можно переформулировать в более сжатом виде: в данных важна именно локальная структура. Такие жесткие ограничения позволяют сверточным слоям использовать намного меньше весов, применяя один и тот же небольшой фильтр ко всем частям картинки. Это, в свою очередь, упрощает обучение нейронной сети."
      ]
    },
    {
      "cell_type": "markdown",
      "metadata": {
        "id": "h9HlHk-QGnFg",
        "colab_type": "text"
      },
      "source": [
        "## Свертка для нахождения похожих паттернов"
      ]
    },
    {
      "cell_type": "markdown",
      "metadata": {
        "id": "WzCYjxzzGnFh",
        "colab_type": "text"
      },
      "source": [
        "Давайте посмотрим на небольшую иллюстрацию того, как просчитывается свертка в одномерном случае"
      ]
    },
    {
      "cell_type": "code",
      "metadata": {
        "code_folding": [
          0,
          7
        ],
        "id": "P0Lkm6TgGnFi",
        "colab_type": "code",
        "colab": {}
      },
      "source": [
        "def f(x):\n",
        "    \"\"\"\n",
        "    Просто красивая функция.\n",
        "    \"\"\"\n",
        "    return 1/(2 + x**2 * (0.1 + np.sin(x)**2))\n",
        "\n",
        "\n",
        "def g(x):\n",
        "    \"\"\"\n",
        "    Эта функци - немного измененная плотность нормального распределения, потому что она тоже красивая.\n",
        "    \"\"\"\n",
        "    return np.exp(-x**2/2) / np.sqrt(2 * np.pi)\n",
        "\n",
        "\n",
        "x = np.linspace(-10, 10, 100)\n",
        "@interact(g_offset=FloatSlider(min=-10, max=10, step=0.5))\n",
        "def plot_and_calc(g_offset):\n",
        "    plt.figure(figsize=(10, 7))\n",
        "    f_val = f(x)\n",
        "    g_val = g(g_offset - x)\n",
        "    mul_vals = f_val * g_val\n",
        "\n",
        "    plt.plot(x, f_val, label='f(x)')\n",
        "    plt.plot(x, g_val, label='g(x)')\n",
        "    plt.plot(x, mul_vals, label='f(x)*g(x)')\n",
        "    plt.gca().fill_between(x, 0, mul_vals)\n",
        "    plt.legend()\n",
        "\n",
        "    plt.text(-10.5, 0.55,\n",
        "             \"Approximate conv value at {} = {:.2f}\".format(g_offset, mul_vals.sum()))"
      ],
      "execution_count": 0,
      "outputs": []
    },
    {
      "cell_type": "markdown",
      "metadata": {
        "id": "-Hc5GnPbGnFl",
        "colab_type": "text"
      },
      "source": [
        "Перемещая ползунок, Вы видите как перемещается функция $g(x)$, задающая веса для аггрегирования. Значение свертки в точке, которую Вы задаете g_offset, равно площади под кривой $f(x)\\cdot g(x)$.\n",
        "\n",
        "Легко заметить, что чем лучше совпадают две функции, чем более они похожи, тем выше значение свертки. Максимум доостигается при нулевом сдвиге $g(x)$, когда совпадают два толстых пика. Но большие значения получаются и при совпадении малых пиков с $g(x)$. \n",
        "\n",
        "**Посмотрев на значения свертки мы можем догадаться, где на функции $f(x)$ находятся пики.**"
      ]
    },
    {
      "cell_type": "markdown",
      "metadata": {
        "id": "P5uzZB1BGnFl",
        "colab_type": "text"
      },
      "source": [
        "Использование свертки для нахождения каких-то особых частей в функции - одна из самых интересных трактовок с точки зрения Deep Learning. В случае картинок в качестве $f(x)$ выступает картинка, а в качестве $g(x)$ кернел, который мы перемещаем по картинке и ищем совпадения. Только кернелы не заданы заранее, а выучиваются самой нейронной сетью в зависимости от того, какие паттерны ей понадобятся. \n",
        "\n",
        "У хорошо обученных нейросетей на первом слое можно увижеть паттерны, которые они распознают: \n",
        "<img src=\"http://cs231n.github.io/assets/nn3/cnnweights.jpg\" width=600>\n",
        "(Изображение взято из http://cs231n.github.io/neural-networks-3/#vis)"
      ]
    },
    {
      "cell_type": "markdown",
      "metadata": {
        "id": "CRtdGvwIGnFm",
        "colab_type": "text"
      },
      "source": [
        "# [Задание 2]"
      ]
    },
    {
      "cell_type": "markdown",
      "metadata": {
        "id": "x8ETT-mXGnFn",
        "colab_type": "text"
      },
      "source": [
        "<img src=\"https://i.imgflip.com/2yq5nl.jpg\">"
      ]
    },
    {
      "cell_type": "code",
      "metadata": {
        "id": "oZkCIfc8GnFo",
        "colab_type": "code",
        "colab": {}
      },
      "source": [
        "# Пришло время поиграть в сыщиков\n",
        "# Загрузите файл noisy_data.txt и с помощью свертки найдите в нем кресты(плюсики) высотой 5 и шириной 5.\n",
        "# Такие кресты состоят из одинаковых положительных чисел и их можно легко найти, подобрав нужный паттерн.\n",
        "# Все значения, кроме крестов, являются числами из нормального распределения со средним 0 и норм. отклонением 1\n",
        "noise = np.loadtxt('./noisy_data.txt')\n",
        "# Для начала зададим паттерн размера 5*5 для поиска.\n",
        "# Учитывая описание данных вверху, попробуйте подобрать нужный паттерн.\n",
        "pattern = <Ваш код здесь>\n",
        "\n",
        "# Лучше всего использовать свою свертку, написанную ранее.\n",
        "convolution_activation = <Ваш код здесь>"
      ],
      "execution_count": 0,
      "outputs": []
    },
    {
      "cell_type": "code",
      "metadata": {
        "id": "ko_EXM-8GnFr",
        "colab_type": "code",
        "colab": {}
      },
      "source": [
        "# Выберем среди активаций три наибольших (потому что крестов именно три :)\n",
        "# В нахождении индексов этих максимальных активаций Вам может помочь функция numpy.where и оператор сравнения\n",
        "<Ваш код здесь>"
      ],
      "execution_count": 0,
      "outputs": []
    },
    {
      "cell_type": "markdown",
      "metadata": {
        "id": "qo1YlH-dGnFw",
        "colab_type": "text"
      },
      "source": [
        "**!!!Чтобы получить ответ, Вы должны найти центры трех крестов и сложить все их координаты. Будьте внимательны, потому что координаты, которые вы получили выше могут не являются центрами крестов!!!**"
      ]
    },
    {
      "cell_type": "markdown",
      "metadata": {
        "id": "7Ox73PZ3GnFx",
        "colab_type": "text"
      },
      "source": [
        "## Сверточный слой"
      ]
    },
    {
      "cell_type": "markdown",
      "metadata": {
        "id": "CpnIcJNXGnFz",
        "colab_type": "text"
      },
      "source": [
        "Надеюсь, что вы уже поняли, что такое свертка и как она считается. Теперь перейдем к применению сверток в нейросетях. Для начала мы сами напишем свой сверточный слой. Вы уже писали свертку, но только для двумерной картинки,\n",
        "пришло время понять, как это делать для батча картинок с несколькими фильтрами. **Так как теперь у нашей картинки есть несколько каналов, то и фильтры теперь имеют несколько каналов, по одному на каждый канал входной картинки, чтобы их все так же можно было накладывать друг на друга, поэлементно умножать и складывать.**\n",
        "\n",
        "Сейчас вам предстоит написать ConvLayer(in_channels, out_channels, kernel_size). Я думаю, что лучше всего это получится сделать опираясь на иллюстрацию, находящуюся на этой странице http://cs231n.github.io/convolutional-networks (чтобы перейти к ней нажмите Ctrl+F и введите Convolution Demo)."
      ]
    },
    {
      "cell_type": "code",
      "metadata": {
        "id": "JOnnPFj_GnF0",
        "colab_type": "code",
        "outputId": "f877e9d1-2fdc-41b5-dd1d-22470de1d2dc",
        "colab": {}
      },
      "source": [
        "class ConvLayer:\n",
        "    def __init__(self, in_channels, out_channels, kernel_size):\n",
        "        self.in_channels = in_channels\n",
        "        self.out_channels = out_channels\n",
        "        self.kernel_size = kernel_size\n",
        "        \n",
        "        # Теперь инициализируем массив с кернелами\n",
        "        self.kernels =seed_random((out_channels, kernel_size, kernel_size, in_channels), 42)\n",
        "        # Чтобы разобраться, что здесь написано, вспомним, что происзодит в сверточном слое.\n",
        "        # 1) В сверточном слое применеяется несколько фильтров, каждый из них ищет в картинке какую-то особенность,\n",
        "        # каждый фильтр производит свою двумерную картинку, состоящую из активаций. На иллюстрации, которая \n",
        "        # приложена выше это как раз можно наблюдать. После этого каждая карта активаций становится каналом\n",
        "        # в новой катинке, которая и является выходом сети. Поэтому число фильтров равно числу выходных каналов.\n",
        "        # 2) При этом каждый фильтр содержит несколько шаблонов размера kernel_size*kernel_size, чтобы \n",
        "        # собираться информацию с каждого из входных каналов. Количество таких двумерных шаблонов равно количеству\n",
        "        # каналов во входной картинке. \n",
        "        self.biases = seed_random((out_channels), 13)\n",
        "        \n",
        "    def forward(self, X):       \n",
        "        # Инициализируем массив с реузльтатом работы всертки\n",
        "        res = np.zeros((X.shape[0], X.shape[1] - self.kernel_size + 1,\n",
        "                        X.shape[2] - self.kernel_size + 1, self.out_channels))\n",
        "        # используем четыре вложенных цикла, чтобы посчитать свертку. Сначала по картинкам в батче, потом по \n",
        "        # фильтрам, а потом по координатам. !!!Не забудьте добавить bias!!!\n",
        "        # применять функцию активации не нужно.\n",
        "        for i, img in enumerate(X):\n",
        "            <Ваш код здесь>\n",
        "        \n",
        "        return res"
      ],
      "execution_count": 0,
      "outputs": [
        {
          "output_type": "error",
          "ename": "SyntaxError",
          "evalue": "invalid syntax (<ipython-input-1-8969d563504d>, line 26)",
          "traceback": [
            "\u001b[0;36m  File \u001b[0;32m\"<ipython-input-1-8969d563504d>\"\u001b[0;36m, line \u001b[0;32m26\u001b[0m\n\u001b[0;31m    <Ваш код здесь>\u001b[0m\n\u001b[0m    ^\u001b[0m\n\u001b[0;31mSyntaxError\u001b[0m\u001b[0;31m:\u001b[0m invalid syntax\n"
          ]
        }
      ]
    },
    {
      "cell_type": "markdown",
      "metadata": {
        "id": "V5tasERfGnF5",
        "colab_type": "text"
      },
      "source": [
        "Чтобы протестировать свертку опять вернемся к картинке с котиком и попробуем сделать так, чтобы после применения фильтра резкости у нас получалась не серая картинка. Самый простой способ - применить фильтр отедеьно к каждому каналу. Для этого нужно сделать три кернела, каждый из которых работает только со своим каналом в исходной картинке."
      ]
    },
    {
      "cell_type": "code",
      "metadata": {
        "id": "D3k89BHDGnF6",
        "colab_type": "code",
        "colab": {}
      },
      "source": [
        "# Создадим наш слой\n",
        "conv = ConvLayer(3, 3, 3)\n",
        "r_filter = np.zeros((3, 3, 3))\n",
        "r_filter[:, :, 0] = blur_filter\n",
        "\n",
        "g_filter = np.zeros((3, 3, 3))\n",
        "g_filter[:, :, 1] = blur_filter\n",
        "\n",
        "b_filter = np.zeros((3, 3, 3))\n",
        "b_filter[:, :, 2] = blur_filter\n",
        "# Поставим в качестве кернелов фильтры, которые мы уже определили и применим к картинке\n",
        "# Мы добавляем им новое измерение, чтобы их можно было применять к трехмерным картинкам\n",
        "conv.kernels = np.array([r_filter, g_filter, b_filter])\n",
        "conv.biases = np.zeros((3))"
      ],
      "execution_count": 0,
      "outputs": []
    },
    {
      "cell_type": "code",
      "metadata": {
        "scrolled": false,
        "id": "O8nrA7qeGnF9",
        "colab_type": "code",
        "colab": {}
      },
      "source": [
        "img = load_img('./img.jpeg')\n",
        "res = conv.forward(img[np.newaxis, :, :, :])\n",
        "# Выведем размытую картинку\n",
        "show_img((res[0]).clip(0, 1))"
      ],
      "execution_count": 0,
      "outputs": []
    },
    {
      "cell_type": "markdown",
      "metadata": {
        "id": "loStoqcpGnF_",
        "colab_type": "text"
      },
      "source": [
        "# [Задание 3]"
      ]
    },
    {
      "cell_type": "markdown",
      "metadata": {
        "id": "aon37VnkGnGB",
        "colab_type": "text"
      },
      "source": [
        "А теперь протестируем, что вы правильно написали свертку и она хорошо работает. \n",
        "\n",
        "**!!!Как и в задании 1 скопируйте весь код свертки в класс ниже и замените сумму на умножение. (сумму на умножение нужно менять только внутри подсчета кернела, bias все так же нужно добавлять)!!!**\n",
        "\n",
        "**Создайте слой, применяющий модифицированную свертку с тремя фильтрами, примените ее к картинке с котиком и возьмите сумму всех чисел в выходе, клипать не нужно. (не забудьте добавить массиву img еще одно измерение, так как наш класс рассчитан на работу с батчами картинок)**"
      ]
    },
    {
      "cell_type": "code",
      "metadata": {
        "id": "K2i44vtoGnGB",
        "colab_type": "code",
        "colab": {}
      },
      "source": [
        "class ModifiedConvLayer:\n",
        "    def __init__(self, in_channels, out_channels, kernel_size):\n",
        "        self.in_channels = in_channels\n",
        "        self.out_channels = out_channels\n",
        "        self.kernel_size = kernel_size\n",
        "        \n",
        "        # Теперь инициализируем массив с кернелами\n",
        "        self.kernels =seed_random((out_channels, kernel_size, kernel_size, in_channels), 42)\n",
        "        self.biases = seed_random((out_channels), 13)\n",
        "        \n",
        "    def forward(self, X):       \n",
        "        # Инициализируем массив с реузльтатом работы всертки\n",
        "        res = np.zeros((X.shape[0], X.shape[1] - self.kernel_size + 1,\n",
        "                        X.shape[2] - self.kernel_size + 1, self.out_channels))\n",
        "        # испоьзуем четыре вложенных цикла, чтобы посчитать свертку. Сначала по картинкам в батче, потом по \n",
        "        # фильтрам, а потом по координатам. Не забудьте добавить bias!!!\n",
        "        <Ваш код здесь>\n",
        "        \n",
        "        return res"
      ],
      "execution_count": 0,
      "outputs": []
    },
    {
      "cell_type": "code",
      "metadata": {
        "id": "P715Wi7uGnGH",
        "colab_type": "code",
        "colab": {}
      },
      "source": [
        "# Создайте объект ModifiedConvLayer с тремя фильтрами и размером фильтров 3 и примените его к котику, а потом\n",
        "# посчитайте нужную статистику. Изменять сгенерированный в конструкторе фильтр не нужно.\n",
        "img = load_img('./img.jpeg')\n",
        "\n",
        "<Ваш код здесь>"
      ],
      "execution_count": 0,
      "outputs": []
    },
    {
      "cell_type": "markdown",
      "metadata": {
        "id": "AyOT0DExGnGJ",
        "colab_type": "text"
      },
      "source": [
        "## Pytorch Convolutions"
      ]
    },
    {
      "cell_type": "markdown",
      "metadata": {
        "id": "ST6co4gxGnGK",
        "colab_type": "text"
      },
      "source": [
        "### Реализации сверток\n",
        "Вы уже достаточно много поработали со сверткой, реализованной на for циклах, и понимаете, что она работает слишком долго. Обработка одной кратинки среднего размера занимает около 10 секунд, что непозволительно долго. В реальном мире свертки реализованы с помощью продвинутых алгоритмов. \n",
        "\n",
        "Для маленьких размеров фильтров обычно используется метод, в котором свертка заменяется на одно матричное умножение. Это можно сделать, потому что на свертку можно смотреть как на полносвязный слой с некоторыми ограничениями.\n",
        "\n",
        "Для больших фильтров используется агоритм быстрого преобразования Фурье, с помощью которого также можно выполнить свертку.\n",
        "\n",
        "Это достатчоно сложные вещи и поэтому не стоит обраoать на них внимание, если вы только начали изучать Deep Learning. Если же Вам интересно, то на arxiv есть статья про то, какие эффективные методы для подсчета сверток существуют https://arxiv.org/abs/1509.09308."
      ]
    },
    {
      "cell_type": "markdown",
      "metadata": {
        "id": "vp-4auh5GnGM",
        "colab_type": "text"
      },
      "source": [
        "### PyTorch\n",
        "\n",
        "Хорошая новость заключается в том, что в PyTorch уже есть быстрые свертки и нам не придется писать их самим. \n",
        "\n",
        "Давайте потренируемся писать сверточные нейросети в PyTorch."
      ]
    },
    {
      "cell_type": "markdown",
      "metadata": {
        "id": "E5mGZdmXGnGN",
        "colab_type": "text"
      },
      "source": [
        "# [Задание 4 и 5]\n",
        "\n",
        "**4. В этом задании мы хотим выбрать лучшую модель для работы с cifar10. Ниже будет несколько возможных архитектур, реализуйте их, потренируйте по 3 эпохи и выберите ту, которая в конце обучения достигает наименьшего лосса на тренировочном датасете (имеется в виду последний выведенный функцией train лосс)**\n",
        "\n",
        "**5. Ответом на задание 5 является лосс на !!!тестовом!!! датасете модели, которую Вы выбрали в задании 4. (средений лосс по кртинке, который выводит print_test_loss)**"
      ]
    },
    {
      "cell_type": "code",
      "metadata": {
        "id": "TU-K0w7BGnGO",
        "colab_type": "code",
        "colab": {}
      },
      "source": [
        "import torch.nn as nn\n",
        "import torch.nn.functional as F\n",
        "import torch\n",
        "import torchvision\n",
        "from torchvision import transforms\n",
        "from tqdm import tqdm_notebook"
      ],
      "execution_count": 0,
      "outputs": []
    },
    {
      "cell_type": "code",
      "metadata": {
        "id": "FqWcskLaGnGR",
        "colab_type": "code",
        "colab": {}
      },
      "source": [
        "transform = transforms.Compose(\n",
        "    [transforms.ToTensor(),\n",
        "     transforms.Normalize((0.5, 0.5, 0.5), (0.5, 0.5, 0.5))])\n",
        "\n",
        "trainset = torchvision.datasets.CIFAR10(root='./data', train=True,\n",
        "                                        download=True, transform=transform)\n",
        "trainloader = torch.utils.data.DataLoader(trainset, batch_size=4,\n",
        "                                          shuffle=True, num_workers=2)\n",
        "\n",
        "testset = torchvision.datasets.CIFAR10(root='./data', train=False,\n",
        "                                       download=True, transform=transform)\n",
        "testloader = torch.utils.data.DataLoader(testset, batch_size=4,\n",
        "                                         shuffle=False, num_workers=2)\n",
        "\n",
        "classes = ('plane', 'car', 'bird', 'cat',\n",
        "           'deer', 'dog', 'frog', 'horse', 'ship', 'truck')"
      ],
      "execution_count": 0,
      "outputs": []
    },
    {
      "cell_type": "code",
      "metadata": {
        "code_folding": [],
        "id": "iRGU4srbGnGU",
        "colab_type": "code",
        "colab": {}
      },
      "source": [
        "def print_test_loss(net):\n",
        "    # выбираем функцию потерь\n",
        "    loss_fn = torch.nn.CrossEntropyLoss()\n",
        "    \n",
        "    running_loss = 0.0\n",
        "    for i, batch in enumerate(tqdm_notebook(testloader)):\n",
        "        # так получаем текущий батч\n",
        "        <Ваш код здесь>\n",
        "\n",
        "        # forward + loss calc\n",
        "        <Ваш код здесь>\n",
        "\n",
        "        # добавляем лосс\n",
        "        <Ваш код здесь>\n",
        "    print(\"Test Loss: {}\".format(running_loss / len(testloader)))\n",
        "    \n",
        "def train(net):\n",
        "    # выбираем функцию потерь\n",
        "    <Ваш код здесь>\n",
        "\n",
        "    # выбираем алгоритм оптимизации и learning_rate\n",
        "    learning_rate = 1e-4\n",
        "    optimizer = torch.optim.Adam(net.parameters(), lr=learning_rate)\n",
        "\n",
        "    # итерируемся\n",
        "    for epoch in tqdm_notebook(range(3)):\n",
        "        running_loss = 0.0\n",
        "        for i, batch in enumerate(tqdm_notebook(trainloader)):\n",
        "            # так получаем текущий батч\n",
        "            <Ваш код здесь>\n",
        "\n",
        "            # обнуляем градиент\n",
        "            <Ваш код здесь>\n",
        "\n",
        "            # forward + backward + optimize\n",
        "            <Ваш код здесь>\n",
        "\n",
        "            # добавим лосс\n",
        "            <Ваш код здесь>\n",
        "            # выведем качество каждые 2000 батчей\n",
        "            if i % 2000 == 1999:\n",
        "                print('[%d, %5d] loss: %.3f' %\n",
        "                      (epoch + 1, i + 1, running_loss / 2000))\n",
        "                running_loss = 0.0\n",
        "\n",
        "\n",
        "    print('Обучение закончено')\n",
        "    return net"
      ],
      "execution_count": 0,
      "outputs": []
    },
    {
      "cell_type": "markdown",
      "metadata": {
        "id": "AUfEH7_kGnGW",
        "colab_type": "text"
      },
      "source": [
        "# Простые архитектуры"
      ]
    },
    {
      "cell_type": "markdown",
      "metadata": {
        "id": "oRiWK6b7GnGX",
        "colab_type": "text"
      },
      "source": [
        "**!!!ВАЖНО, Чтобы добиться воспроизводимости результатов, вставьте перед кажджым объявлением слоя\n",
        "torch.manual_seed(0) + запукайте код в колабе + не используйте GPU!!!**"
      ]
    },
    {
      "cell_type": "markdown",
      "metadata": {
        "id": "gR1aXzGrGnGY",
        "colab_type": "text"
      },
      "source": [
        "#### Архитектура 1:\n",
        "Активация - ReLu\n",
        "1. Conv(in_channels=3, out_channels=6, kernel_size=5)\n",
        "2. MaxPool(kernel_size=2, stride=2)\n",
        "3. Conv(in_channels=6, out_channels=16, kernel_size=5)\n",
        "4. MaxPool(kernel_size=2, stride=2)\n",
        "4. Linear(output=120)\n",
        "5. Linear(output=84)\n",
        "6. Linear(output=10)"
      ]
    },
    {
      "cell_type": "code",
      "metadata": {
        "code_folding": [],
        "collapsed": true,
        "id": "sdd3HFIAGnGZ",
        "colab_type": "code",
        "colab": {}
      },
      "source": [
        "class SimpleConvNet1(nn.Module):\n",
        "    def __init__(self):\n",
        "        # вызов конструктора предка\n",
        "        super(SimpleConvNet1, self).__init__()\n",
        "        # необходмо заранее знать, сколько каналов у картинки (сейчас = 1),\n",
        "        # которую будем подавать в сеть, больше ничего\n",
        "        # про входящие картинки знать не нужно\n",
        "        <Ваш код здесь>\n",
        "\n",
        "    def forward(self, x):\n",
        "        <Ваш код здесь>\n",
        "        return x"
      ],
      "execution_count": 0,
      "outputs": []
    },
    {
      "cell_type": "code",
      "metadata": {
        "collapsed": true,
        "scrolled": true,
        "id": "x03waDHKGnGb",
        "colab_type": "code",
        "colab": {}
      },
      "source": [
        "net1 = train(SimpleConvNet1())"
      ],
      "execution_count": 0,
      "outputs": []
    },
    {
      "cell_type": "code",
      "metadata": {
        "collapsed": true,
        "id": "M6TZq4HzGnGd",
        "colab_type": "code",
        "colab": {}
      },
      "source": [
        "print_test_loss(net1)"
      ],
      "execution_count": 0,
      "outputs": []
    },
    {
      "cell_type": "markdown",
      "metadata": {
        "id": "T3JVuBZYGnGf",
        "colab_type": "text"
      },
      "source": [
        "**!!!ВАЖНО, Чтобы добиться воспроизводимости результатов, вставьте перед кажджым объявлением слоя\n",
        "torch.manual_seed(0)!!!**"
      ]
    },
    {
      "cell_type": "markdown",
      "metadata": {
        "id": "pHj8VJd9GnGg",
        "colab_type": "text"
      },
      "source": [
        "\n",
        "#### Архитектура 2:\n",
        "В этой архитектуре мы немного поэкспериментируем и используем необычные вещи, а именно активацию tanh и вместо MaxPooling используем AveragePooling.\n",
        "\n",
        "Активация - tanh\n",
        "1. Conv(in_channels=3, out_channels=6, kernel_size=5)\n",
        "2. AvgPool(kernel_size=2, stride=2)\n",
        "3. Conv(in_channels=6, out_channels=16, kernel_size=5)\n",
        "4. AvgPool(kernel_size=2, stride=2)\n",
        "4. Linear(output=120)\n",
        "5. Linear(output=84)\n",
        "6. Linear(output=10)"
      ]
    },
    {
      "cell_type": "code",
      "metadata": {
        "code_folding": [],
        "id": "2DVhNkPDGnGh",
        "colab_type": "code",
        "colab": {}
      },
      "source": [
        "class SimpleConvNet2(nn.Module):\n",
        "    def __init__(self):\n",
        "        # вызов конструктора предка\n",
        "        super(SimpleConvNet2, self).__init__()\n",
        "        # необходмо заранее знать, сколько каналов у картинки (сейчас = 1),\n",
        "        # которую будем подавать в сеть, больше ничего\n",
        "        # про входящие картинки знать не нужно\n",
        "        <Ваш код здесь>\n",
        "        \n",
        "    def forward(self, x):\n",
        "        <Ваш код здесь>\n",
        "        \n",
        "        return x"
      ],
      "execution_count": 0,
      "outputs": []
    },
    {
      "cell_type": "code",
      "metadata": {
        "scrolled": false,
        "id": "lDGcR-tYGnGk",
        "colab_type": "code",
        "colab": {}
      },
      "source": [
        "net2 = train(SimpleConvNet2())"
      ],
      "execution_count": 0,
      "outputs": []
    },
    {
      "cell_type": "code",
      "metadata": {
        "id": "wm4l-2UBGnGm",
        "colab_type": "code",
        "colab": {}
      },
      "source": [
        "print_test_loss(net2)"
      ],
      "execution_count": 0,
      "outputs": []
    },
    {
      "cell_type": "markdown",
      "metadata": {
        "id": "AbXdIA5MGnGo",
        "colab_type": "text"
      },
      "source": [
        "# Более сложные архитектуры"
      ]
    },
    {
      "cell_type": "markdown",
      "metadata": {
        "id": "VQxCZAinGnGp",
        "colab_type": "text"
      },
      "source": [
        "**!!!ВАЖНО, Чтобы добиться воспроизводимости результатов, вставьте перед кажджым объявлением слоя\n",
        "torch.manual_seed(0)!!!**"
      ]
    },
    {
      "cell_type": "markdown",
      "metadata": {
        "id": "1U4EXT3_GnGq",
        "colab_type": "text"
      },
      "source": [
        "#### Архитектура 3:\n",
        "А здесь мы добавим еще сверточных слоев и уберем один полносвязный!\n",
        "\n",
        "Активация - ReLu\n",
        "1. Conv(in_channels=3, out_channels=64, kernel_size=3)\n",
        "* Conv(in_channels=64, out_channels=64, kernel_size=3)\n",
        "* MaxPool(kernel_size=2, stride=2)\n",
        "* Conv(in_channels=64, out_channels=64, kernel_size=3)\n",
        "* Conv(in_channels=64, out_channels=64, kernel_size=3)\n",
        "* MaxPool(kernel_size=2, stride=2)\n",
        "* Linear(output=60)\n",
        "* Linear(output=10)"
      ]
    },
    {
      "cell_type": "code",
      "metadata": {
        "id": "2_rwgOpcGnGq",
        "colab_type": "code",
        "colab": {}
      },
      "source": [
        "class SimpleConvNet3(nn.Module):\n",
        "    def __init__(self):\n",
        "        # вызов конструктора предка\n",
        "        super(SimpleConvNet3, self).__init__()\n",
        "        # необходмо заранее знать, сколько каналов у картинки (сейчас = 1),\n",
        "        # которую будем подавать в сеть, больше ничего\n",
        "        # про входящие картинки знать не нужно\n",
        "        <Ваш код здесь>\n",
        "        \n",
        "    def forward(self, x):\n",
        "        <Ваш код здесь>\n",
        "        \n",
        "        return x"
      ],
      "execution_count": 0,
      "outputs": []
    },
    {
      "cell_type": "code",
      "metadata": {
        "id": "PxBxY2KkGnGs",
        "colab_type": "code",
        "colab": {}
      },
      "source": [
        "net3 = train(SimpleConvNet3())"
      ],
      "execution_count": 0,
      "outputs": []
    },
    {
      "cell_type": "code",
      "metadata": {
        "id": "UtJeYyjiGnGu",
        "colab_type": "code",
        "colab": {}
      },
      "source": [
        "print_test_loss(net3)"
      ],
      "execution_count": 0,
      "outputs": []
    },
    {
      "cell_type": "markdown",
      "metadata": {
        "id": "ulIJN5lWGnGx",
        "colab_type": "text"
      },
      "source": [
        "**!!!ВАЖНО, Чтобы добиться воспроизводимости результатов, вставьте перед кажджым объявлением слоя\n",
        "torch.manual_seed(0)!!!**"
      ]
    },
    {
      "cell_type": "markdown",
      "metadata": {
        "id": "ysoVYiPqGnGx",
        "colab_type": "text"
      },
      "source": [
        "#### Архитектура 4:\n",
        "А что если мы пойдем еще глубже!!! (Осторожнее, тренироваться будет час, поэтому обновите подключение к ноутбуку, прежде чем запускать ячейку, иначе может быть таймаут)\n",
        "\n",
        "\n",
        "Активация ReLu\n",
        "1. Conv(in_channels=3, out_channels=64, kernel_size=3)\n",
        "* Conv(in_channels=64, out_channels=64, kernel_size=3)\n",
        "1. Conv(in_channels=64, out_channels=64, kernel_size=3)\n",
        "* Conv(in_channels=64, out_channels=64, kernel_size=3)\n",
        "* MaxPool(kernel_size=2, stride=2)\n",
        "* Conv(in_channels=64, out_channels=128, kernel_size=3)\n",
        "* Conv(in_channels=128, out_channels=128, kernel_size=3)\n",
        "1. Conv(in_channels=128, out_channels=128, kernel_size=3)\n",
        "* Conv(in_channels=128, out_channels=128, kernel_size=3)\n",
        "* MaxPool(kernel_size=2, stride=2)\n",
        "* Linear(output=10)"
      ]
    },
    {
      "cell_type": "code",
      "metadata": {
        "id": "MyijC7GPGnGy",
        "colab_type": "code",
        "colab": {}
      },
      "source": [
        "class SimpleConvNet4(nn.Module):\n",
        "    def __init__(self):\n",
        "        # вызов конструктора предка\n",
        "        super(SimpleConvNet4, self).__init__()\n",
        "        # которую будем подавать в сеть, больше ничего\n",
        "        # про входящие картинки знать не нужно\n",
        "        <Ваш код здесь>\n",
        "        \n",
        "    def forward(self, x):\n",
        "        <Ваш код здесь>\n",
        "        \n",
        "        return x"
      ],
      "execution_count": 0,
      "outputs": []
    },
    {
      "cell_type": "code",
      "metadata": {
        "id": "KVpf7Y3OGnG1",
        "colab_type": "code",
        "colab": {}
      },
      "source": [
        "net4 = train(SimpleConvNet4())"
      ],
      "execution_count": 0,
      "outputs": []
    },
    {
      "cell_type": "code",
      "metadata": {
        "id": "Hb_VCKECGnG5",
        "colab_type": "code",
        "colab": {}
      },
      "source": [
        "print_test_loss(net4)"
      ],
      "execution_count": 0,
      "outputs": []
    },
    {
      "cell_type": "code",
      "metadata": {
        "id": "XHqfI8vOGnG8",
        "colab_type": "code",
        "colab": {}
      },
      "source": [
        ""
      ],
      "execution_count": 0,
      "outputs": []
    }
  ]
}